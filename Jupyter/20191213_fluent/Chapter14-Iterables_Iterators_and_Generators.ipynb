{
 "cells": [
  {
   "cell_type": "markdown",
   "metadata": {},
   "source": [
    "# Chapter 14. Iterables, Iterators, and Generators"
   ]
  },
  {
   "cell_type": "markdown",
   "metadata": {},
   "source": [
    "# Sentence Take #1: A Sequence of Words"
   ]
  },
  {
   "cell_type": "code",
   "execution_count": 1,
   "metadata": {
    "ExecuteTime": {
     "end_time": "2019-12-29T16:58:27.541264Z",
     "start_time": "2019-12-29T16:58:27.535707Z"
    }
   },
   "outputs": [],
   "source": [
    "import re\n",
    "import reprlib\n",
    "\n",
    "RE_WORD = re.compile('\\w+')\n",
    "\n",
    "\n",
    "class Sentence:\n",
    "    def __init__(self, text):\n",
    "        self.text = text\n",
    "        self.words = RE_WORD.findall(text)\n",
    "    \n",
    "    def __getitem__(self, index):\n",
    "        return self.words[index]\n",
    "    \n",
    "    def __len__(self):\n",
    "        return len(self.words)\n",
    "    \n",
    "    def __repr__(self):\n",
    "        return 'Sentence(%s)' % reprlib.repr(self.text)"
   ]
  },
  {
   "cell_type": "code",
   "execution_count": 2,
   "metadata": {
    "ExecuteTime": {
     "end_time": "2019-12-29T16:58:48.642035Z",
     "start_time": "2019-12-29T16:58:48.631004Z"
    }
   },
   "outputs": [
    {
     "data": {
      "text/plain": [
       "Sentence('\"The time ha... Walrus said,')"
      ]
     },
     "execution_count": 2,
     "metadata": {},
     "output_type": "execute_result"
    }
   ],
   "source": [
    "s = Sentence('\"The time has come,\" the Walrus said,')\n",
    "s"
   ]
  },
  {
   "cell_type": "code",
   "execution_count": 3,
   "metadata": {
    "ExecuteTime": {
     "end_time": "2019-12-29T16:59:08.308499Z",
     "start_time": "2019-12-29T16:59:08.303557Z"
    }
   },
   "outputs": [
    {
     "name": "stdout",
     "output_type": "stream",
     "text": [
      "The\n",
      "time\n",
      "has\n",
      "come\n",
      "the\n",
      "Walrus\n",
      "said\n"
     ]
    }
   ],
   "source": [
    "for word in s:\n",
    "    print(word)"
   ]
  },
  {
   "cell_type": "code",
   "execution_count": 5,
   "metadata": {
    "ExecuteTime": {
     "end_time": "2019-12-29T16:59:19.058717Z",
     "start_time": "2019-12-29T16:59:19.052276Z"
    }
   },
   "outputs": [
    {
     "data": {
      "text/plain": [
       "['The', 'time', 'has', 'come', 'the', 'Walrus', 'said']"
      ]
     },
     "execution_count": 5,
     "metadata": {},
     "output_type": "execute_result"
    }
   ],
   "source": [
    "list(s)"
   ]
  },
  {
   "cell_type": "markdown",
   "metadata": {
    "ExecuteTime": {
     "end_time": "2019-12-29T17:01:04.023203Z",
     "start_time": "2019-12-29T17:01:04.020635Z"
    }
   },
   "source": [
    "## Why Sequences Are Iterable: The iter Function\n",
    "The interpreter calls `iter(x)`\n",
    "1. Checks Whether the object implements `__iter__`, and calls that to obtain an iterator.\n",
    "1. if `__iter__` is not implemented, but `__getitem__` is implemented, Python creates an iterator that attempts to fetch items in order, starting from index 0\n",
    "1. If that fails, Python raises `TypeError`, usually saying \"C object is not iterable,\" where C is the class of the target object.\n",
    "The best way to check if an object x is an iterator is to call `isinstance(x, abc.Iterator)` because of `Iterator.__subclasshook__`"
   ]
  },
  {
   "cell_type": "markdown",
   "metadata": {},
   "source": [
    "### Iterable\n",
    "- Any object from which the `iter` built-in funnction can obtain an iterator.\n",
    "- Objects implementing an `__iter__` method returning an `iterator` are iterable.\n",
    "- Sequences are always iterable; as are objects implementing a `__getitem__` method that takes 0-based indexes.\n",
    "\n",
    "<br>\n",
    "\n",
    "The most accurate way to check whether an object x is terable is to call `iter(x)` and handle a `TypeError` exception if it isn't.  \n",
    "This is more accurate than using `isinstance(x, abc.Iterable)`, because `iter(x)` also considers the legacy `__getitem__` method, while the `Iterable` ABC does not."
   ]
  },
  {
   "cell_type": "markdown",
   "metadata": {},
   "source": [
    "### Iterator\n",
    "- Any object that implements the `__next__` no-argument method that returns the next item in a series or raises `StopIteration` when there are no more items.\n",
    "- Python iterators also implement the `__iter__` method so they are `iterable` as well.\n",
    "\n",
    "<br>\n",
    "\n",
    "The best way to check if an object x is an iterator is to call `isinstance(x, abc.Iterator)` because of `Iterator.__subclasshook__`"
   ]
  },
  {
   "cell_type": "code",
   "execution_count": 7,
   "metadata": {
    "ExecuteTime": {
     "end_time": "2019-12-29T17:13:25.776695Z",
     "start_time": "2019-12-29T17:13:25.772945Z"
    }
   },
   "outputs": [
    {
     "name": "stdout",
     "output_type": "stream",
     "text": [
      "A\n",
      "B\n",
      "C\n"
     ]
    }
   ],
   "source": [
    "s = 'ABC'\n",
    "for char in s:\n",
    "    print(char)"
   ]
  },
  {
   "cell_type": "code",
   "execution_count": 8,
   "metadata": {
    "ExecuteTime": {
     "end_time": "2019-12-29T17:14:02.426493Z",
     "start_time": "2019-12-29T17:14:02.422681Z"
    }
   },
   "outputs": [
    {
     "name": "stdout",
     "output_type": "stream",
     "text": [
      "A\n",
      "B\n",
      "C\n"
     ]
    }
   ],
   "source": [
    "s = 'ABC'\n",
    "it = iter(s)\n",
    "while True:\n",
    "    try:\n",
    "        print(next(it))\n",
    "    except StopIteration:\n",
    "        del it\n",
    "        break"
   ]
  },
  {
   "cell_type": "markdown",
   "metadata": {},
   "source": [
    "# Sentence Take #2: A Classic Iterator\n",
    "Iterator Design Pattern\n",
    "- to access an aggregate object's contents without exposing its internal representation.\n",
    "- to support muliple traversals of aggregate objects.\n",
    "- to provide a uniform interface for traversing different aggregate structures (that is, to support polymorphic iteration)."
   ]
  },
  {
   "cell_type": "code",
   "execution_count": null,
   "metadata": {},
   "outputs": [],
   "source": [
    "# Sentence implemented using the Iterator pattern\n",
    "import re\n",
    "import reprlib\n",
    "\n",
    "RE_WORD = re.compile('\\w+')\n",
    "\n",
    "\n",
    "class Sentence:\n",
    "    def __init__(self, text):\n",
    "        self.text = text\n",
    "        self.words = RE_WORD.findall(text)\n",
    "\n",
    "    def __repr__(self):\n",
    "        return 'Sentence(%s)' % reprlib.repr(self.text)\n",
    "\n",
    "    def __iter__(self):\n",
    "        return SentenceIterator(self.words)\n",
    "\n",
    "\n",
    "class SentenceIterator:\n",
    "    def __init__(self, words):\n",
    "        self.words = words\n",
    "        self.index = 0\n",
    "\n",
    "    def __next__(self):\n",
    "        try:\n",
    "            word = self.words[self.index]\n",
    "        except IndexError:\n",
    "            raise StopIteration()\n",
    "        self.index += 1\n",
    "        return word\n",
    "\n",
    "    def __iter__(self):\n",
    "        return self"
   ]
  },
  {
   "cell_type": "code",
   "execution_count": 13,
   "metadata": {
    "ExecuteTime": {
     "end_time": "2019-12-30T02:18:46.351407Z",
     "start_time": "2019-12-30T02:18:46.344475Z"
    }
   },
   "outputs": [],
   "source": [
    "class MyIterable:\n",
    "    def __init__(self, els):\n",
    "        self.els = list(els)\n",
    "    \n",
    "    def __iter__(self):\n",
    "        return MyIterator(self.els)\n",
    "\n",
    "class MyIterator:\n",
    "    def __init__(self, els):\n",
    "        self.els = els\n",
    "        self.idx = 0\n",
    "    \n",
    "    def __next__(self):\n",
    "        try:\n",
    "            el = self.els[self.idx]\n",
    "        except IndexError:\n",
    "            raise StopIteration()\n",
    "        self.idx += 1\n",
    "        return el\n",
    "    \n",
    "    def __iter__(self):\n",
    "        return self"
   ]
  },
  {
   "cell_type": "code",
   "execution_count": 14,
   "metadata": {
    "ExecuteTime": {
     "end_time": "2019-12-30T02:18:47.055024Z",
     "start_time": "2019-12-30T02:18:47.048229Z"
    }
   },
   "outputs": [
    {
     "data": {
      "text/plain": [
       "<__main__.MyIterator at 0x10f0983c8>"
      ]
     },
     "execution_count": 14,
     "metadata": {},
     "output_type": "execute_result"
    }
   ],
   "source": [
    "my_iterable = MyIterable(range(3))\n",
    "my_it = iter(my_iterable)\n",
    "my_it"
   ]
  },
  {
   "cell_type": "code",
   "execution_count": 15,
   "metadata": {
    "ExecuteTime": {
     "end_time": "2019-12-30T02:18:47.692285Z",
     "start_time": "2019-12-30T02:18:47.688646Z"
    }
   },
   "outputs": [
    {
     "data": {
      "text/plain": [
       "<__main__.MyIterator at 0x10f0983c8>"
      ]
     },
     "execution_count": 15,
     "metadata": {},
     "output_type": "execute_result"
    }
   ],
   "source": [
    "my_i = iter(my_it)\n",
    "my_i"
   ]
  },
  {
   "cell_type": "code",
   "execution_count": 16,
   "metadata": {
    "ExecuteTime": {
     "end_time": "2019-12-30T02:18:48.401207Z",
     "start_time": "2019-12-30T02:18:48.396763Z"
    }
   },
   "outputs": [
    {
     "data": {
      "text/plain": [
       "0"
      ]
     },
     "execution_count": 16,
     "metadata": {},
     "output_type": "execute_result"
    }
   ],
   "source": [
    "next(my_i)"
   ]
  },
  {
   "cell_type": "code",
   "execution_count": 17,
   "metadata": {
    "ExecuteTime": {
     "end_time": "2019-12-30T02:18:56.434499Z",
     "start_time": "2019-12-30T02:18:56.430321Z"
    }
   },
   "outputs": [
    {
     "data": {
      "text/plain": [
       "1"
      ]
     },
     "execution_count": 17,
     "metadata": {},
     "output_type": "execute_result"
    }
   ],
   "source": [
    "next(my_i)"
   ]
  },
  {
   "cell_type": "code",
   "execution_count": 24,
   "metadata": {
    "ExecuteTime": {
     "end_time": "2019-12-30T02:28:42.042961Z",
     "start_time": "2019-12-30T02:28:42.039293Z"
    }
   },
   "outputs": [],
   "source": [
    "my_iterable = MyIterable([x * 10**i for x in range(1, 4)] for i in range(3))"
   ]
  },
  {
   "cell_type": "code",
   "execution_count": 25,
   "metadata": {
    "ExecuteTime": {
     "end_time": "2019-12-30T02:29:09.033837Z",
     "start_time": "2019-12-30T02:29:09.028601Z"
    }
   },
   "outputs": [
    {
     "data": {
      "text/plain": [
       "[1, 2, 3]"
      ]
     },
     "execution_count": 25,
     "metadata": {},
     "output_type": "execute_result"
    }
   ],
   "source": [
    "my_iter = iter(my_iterable)\n",
    "next(my_iter)"
   ]
  },
  {
   "cell_type": "code",
   "execution_count": 26,
   "metadata": {
    "ExecuteTime": {
     "end_time": "2019-12-30T02:29:33.312382Z",
     "start_time": "2019-12-30T02:29:33.308502Z"
    }
   },
   "outputs": [
    {
     "data": {
      "text/plain": [
       "[10, 20, 30]"
      ]
     },
     "execution_count": 26,
     "metadata": {},
     "output_type": "execute_result"
    }
   ],
   "source": [
    "my_it = iter(my_iter)\n",
    "next(my_it)"
   ]
  },
  {
   "cell_type": "markdown",
   "metadata": {},
   "source": [
    "# Sentence Take #3: A Generator Function"
   ]
  },
  {
   "cell_type": "code",
   "execution_count": 27,
   "metadata": {
    "ExecuteTime": {
     "end_time": "2019-12-30T02:33:40.563934Z",
     "start_time": "2019-12-30T02:33:40.558106Z"
    }
   },
   "outputs": [],
   "source": [
    "# Senetece implemented using a generator function\n",
    "import re\n",
    "import reprlib\n",
    "\n",
    "RE_WORD = re.compile('\\w+')\n",
    "\n",
    "\n",
    "class Senetence:\n",
    "    def __init__(self, text):\n",
    "        self.text = text\n",
    "        self.words = RE_WORD.findall(text)\n",
    "    \n",
    "    def __repr__(self):\n",
    "        return 'Sentence(%s)' & reprlib.repr(self.text)\n",
    "    \n",
    "    def __iter__(self):\n",
    "        for word in self.words:\n",
    "            yield word\n",
    "        return\n",
    "\n",
    "# No need for a separate iterator class"
   ]
  },
  {
   "cell_type": "markdown",
   "metadata": {},
   "source": [
    "## How a Generator Function Works"
   ]
  },
  {
   "cell_type": "code",
   "execution_count": 28,
   "metadata": {
    "ExecuteTime": {
     "end_time": "2019-12-30T02:37:54.029859Z",
     "start_time": "2019-12-30T02:37:54.025428Z"
    }
   },
   "outputs": [
    {
     "data": {
      "text/plain": [
       "<function __main__.gen_123()>"
      ]
     },
     "execution_count": 28,
     "metadata": {},
     "output_type": "execute_result"
    }
   ],
   "source": [
    "def gen_123():\n",
    "    yield 1\n",
    "    yield 2\n",
    "    yield 3\n",
    "\n",
    "gen_123"
   ]
  },
  {
   "cell_type": "code",
   "execution_count": 29,
   "metadata": {
    "ExecuteTime": {
     "end_time": "2019-12-30T02:38:08.451980Z",
     "start_time": "2019-12-30T02:38:08.447196Z"
    }
   },
   "outputs": [
    {
     "data": {
      "text/plain": [
       "<generator object gen_123 at 0x10f06b8b8>"
      ]
     },
     "execution_count": 29,
     "metadata": {},
     "output_type": "execute_result"
    }
   ],
   "source": [
    "gen_123()"
   ]
  },
  {
   "cell_type": "code",
   "execution_count": 30,
   "metadata": {
    "ExecuteTime": {
     "end_time": "2019-12-30T02:38:20.722082Z",
     "start_time": "2019-12-30T02:38:20.718048Z"
    }
   },
   "outputs": [
    {
     "name": "stdout",
     "output_type": "stream",
     "text": [
      "1\n",
      "2\n",
      "3\n"
     ]
    }
   ],
   "source": [
    "for i in gen_123():\n",
    "    print(i)"
   ]
  },
  {
   "cell_type": "code",
   "execution_count": 31,
   "metadata": {
    "ExecuteTime": {
     "end_time": "2019-12-30T02:38:28.751933Z",
     "start_time": "2019-12-30T02:38:28.747168Z"
    }
   },
   "outputs": [
    {
     "data": {
      "text/plain": [
       "1"
      ]
     },
     "execution_count": 31,
     "metadata": {},
     "output_type": "execute_result"
    }
   ],
   "source": [
    "g = gen_123()\n",
    "next(g)"
   ]
  },
  {
   "cell_type": "code",
   "execution_count": 32,
   "metadata": {
    "ExecuteTime": {
     "end_time": "2019-12-30T02:38:31.516382Z",
     "start_time": "2019-12-30T02:38:31.508621Z"
    }
   },
   "outputs": [
    {
     "data": {
      "text/plain": [
       "2"
      ]
     },
     "execution_count": 32,
     "metadata": {},
     "output_type": "execute_result"
    }
   ],
   "source": [
    "next(g)"
   ]
  },
  {
   "cell_type": "code",
   "execution_count": 39,
   "metadata": {
    "ExecuteTime": {
     "end_time": "2019-12-30T02:42:53.894935Z",
     "start_time": "2019-12-30T02:42:53.891255Z"
    }
   },
   "outputs": [],
   "source": [
    "def gen_lst():\n",
    "    for i in range(3):\n",
    "        yield iter([x * 10**i for x in range(1, 4)])"
   ]
  },
  {
   "cell_type": "code",
   "execution_count": 40,
   "metadata": {
    "ExecuteTime": {
     "end_time": "2019-12-30T02:42:55.715449Z",
     "start_time": "2019-12-30T02:42:55.710731Z"
    }
   },
   "outputs": [
    {
     "data": {
      "text/plain": [
       "<list_iterator at 0x10f0b5c88>"
      ]
     },
     "execution_count": 40,
     "metadata": {},
     "output_type": "execute_result"
    }
   ],
   "source": [
    "gl = gen_lst()\n",
    "next(gl)"
   ]
  },
  {
   "cell_type": "code",
   "execution_count": 41,
   "metadata": {
    "ExecuteTime": {
     "end_time": "2019-12-30T02:44:26.649798Z",
     "start_time": "2019-12-30T02:44:26.641457Z"
    }
   },
   "outputs": [
    {
     "data": {
      "text/plain": [
       "<list_iterator at 0x10f0855c0>"
      ]
     },
     "execution_count": 41,
     "metadata": {},
     "output_type": "execute_result"
    }
   ],
   "source": [
    "l = iter(gl)\n",
    "next(l)"
   ]
  },
  {
   "cell_type": "code",
   "execution_count": 42,
   "metadata": {
    "ExecuteTime": {
     "end_time": "2019-12-30T02:45:00.951784Z",
     "start_time": "2019-12-30T02:45:00.947080Z"
    }
   },
   "outputs": [
    {
     "data": {
      "text/plain": [
       "<generator object gen_lst at 0x10f06ba20>"
      ]
     },
     "execution_count": 42,
     "metadata": {},
     "output_type": "execute_result"
    }
   ],
   "source": [
    "gl"
   ]
  },
  {
   "cell_type": "markdown",
   "metadata": {},
   "source": [
    "# Sentence Take #4: A Lazy Implementation"
   ]
  },
  {
   "cell_type": "code",
   "execution_count": 43,
   "metadata": {
    "ExecuteTime": {
     "end_time": "2019-12-30T02:57:51.900290Z",
     "start_time": "2019-12-30T02:57:51.895222Z"
    }
   },
   "outputs": [],
   "source": [
    "# Senetence implemented using a generator function calling the re.finditer generator function\n",
    "import re\n",
    "import reprlib\n",
    "\n",
    "RE_WORD = re.compile('\\w+')\n",
    "\n",
    "\n",
    "class Sentence:\n",
    "    def __init__(self, text):\n",
    "        self.text = text\n",
    "    \n",
    "    def __repr__(self):\n",
    "        return 'Sentence(%s)' % reprlib.repr(self.text)\n",
    "    \n",
    "    def __iter__(self):\n",
    "        for match in RE_WORD.finditer(text):\n",
    "            yield match.group()"
   ]
  },
  {
   "cell_type": "markdown",
   "metadata": {},
   "source": [
    "# Sentence Take #5: A Generator Expression"
   ]
  },
  {
   "cell_type": "code",
   "execution_count": 44,
   "metadata": {
    "ExecuteTime": {
     "end_time": "2019-12-30T03:01:33.905658Z",
     "start_time": "2019-12-30T03:01:33.900605Z"
    }
   },
   "outputs": [],
   "source": [
    "# Sentence implemented using a generator expression\n",
    "import re\n",
    "import reprlib\n",
    "\n",
    "RE_WORD = re.compile('\\w+')\n",
    "\n",
    "\n",
    "class Sentence:\n",
    "    def __init__(self, text):\n",
    "        self.text = text\n",
    "    \n",
    "    def __repr__(self):\n",
    "        return 'Sentence(%s)' % reprlib.repr(self.text)\n",
    "    \n",
    "    def __iter__(self):\n",
    "        return (match.group() for match in RE_WORD.finditer(self.text))"
   ]
  },
  {
   "cell_type": "markdown",
   "metadata": {},
   "source": [
    "# Another Example: Arithmetic Progression Generator"
   ]
  },
  {
   "cell_type": "code",
   "execution_count": 45,
   "metadata": {
    "ExecuteTime": {
     "end_time": "2019-12-30T03:15:53.642801Z",
     "start_time": "2019-12-30T03:15:53.637363Z"
    }
   },
   "outputs": [],
   "source": [
    "class ArithmeticProgression:\n",
    "    \n",
    "    def __init__(self, begin, step, end=None):\n",
    "        self.begin = begin\n",
    "        self.step = step\n",
    "        self.end = end\n",
    "    \n",
    "    def __iter__(self):\n",
    "        result = type(self.begin + self.step)(self.begin)\n",
    "        forever = self.end is None\n",
    "        index = 0\n",
    "        while forever or result < self.end:\n",
    "            yield reuslt\n",
    "            index += 1\n",
    "            result = self.begin + self.step * index"
   ]
  },
  {
   "cell_type": "code",
   "execution_count": 46,
   "metadata": {
    "ExecuteTime": {
     "end_time": "2019-12-30T03:17:12.056150Z",
     "start_time": "2019-12-30T03:17:12.050174Z"
    }
   },
   "outputs": [],
   "source": [
    "def aritprog_gen(begin, step, end=None):\n",
    "    result = type(begin + step)(begin)\n",
    "    forever = end is None\n",
    "    index = 0\n",
    "    while forever or result < end:\n",
    "        yield result\n",
    "        index += 1\n",
    "        result = begin + step * index"
   ]
  },
  {
   "cell_type": "markdown",
   "metadata": {},
   "source": [
    "## Arithmetic Progression with itertools"
   ]
  },
  {
   "cell_type": "code",
   "execution_count": 47,
   "metadata": {
    "ExecuteTime": {
     "end_time": "2019-12-30T03:18:21.114060Z",
     "start_time": "2019-12-30T03:18:21.108623Z"
    }
   },
   "outputs": [
    {
     "data": {
      "text/plain": [
       "1"
      ]
     },
     "execution_count": 47,
     "metadata": {},
     "output_type": "execute_result"
    }
   ],
   "source": [
    "import itertools\n",
    "\n",
    "gen = itertools.count(1, .5)\n",
    "next(gen)"
   ]
  },
  {
   "cell_type": "code",
   "execution_count": 48,
   "metadata": {
    "ExecuteTime": {
     "end_time": "2019-12-30T03:18:24.679670Z",
     "start_time": "2019-12-30T03:18:24.675383Z"
    }
   },
   "outputs": [
    {
     "data": {
      "text/plain": [
       "1.5"
      ]
     },
     "execution_count": 48,
     "metadata": {},
     "output_type": "execute_result"
    }
   ],
   "source": [
    "next(gen)"
   ]
  },
  {
   "cell_type": "code",
   "execution_count": 50,
   "metadata": {
    "ExecuteTime": {
     "end_time": "2019-12-30T03:19:38.950961Z",
     "start_time": "2019-12-30T03:19:38.945839Z"
    }
   },
   "outputs": [
    {
     "data": {
      "text/plain": [
       "[1, 1.5, 2.0, 2.5]"
      ]
     },
     "execution_count": 50,
     "metadata": {},
     "output_type": "execute_result"
    }
   ],
   "source": [
    "gen = itertools.takewhile(lambda n: n < 3, itertools.count(1, .5))\n",
    "list(gen)"
   ]
  },
  {
   "cell_type": "code",
   "execution_count": 51,
   "metadata": {
    "ExecuteTime": {
     "end_time": "2019-12-30T03:20:56.004457Z",
     "start_time": "2019-12-30T03:20:55.999271Z"
    }
   },
   "outputs": [],
   "source": [
    "import itertools\n",
    "\n",
    "def aritprog_gen(begin, step, end=None):\n",
    "    first = type(begin + step)(begin)\n",
    "    ap_gen = itertools.count(first, step)\n",
    "    if end is not None:\n",
    "        ap_gen = itertools.takewhile(lambda n: n < end, ap_gen)\n",
    "    return ap_gen"
   ]
  },
  {
   "cell_type": "markdown",
   "metadata": {},
   "source": [
    "# Generator Functions in the Standard Library"
   ]
  },
  {
   "cell_type": "markdown",
   "metadata": {},
   "source": [
    "## Filtering generator functions"
   ]
  },
  {
   "cell_type": "code",
   "execution_count": 54,
   "metadata": {
    "ExecuteTime": {
     "end_time": "2019-12-30T03:28:18.167697Z",
     "start_time": "2019-12-30T03:28:18.161764Z"
    }
   },
   "outputs": [
    {
     "data": {
      "text/plain": [
       "['A', 'a', 'a']"
      ]
     },
     "execution_count": 54,
     "metadata": {},
     "output_type": "execute_result"
    }
   ],
   "source": [
    "def vowel(c):\n",
    "    return c.lower() in 'aeiou'\n",
    "\n",
    "s = 'Aardvark'\n",
    "list(filter(vowel, s))"
   ]
  },
  {
   "cell_type": "code",
   "execution_count": 55,
   "metadata": {
    "ExecuteTime": {
     "end_time": "2019-12-30T03:28:23.862783Z",
     "start_time": "2019-12-30T03:28:23.858459Z"
    }
   },
   "outputs": [
    {
     "data": {
      "text/plain": [
       "['r', 'd', 'v', 'r', 'k']"
      ]
     },
     "execution_count": 55,
     "metadata": {},
     "output_type": "execute_result"
    }
   ],
   "source": [
    "import itertools\n",
    "list(itertools.filterfalse(vowel, s))"
   ]
  },
  {
   "cell_type": "code",
   "execution_count": 56,
   "metadata": {
    "ExecuteTime": {
     "end_time": "2019-12-30T03:28:37.734890Z",
     "start_time": "2019-12-30T03:28:37.730113Z"
    }
   },
   "outputs": [
    {
     "data": {
      "text/plain": [
       "['r', 'd', 'v', 'a', 'r', 'k']"
      ]
     },
     "execution_count": 56,
     "metadata": {},
     "output_type": "execute_result"
    }
   ],
   "source": [
    "list(itertools.dropwhile(vowel, s))"
   ]
  },
  {
   "cell_type": "code",
   "execution_count": 57,
   "metadata": {
    "ExecuteTime": {
     "end_time": "2019-12-30T03:29:32.959528Z",
     "start_time": "2019-12-30T03:29:32.954663Z"
    }
   },
   "outputs": [
    {
     "data": {
      "text/plain": [
       "['A', 'a']"
      ]
     },
     "execution_count": 57,
     "metadata": {},
     "output_type": "execute_result"
    }
   ],
   "source": [
    "list(itertools.takewhile(vowel, s))"
   ]
  },
  {
   "cell_type": "code",
   "execution_count": 58,
   "metadata": {
    "ExecuteTime": {
     "end_time": "2019-12-30T03:29:49.364523Z",
     "start_time": "2019-12-30T03:29:49.358751Z"
    }
   },
   "outputs": [
    {
     "data": {
      "text/plain": [
       "['A', 'r', 'd', 'a']"
      ]
     },
     "execution_count": 58,
     "metadata": {},
     "output_type": "execute_result"
    }
   ],
   "source": [
    "list(itertools.compress(s, (1, 0, 1, 1, 0, 1)))"
   ]
  },
  {
   "cell_type": "code",
   "execution_count": 59,
   "metadata": {
    "ExecuteTime": {
     "end_time": "2019-12-30T03:29:59.550754Z",
     "start_time": "2019-12-30T03:29:59.540671Z"
    }
   },
   "outputs": [
    {
     "data": {
      "text/plain": [
       "['A', 'a', 'r', 'd']"
      ]
     },
     "execution_count": 59,
     "metadata": {},
     "output_type": "execute_result"
    }
   ],
   "source": [
    "list(itertools.islice(s, 4))"
   ]
  },
  {
   "cell_type": "code",
   "execution_count": 60,
   "metadata": {
    "ExecuteTime": {
     "end_time": "2019-12-30T03:30:09.881321Z",
     "start_time": "2019-12-30T03:30:09.876431Z"
    }
   },
   "outputs": [
    {
     "data": {
      "text/plain": [
       "['v', 'a', 'r']"
      ]
     },
     "execution_count": 60,
     "metadata": {},
     "output_type": "execute_result"
    }
   ],
   "source": [
    "list(itertools.islice(s, 4, 7))"
   ]
  },
  {
   "cell_type": "code",
   "execution_count": 61,
   "metadata": {
    "ExecuteTime": {
     "end_time": "2019-12-30T03:30:33.130909Z",
     "start_time": "2019-12-30T03:30:33.125918Z"
    }
   },
   "outputs": [
    {
     "data": {
      "text/plain": [
       "['a', 'd', 'a']"
      ]
     },
     "execution_count": 61,
     "metadata": {},
     "output_type": "execute_result"
    }
   ],
   "source": [
    "list(itertools.islice(s, 1, 7, 2))"
   ]
  },
  {
   "cell_type": "markdown",
   "metadata": {},
   "source": [
    "## Mapping generator functions"
   ]
  },
  {
   "cell_type": "code",
   "execution_count": 62,
   "metadata": {
    "ExecuteTime": {
     "end_time": "2019-12-30T03:34:56.642332Z",
     "start_time": "2019-12-30T03:34:56.633404Z"
    }
   },
   "outputs": [
    {
     "data": {
      "text/plain": [
       "[5, 9, 11, 19, 26, 32, 35, 35, 44, 45]"
      ]
     },
     "execution_count": 62,
     "metadata": {},
     "output_type": "execute_result"
    }
   ],
   "source": [
    "sample = [5, 4, 2, 8, 7, 6, 3, 0, 9, 1]\n",
    "import itertools\n",
    "list(itertools.accumulate(sample))"
   ]
  },
  {
   "cell_type": "code",
   "execution_count": 63,
   "metadata": {
    "ExecuteTime": {
     "end_time": "2019-12-30T03:35:19.541025Z",
     "start_time": "2019-12-30T03:35:19.531364Z"
    }
   },
   "outputs": [
    {
     "data": {
      "text/plain": [
       "[5, 4, 2, 2, 2, 2, 2, 0, 0, 0]"
      ]
     },
     "execution_count": 63,
     "metadata": {},
     "output_type": "execute_result"
    }
   ],
   "source": [
    "list(itertools.accumulate(sample, min))"
   ]
  },
  {
   "cell_type": "code",
   "execution_count": 64,
   "metadata": {
    "ExecuteTime": {
     "end_time": "2019-12-30T03:35:26.232771Z",
     "start_time": "2019-12-30T03:35:26.228182Z"
    }
   },
   "outputs": [
    {
     "data": {
      "text/plain": [
       "[5, 5, 5, 8, 8, 8, 8, 8, 9, 9]"
      ]
     },
     "execution_count": 64,
     "metadata": {},
     "output_type": "execute_result"
    }
   ],
   "source": [
    "list(itertools.accumulate(sample, max))"
   ]
  },
  {
   "cell_type": "code",
   "execution_count": 68,
   "metadata": {
    "ExecuteTime": {
     "end_time": "2019-12-30T03:37:27.077381Z",
     "start_time": "2019-12-30T03:37:27.072195Z"
    }
   },
   "outputs": [
    {
     "data": {
      "text/plain": [
       "[5, 20, 40, 320, 2240, 13440, 40320, 0, 0, 0]"
      ]
     },
     "execution_count": 68,
     "metadata": {},
     "output_type": "execute_result"
    }
   ],
   "source": [
    "import operator\n",
    "list(itertools.accumulate(sample, operator.mul))"
   ]
  },
  {
   "cell_type": "code",
   "execution_count": 66,
   "metadata": {
    "ExecuteTime": {
     "end_time": "2019-12-30T03:36:41.555588Z",
     "start_time": "2019-12-30T03:36:41.545195Z"
    }
   },
   "outputs": [
    {
     "data": {
      "text/plain": [
       "[1, 2, 6, 24, 120, 720, 5040, 40320, 362880, 3628800]"
      ]
     },
     "execution_count": 66,
     "metadata": {},
     "output_type": "execute_result"
    }
   ],
   "source": [
    "list(itertools.accumulate(range(1, 11), operator.mul))"
   ]
  },
  {
   "cell_type": "code",
   "execution_count": 70,
   "metadata": {
    "ExecuteTime": {
     "end_time": "2019-12-30T03:40:17.488999Z",
     "start_time": "2019-12-30T03:40:17.484253Z"
    }
   },
   "outputs": [
    {
     "data": {
      "text/plain": [
       "[(1, 'a'),\n",
       " (2, 'l'),\n",
       " (3, 'b'),\n",
       " (4, 'a'),\n",
       " (5, 't'),\n",
       " (6, 'r'),\n",
       " (7, 'o'),\n",
       " (8, 'z')]"
      ]
     },
     "execution_count": 70,
     "metadata": {},
     "output_type": "execute_result"
    }
   ],
   "source": [
    "list(enumerate('albatroz', 1))"
   ]
  },
  {
   "cell_type": "code",
   "execution_count": 71,
   "metadata": {
    "ExecuteTime": {
     "end_time": "2019-12-30T03:40:43.376969Z",
     "start_time": "2019-12-30T03:40:43.372450Z"
    }
   },
   "outputs": [
    {
     "data": {
      "text/plain": [
       "[0, 1, 4, 9, 16, 25, 36, 49, 64, 81, 100]"
      ]
     },
     "execution_count": 71,
     "metadata": {},
     "output_type": "execute_result"
    }
   ],
   "source": [
    "import operator\n",
    "list(map(operator.mul, range(11), range(11)))"
   ]
  },
  {
   "cell_type": "code",
   "execution_count": 72,
   "metadata": {
    "ExecuteTime": {
     "end_time": "2019-12-30T03:41:05.409169Z",
     "start_time": "2019-12-30T03:41:05.404009Z"
    }
   },
   "outputs": [
    {
     "data": {
      "text/plain": [
       "[0, 4, 16]"
      ]
     },
     "execution_count": 72,
     "metadata": {},
     "output_type": "execute_result"
    }
   ],
   "source": [
    "list(map(operator.mul, range(11), [2, 4, 8]))"
   ]
  },
  {
   "cell_type": "code",
   "execution_count": 73,
   "metadata": {
    "ExecuteTime": {
     "end_time": "2019-12-30T03:41:25.505842Z",
     "start_time": "2019-12-30T03:41:25.499359Z"
    }
   },
   "outputs": [
    {
     "data": {
      "text/plain": [
       "[(0, 2), (1, 4), (2, 8)]"
      ]
     },
     "execution_count": 73,
     "metadata": {},
     "output_type": "execute_result"
    }
   ],
   "source": [
    "list(map(lambda a, b: (a, b), range(11), [2, 4, 8]))"
   ]
  },
  {
   "cell_type": "code",
   "execution_count": 77,
   "metadata": {
    "ExecuteTime": {
     "end_time": "2019-12-30T03:43:19.616092Z",
     "start_time": "2019-12-30T03:43:19.607023Z"
    }
   },
   "outputs": [
    {
     "data": {
      "text/plain": [
       "['a', 'll', 'bbb', 'aaaa', 'ttttt', 'rrrrrr', 'ooooooo', 'zzzzzzzz']"
      ]
     },
     "execution_count": 77,
     "metadata": {},
     "output_type": "execute_result"
    }
   ],
   "source": [
    "import itertools\n",
    "list(itertools.starmap(operator.mul, enumerate('albatroz', 1)))"
   ]
  },
  {
   "cell_type": "code",
   "execution_count": 78,
   "metadata": {
    "ExecuteTime": {
     "end_time": "2019-12-30T03:44:08.116968Z",
     "start_time": "2019-12-30T03:44:08.107210Z"
    }
   },
   "outputs": [
    {
     "data": {
      "text/plain": [
       "[5.0,\n",
       " 4.5,\n",
       " 3.6666666666666665,\n",
       " 4.75,\n",
       " 5.2,\n",
       " 5.333333333333333,\n",
       " 5.0,\n",
       " 4.375,\n",
       " 4.888888888888889,\n",
       " 4.5]"
      ]
     },
     "execution_count": 78,
     "metadata": {},
     "output_type": "execute_result"
    }
   ],
   "source": [
    "sample = [5, 4, 2, 8, 7, 6, 3, 0, 9, 1]\n",
    "list(itertools.starmap(lambda a, b: b/a, enumerate(itertools.accumulate(sample), 1)))"
   ]
  },
  {
   "cell_type": "markdown",
   "metadata": {},
   "source": [
    "## Generator functions that merge multiple input iterables"
   ]
  },
  {
   "cell_type": "code",
   "execution_count": 79,
   "metadata": {
    "ExecuteTime": {
     "end_time": "2019-12-30T03:45:57.667567Z",
     "start_time": "2019-12-30T03:45:57.662092Z"
    }
   },
   "outputs": [
    {
     "data": {
      "text/plain": [
       "['A', 'B', 'C', 0, 1]"
      ]
     },
     "execution_count": 79,
     "metadata": {},
     "output_type": "execute_result"
    }
   ],
   "source": [
    "list(itertools.chain('ABC', range(2)))"
   ]
  },
  {
   "cell_type": "code",
   "execution_count": 80,
   "metadata": {
    "ExecuteTime": {
     "end_time": "2019-12-30T03:46:16.205576Z",
     "start_time": "2019-12-30T03:46:16.200264Z"
    }
   },
   "outputs": [
    {
     "data": {
      "text/plain": [
       "[(0, 'A'), (1, 'B'), (2, 'C')]"
      ]
     },
     "execution_count": 80,
     "metadata": {},
     "output_type": "execute_result"
    }
   ],
   "source": [
    "list(itertools.chain(enumerate('ABC')))"
   ]
  },
  {
   "cell_type": "code",
   "execution_count": 81,
   "metadata": {
    "ExecuteTime": {
     "end_time": "2019-12-30T03:47:14.196472Z",
     "start_time": "2019-12-30T03:47:14.191476Z"
    }
   },
   "outputs": [
    {
     "data": {
      "text/plain": [
       "[0, 'A', 1, 'B', 2, 'C']"
      ]
     },
     "execution_count": 81,
     "metadata": {},
     "output_type": "execute_result"
    }
   ],
   "source": [
    "list(itertools.chain.from_iterable(enumerate('ABC')))"
   ]
  },
  {
   "cell_type": "code",
   "execution_count": 82,
   "metadata": {
    "ExecuteTime": {
     "end_time": "2019-12-30T03:47:52.864757Z",
     "start_time": "2019-12-30T03:47:52.860556Z"
    }
   },
   "outputs": [
    {
     "data": {
      "text/plain": [
       "[('A', 0), ('B', 1), ('C', 2)]"
      ]
     },
     "execution_count": 82,
     "metadata": {},
     "output_type": "execute_result"
    }
   ],
   "source": [
    "list(zip('ABC', range(5)))"
   ]
  },
  {
   "cell_type": "code",
   "execution_count": 83,
   "metadata": {
    "ExecuteTime": {
     "end_time": "2019-12-30T03:48:13.364225Z",
     "start_time": "2019-12-30T03:48:13.359261Z"
    }
   },
   "outputs": [
    {
     "data": {
      "text/plain": [
       "[('A', 0, 10), ('B', 1, 20), ('C', 2, 30)]"
      ]
     },
     "execution_count": 83,
     "metadata": {},
     "output_type": "execute_result"
    }
   ],
   "source": [
    "list(zip('ABC', range(5), [10, 20, 30, 40]))"
   ]
  },
  {
   "cell_type": "code",
   "execution_count": 84,
   "metadata": {
    "ExecuteTime": {
     "end_time": "2019-12-30T03:48:28.841330Z",
     "start_time": "2019-12-30T03:48:28.836357Z"
    }
   },
   "outputs": [
    {
     "data": {
      "text/plain": [
       "[('A', 0), ('B', 1), ('C', 2), (None, 3), (None, 4)]"
      ]
     },
     "execution_count": 84,
     "metadata": {},
     "output_type": "execute_result"
    }
   ],
   "source": [
    "list(itertools.zip_longest('ABC', range(5)))"
   ]
  },
  {
   "cell_type": "code",
   "execution_count": 85,
   "metadata": {
    "ExecuteTime": {
     "end_time": "2019-12-30T03:48:54.094885Z",
     "start_time": "2019-12-30T03:48:54.089071Z"
    }
   },
   "outputs": [
    {
     "data": {
      "text/plain": [
       "[('A', 0), ('B', 1), ('C', 2), ('?', 3), ('?', 4)]"
      ]
     },
     "execution_count": 85,
     "metadata": {},
     "output_type": "execute_result"
    }
   ],
   "source": [
    "list(itertools.zip_longest('ABC', range(5), fillvalue='?'))"
   ]
  },
  {
   "cell_type": "code",
   "execution_count": 86,
   "metadata": {
    "ExecuteTime": {
     "end_time": "2019-12-30T03:50:10.012641Z",
     "start_time": "2019-12-30T03:50:10.007079Z"
    }
   },
   "outputs": [
    {
     "data": {
      "text/plain": [
       "[('A', 0), ('A', 1), ('B', 0), ('B', 1), ('C', 0), ('C', 1)]"
      ]
     },
     "execution_count": 86,
     "metadata": {},
     "output_type": "execute_result"
    }
   ],
   "source": [
    "list(itertools.product('ABC', range(2)))"
   ]
  },
  {
   "cell_type": "code",
   "execution_count": 87,
   "metadata": {
    "ExecuteTime": {
     "end_time": "2019-12-30T03:50:49.125111Z",
     "start_time": "2019-12-30T03:50:49.120053Z"
    }
   },
   "outputs": [
    {
     "data": {
      "text/plain": [
       "[('A', 'spades'),\n",
       " ('A', 'hearts'),\n",
       " ('A', 'diamond'),\n",
       " ('A', 'clubs'),\n",
       " ('B', 'spades'),\n",
       " ('B', 'hearts'),\n",
       " ('B', 'diamond'),\n",
       " ('B', 'clubs')]"
      ]
     },
     "execution_count": 87,
     "metadata": {},
     "output_type": "execute_result"
    }
   ],
   "source": [
    "suits = 'spades hearts diamond clubs'.split()\n",
    "list(itertools.product('AB', suits))"
   ]
  },
  {
   "cell_type": "code",
   "execution_count": 88,
   "metadata": {
    "ExecuteTime": {
     "end_time": "2019-12-30T03:51:10.763524Z",
     "start_time": "2019-12-30T03:51:10.758700Z"
    }
   },
   "outputs": [
    {
     "data": {
      "text/plain": [
       "[('A',), ('B',), ('C',)]"
      ]
     },
     "execution_count": 88,
     "metadata": {},
     "output_type": "execute_result"
    }
   ],
   "source": [
    "list(itertools.product('ABC'))"
   ]
  },
  {
   "cell_type": "code",
   "execution_count": 89,
   "metadata": {
    "ExecuteTime": {
     "end_time": "2019-12-30T03:51:26.026097Z",
     "start_time": "2019-12-30T03:51:26.021437Z"
    }
   },
   "outputs": [
    {
     "data": {
      "text/plain": [
       "[('A', 'A'),\n",
       " ('A', 'B'),\n",
       " ('A', 'C'),\n",
       " ('B', 'A'),\n",
       " ('B', 'B'),\n",
       " ('B', 'C'),\n",
       " ('C', 'A'),\n",
       " ('C', 'B'),\n",
       " ('C', 'C')]"
      ]
     },
     "execution_count": 89,
     "metadata": {},
     "output_type": "execute_result"
    }
   ],
   "source": [
    "list(itertools.product('ABC', repeat=2))"
   ]
  },
  {
   "cell_type": "code",
   "execution_count": 90,
   "metadata": {
    "ExecuteTime": {
     "end_time": "2019-12-30T03:52:21.130749Z",
     "start_time": "2019-12-30T03:52:21.125112Z"
    }
   },
   "outputs": [
    {
     "data": {
      "text/plain": [
       "[(0, 0, 0),\n",
       " (0, 0, 1),\n",
       " (0, 1, 0),\n",
       " (0, 1, 1),\n",
       " (1, 0, 0),\n",
       " (1, 0, 1),\n",
       " (1, 1, 0),\n",
       " (1, 1, 1)]"
      ]
     },
     "execution_count": 90,
     "metadata": {},
     "output_type": "execute_result"
    }
   ],
   "source": [
    "list(itertools.product(range(2), repeat=3))"
   ]
  },
  {
   "cell_type": "code",
   "execution_count": 91,
   "metadata": {
    "ExecuteTime": {
     "end_time": "2019-12-30T03:52:46.362755Z",
     "start_time": "2019-12-30T03:52:46.353890Z"
    }
   },
   "outputs": [
    {
     "name": "stdout",
     "output_type": "stream",
     "text": [
      "('A', 0, 'A', 0)\n",
      "('A', 0, 'A', 1)\n",
      "('A', 0, 'B', 0)\n",
      "('A', 0, 'B', 1)\n",
      "('A', 1, 'A', 0)\n",
      "('A', 1, 'A', 1)\n",
      "('A', 1, 'B', 0)\n",
      "('A', 1, 'B', 1)\n",
      "('B', 0, 'A', 0)\n",
      "('B', 0, 'A', 1)\n",
      "('B', 0, 'B', 0)\n",
      "('B', 0, 'B', 1)\n",
      "('B', 1, 'A', 0)\n",
      "('B', 1, 'A', 1)\n",
      "('B', 1, 'B', 0)\n",
      "('B', 1, 'B', 1)\n"
     ]
    }
   ],
   "source": [
    "rows = itertools.product('AB', range(2), repeat=2)\n",
    "for row in rows: print(row)"
   ]
  },
  {
   "cell_type": "markdown",
   "metadata": {},
   "source": [
    "## Generator functions that expand each input item into multiple output items"
   ]
  },
  {
   "cell_type": "code",
   "execution_count": 92,
   "metadata": {
    "ExecuteTime": {
     "end_time": "2019-12-30T03:54:42.075916Z",
     "start_time": "2019-12-30T03:54:42.071346Z"
    }
   },
   "outputs": [
    {
     "data": {
      "text/plain": [
       "0"
      ]
     },
     "execution_count": 92,
     "metadata": {},
     "output_type": "execute_result"
    }
   ],
   "source": [
    "ct = itertools.count()\n",
    "next(ct)"
   ]
  },
  {
   "cell_type": "code",
   "execution_count": 93,
   "metadata": {
    "ExecuteTime": {
     "end_time": "2019-12-30T03:54:44.845415Z",
     "start_time": "2019-12-30T03:54:44.841023Z"
    }
   },
   "outputs": [
    {
     "data": {
      "text/plain": [
       "1"
      ]
     },
     "execution_count": 93,
     "metadata": {},
     "output_type": "execute_result"
    }
   ],
   "source": [
    "next(ct)"
   ]
  },
  {
   "cell_type": "code",
   "execution_count": 94,
   "metadata": {
    "ExecuteTime": {
     "end_time": "2019-12-30T03:54:54.035477Z",
     "start_time": "2019-12-30T03:54:54.030147Z"
    }
   },
   "outputs": [
    {
     "data": {
      "text/plain": [
       "(2, 3, 4)"
      ]
     },
     "execution_count": 94,
     "metadata": {},
     "output_type": "execute_result"
    }
   ],
   "source": [
    "next(ct), next(ct), next(ct)"
   ]
  },
  {
   "cell_type": "code",
   "execution_count": 96,
   "metadata": {
    "ExecuteTime": {
     "end_time": "2019-12-30T03:55:09.303302Z",
     "start_time": "2019-12-30T03:55:09.298466Z"
    }
   },
   "outputs": [
    {
     "data": {
      "text/plain": [
       "[1, 1.3, 1.6]"
      ]
     },
     "execution_count": 96,
     "metadata": {},
     "output_type": "execute_result"
    }
   ],
   "source": [
    "list(itertools.islice(itertools.count(1, .3), 3))"
   ]
  },
  {
   "cell_type": "code",
   "execution_count": 97,
   "metadata": {
    "ExecuteTime": {
     "end_time": "2019-12-30T03:55:34.535530Z",
     "start_time": "2019-12-30T03:55:34.528355Z"
    }
   },
   "outputs": [
    {
     "data": {
      "text/plain": [
       "'A'"
      ]
     },
     "execution_count": 97,
     "metadata": {},
     "output_type": "execute_result"
    }
   ],
   "source": [
    "cy = itertools.cycle('ABC')\n",
    "next(cy)"
   ]
  },
  {
   "cell_type": "code",
   "execution_count": 98,
   "metadata": {
    "ExecuteTime": {
     "end_time": "2019-12-30T03:55:42.760581Z",
     "start_time": "2019-12-30T03:55:42.755093Z"
    }
   },
   "outputs": [
    {
     "data": {
      "text/plain": [
       "['B', 'C', 'A', 'B', 'C', 'A', 'B']"
      ]
     },
     "execution_count": 98,
     "metadata": {},
     "output_type": "execute_result"
    }
   ],
   "source": [
    "list(itertools.islice(cy, 7))"
   ]
  },
  {
   "cell_type": "code",
   "execution_count": 100,
   "metadata": {
    "ExecuteTime": {
     "end_time": "2019-12-30T03:56:03.969712Z",
     "start_time": "2019-12-30T03:56:03.964801Z"
    }
   },
   "outputs": [
    {
     "data": {
      "text/plain": [
       "(7, 7)"
      ]
     },
     "execution_count": 100,
     "metadata": {},
     "output_type": "execute_result"
    }
   ],
   "source": [
    "rp = itertools.repeat(7)\n",
    "next(rp), next(rp)"
   ]
  },
  {
   "cell_type": "code",
   "execution_count": 101,
   "metadata": {
    "ExecuteTime": {
     "end_time": "2019-12-30T03:56:17.980252Z",
     "start_time": "2019-12-30T03:56:17.976128Z"
    }
   },
   "outputs": [
    {
     "data": {
      "text/plain": [
       "[8, 8, 8, 8]"
      ]
     },
     "execution_count": 101,
     "metadata": {},
     "output_type": "execute_result"
    }
   ],
   "source": [
    "list(itertools.repeat(8, 4))"
   ]
  },
  {
   "cell_type": "code",
   "execution_count": 102,
   "metadata": {
    "ExecuteTime": {
     "end_time": "2019-12-30T03:56:58.756644Z",
     "start_time": "2019-12-30T03:56:58.751350Z"
    }
   },
   "outputs": [
    {
     "data": {
      "text/plain": [
       "[0, 5, 10, 15, 20, 25, 30, 35, 40, 45, 50]"
      ]
     },
     "execution_count": 102,
     "metadata": {},
     "output_type": "execute_result"
    }
   ],
   "source": [
    "list(map(operator.mul, range(11), itertools.repeat(5)))"
   ]
  },
  {
   "cell_type": "code",
   "execution_count": 103,
   "metadata": {
    "ExecuteTime": {
     "end_time": "2019-12-30T03:57:32.389126Z",
     "start_time": "2019-12-30T03:57:32.384165Z"
    }
   },
   "outputs": [
    {
     "data": {
      "text/plain": [
       "[('A', 'B'), ('A', 'C'), ('B', 'C')]"
      ]
     },
     "execution_count": 103,
     "metadata": {},
     "output_type": "execute_result"
    }
   ],
   "source": [
    "list(itertools.combinations('ABC', 2))"
   ]
  },
  {
   "cell_type": "code",
   "execution_count": 104,
   "metadata": {
    "ExecuteTime": {
     "end_time": "2019-12-30T03:58:16.277453Z",
     "start_time": "2019-12-30T03:58:16.272470Z"
    }
   },
   "outputs": [
    {
     "data": {
      "text/plain": [
       "[('A', 'A'), ('A', 'B'), ('A', 'C'), ('B', 'B'), ('B', 'C'), ('C', 'C')]"
      ]
     },
     "execution_count": 104,
     "metadata": {},
     "output_type": "execute_result"
    }
   ],
   "source": [
    "list(itertools.combinations_with_replacement('ABC', 2))"
   ]
  },
  {
   "cell_type": "code",
   "execution_count": 105,
   "metadata": {
    "ExecuteTime": {
     "end_time": "2019-12-30T04:02:09.593298Z",
     "start_time": "2019-12-30T04:02:09.584252Z"
    }
   },
   "outputs": [
    {
     "data": {
      "text/plain": [
       "[('A', 'A'),\n",
       " ('A', 'B'),\n",
       " ('A', 'C'),\n",
       " ('B', 'A'),\n",
       " ('B', 'B'),\n",
       " ('B', 'C'),\n",
       " ('C', 'A'),\n",
       " ('C', 'B'),\n",
       " ('C', 'C')]"
      ]
     },
     "execution_count": 105,
     "metadata": {},
     "output_type": "execute_result"
    }
   ],
   "source": [
    "list(itertools.product('ABC', repeat=2))"
   ]
  },
  {
   "cell_type": "markdown",
   "metadata": {},
   "source": [
    "## Rearranging generator functions"
   ]
  },
  {
   "cell_type": "code",
   "execution_count": 106,
   "metadata": {
    "ExecuteTime": {
     "end_time": "2019-12-30T04:03:19.796991Z",
     "start_time": "2019-12-30T04:03:19.792523Z"
    }
   },
   "outputs": [
    {
     "data": {
      "text/plain": [
       "[('L', <itertools._grouper at 0x10f0c24e0>),\n",
       " ('A', <itertools._grouper at 0x10f0c2860>),\n",
       " ('G', <itertools._grouper at 0x10f0c2908>)]"
      ]
     },
     "execution_count": 106,
     "metadata": {},
     "output_type": "execute_result"
    }
   ],
   "source": [
    "list(itertools.groupby('LLLLAAGGG'))"
   ]
  },
  {
   "cell_type": "code",
   "execution_count": 107,
   "metadata": {
    "ExecuteTime": {
     "end_time": "2019-12-30T04:03:59.675078Z",
     "start_time": "2019-12-30T04:03:59.669232Z"
    }
   },
   "outputs": [
    {
     "name": "stdout",
     "output_type": "stream",
     "text": [
      "L -> ['L', 'L', 'L', 'L']\n",
      "A -> ['A', 'A']\n",
      "G -> ['G', 'G', 'G']\n"
     ]
    }
   ],
   "source": [
    "for char, group in itertools.groupby('LLLLAAGGG'):\n",
    "    print(char, '->', list(group))"
   ]
  },
  {
   "cell_type": "code",
   "execution_count": 109,
   "metadata": {
    "ExecuteTime": {
     "end_time": "2019-12-30T04:05:51.400236Z",
     "start_time": "2019-12-30T04:05:51.394165Z"
    }
   },
   "outputs": [
    {
     "data": {
      "text/plain": [
       "['rat', 'bat', 'duck', 'bear', 'lion', 'eagle', 'shark', 'giraffe', 'dolphin']"
      ]
     },
     "execution_count": 109,
     "metadata": {},
     "output_type": "execute_result"
    }
   ],
   "source": [
    "animals = ['duck', 'eagle', 'rat', 'giraffe', 'bear', 'bat', 'dolphin', 'shark', 'lion']\n",
    "animals.sort(key=len)\n",
    "animals"
   ]
  },
  {
   "cell_type": "code",
   "execution_count": 110,
   "metadata": {
    "ExecuteTime": {
     "end_time": "2019-12-30T04:06:41.792343Z",
     "start_time": "2019-12-30T04:06:41.788175Z"
    }
   },
   "outputs": [
    {
     "name": "stdout",
     "output_type": "stream",
     "text": [
      "3 -> ['rat', 'bat']\n",
      "4 -> ['duck', 'bear', 'lion']\n",
      "5 -> ['eagle', 'shark']\n",
      "7 -> ['giraffe', 'dolphin']\n"
     ]
    }
   ],
   "source": [
    "for length, group in itertools.groupby(animals, len):\n",
    "    print(length, '->', list(group))"
   ]
  },
  {
   "cell_type": "code",
   "execution_count": 112,
   "metadata": {
    "ExecuteTime": {
     "end_time": "2019-12-30T04:07:41.188036Z",
     "start_time": "2019-12-30T04:07:41.183826Z"
    }
   },
   "outputs": [
    {
     "name": "stdout",
     "output_type": "stream",
     "text": [
      "7 -> ['dolphin', 'giraffe']\n",
      "5 -> ['shark', 'eagle']\n",
      "4 -> ['lion', 'bear', 'duck']\n",
      "3 -> ['bat', 'rat']\n"
     ]
    }
   ],
   "source": [
    "for length, group in itertools.groupby(reversed(animals), len):\n",
    "    print(length, '->', list(group))"
   ]
  },
  {
   "cell_type": "code",
   "execution_count": 113,
   "metadata": {
    "ExecuteTime": {
     "end_time": "2019-12-30T04:08:15.691986Z",
     "start_time": "2019-12-30T04:08:15.687590Z"
    }
   },
   "outputs": [
    {
     "data": {
      "text/plain": [
       "[<itertools._tee at 0x10f0dc808>, <itertools._tee at 0x10f0e26c8>]"
      ]
     },
     "execution_count": 113,
     "metadata": {},
     "output_type": "execute_result"
    }
   ],
   "source": [
    "list(itertools.tee('ABC'))"
   ]
  },
  {
   "cell_type": "code",
   "execution_count": 114,
   "metadata": {
    "ExecuteTime": {
     "end_time": "2019-12-30T04:08:31.629876Z",
     "start_time": "2019-12-30T04:08:31.625174Z"
    }
   },
   "outputs": [
    {
     "data": {
      "text/plain": [
       "'A'"
      ]
     },
     "execution_count": 114,
     "metadata": {},
     "output_type": "execute_result"
    }
   ],
   "source": [
    "g1, g2 = itertools.tee('ABC')\n",
    "next(g1)"
   ]
  },
  {
   "cell_type": "code",
   "execution_count": 115,
   "metadata": {
    "ExecuteTime": {
     "end_time": "2019-12-30T04:08:34.851358Z",
     "start_time": "2019-12-30T04:08:34.846778Z"
    }
   },
   "outputs": [
    {
     "data": {
      "text/plain": [
       "'A'"
      ]
     },
     "execution_count": 115,
     "metadata": {},
     "output_type": "execute_result"
    }
   ],
   "source": [
    "next(g2)"
   ]
  },
  {
   "cell_type": "code",
   "execution_count": 116,
   "metadata": {
    "ExecuteTime": {
     "end_time": "2019-12-30T04:08:41.317915Z",
     "start_time": "2019-12-30T04:08:41.314198Z"
    }
   },
   "outputs": [
    {
     "data": {
      "text/plain": [
       "['B', 'C']"
      ]
     },
     "execution_count": 116,
     "metadata": {},
     "output_type": "execute_result"
    }
   ],
   "source": [
    "list(g1)"
   ]
  },
  {
   "cell_type": "code",
   "execution_count": 117,
   "metadata": {
    "ExecuteTime": {
     "end_time": "2019-12-30T04:08:46.162200Z",
     "start_time": "2019-12-30T04:08:46.157535Z"
    }
   },
   "outputs": [
    {
     "data": {
      "text/plain": [
       "['B', 'C']"
      ]
     },
     "execution_count": 117,
     "metadata": {},
     "output_type": "execute_result"
    }
   ],
   "source": [
    "list(g2)"
   ]
  },
  {
   "cell_type": "code",
   "execution_count": 118,
   "metadata": {
    "ExecuteTime": {
     "end_time": "2019-12-30T04:08:55.266473Z",
     "start_time": "2019-12-30T04:08:55.262377Z"
    }
   },
   "outputs": [
    {
     "data": {
      "text/plain": [
       "[('A', 'A'), ('B', 'B'), ('C', 'C')]"
      ]
     },
     "execution_count": 118,
     "metadata": {},
     "output_type": "execute_result"
    }
   ],
   "source": [
    "list(zip(*itertools.tee('ABC')))"
   ]
  },
  {
   "cell_type": "markdown",
   "metadata": {},
   "source": [
    "## New Syntax in Python 3.3: yield from"
   ]
  },
  {
   "cell_type": "code",
   "execution_count": 119,
   "metadata": {
    "ExecuteTime": {
     "end_time": "2019-12-30T04:49:56.889249Z",
     "start_time": "2019-12-30T04:49:56.884511Z"
    }
   },
   "outputs": [],
   "source": [
    "def chain(*iterables):\n",
    "    for it in iterables:\n",
    "        for i in it:\n",
    "            yield i"
   ]
  },
  {
   "cell_type": "code",
   "execution_count": 121,
   "metadata": {
    "ExecuteTime": {
     "end_time": "2019-12-30T04:50:16.252917Z",
     "start_time": "2019-12-30T04:50:16.248312Z"
    }
   },
   "outputs": [
    {
     "data": {
      "text/plain": [
       "['A', 'B', 'C', 0, 1, 2]"
      ]
     },
     "execution_count": 121,
     "metadata": {},
     "output_type": "execute_result"
    }
   ],
   "source": [
    "s = 'ABC'\n",
    "t = tuple(range(3))\n",
    "list(chain(s, t))"
   ]
  },
  {
   "cell_type": "code",
   "execution_count": 122,
   "metadata": {
    "ExecuteTime": {
     "end_time": "2019-12-30T04:50:41.340964Z",
     "start_time": "2019-12-30T04:50:41.337964Z"
    }
   },
   "outputs": [],
   "source": [
    "def chain(*iterables):\n",
    "    for i in iterables:\n",
    "        yield from i"
   ]
  },
  {
   "cell_type": "code",
   "execution_count": 123,
   "metadata": {
    "ExecuteTime": {
     "end_time": "2019-12-30T04:50:45.915756Z",
     "start_time": "2019-12-30T04:50:45.911484Z"
    }
   },
   "outputs": [
    {
     "data": {
      "text/plain": [
       "['A', 'B', 'C', 0, 1, 2]"
      ]
     },
     "execution_count": 123,
     "metadata": {},
     "output_type": "execute_result"
    }
   ],
   "source": [
    "list(chain(s, t))"
   ]
  },
  {
   "cell_type": "markdown",
   "metadata": {},
   "source": [
    "## Iterable Reducing Funcitons"
   ]
  },
  {
   "cell_type": "code",
   "execution_count": 124,
   "metadata": {
    "ExecuteTime": {
     "end_time": "2019-12-30T04:52:26.100106Z",
     "start_time": "2019-12-30T04:52:26.095215Z"
    }
   },
   "outputs": [
    {
     "data": {
      "text/plain": [
       "True"
      ]
     },
     "execution_count": 124,
     "metadata": {},
     "output_type": "execute_result"
    }
   ],
   "source": [
    "all([1, 2, 3])"
   ]
  },
  {
   "cell_type": "code",
   "execution_count": 125,
   "metadata": {
    "ExecuteTime": {
     "end_time": "2019-12-30T04:52:30.287289Z",
     "start_time": "2019-12-30T04:52:30.283031Z"
    }
   },
   "outputs": [
    {
     "data": {
      "text/plain": [
       "False"
      ]
     },
     "execution_count": 125,
     "metadata": {},
     "output_type": "execute_result"
    }
   ],
   "source": [
    "all([1, 0, 3])"
   ]
  },
  {
   "cell_type": "code",
   "execution_count": 126,
   "metadata": {
    "ExecuteTime": {
     "end_time": "2019-12-30T04:52:34.704846Z",
     "start_time": "2019-12-30T04:52:34.701126Z"
    }
   },
   "outputs": [
    {
     "data": {
      "text/plain": [
       "True"
      ]
     },
     "execution_count": 126,
     "metadata": {},
     "output_type": "execute_result"
    }
   ],
   "source": [
    "all([])"
   ]
  },
  {
   "cell_type": "code",
   "execution_count": 127,
   "metadata": {
    "ExecuteTime": {
     "end_time": "2019-12-30T04:53:28.412553Z",
     "start_time": "2019-12-30T04:53:28.407284Z"
    }
   },
   "outputs": [
    {
     "data": {
      "text/plain": [
       "True"
      ]
     },
     "execution_count": 127,
     "metadata": {},
     "output_type": "execute_result"
    }
   ],
   "source": [
    "any([1, 2, 3])"
   ]
  },
  {
   "cell_type": "code",
   "execution_count": 128,
   "metadata": {
    "ExecuteTime": {
     "end_time": "2019-12-30T04:53:33.379583Z",
     "start_time": "2019-12-30T04:53:33.375862Z"
    }
   },
   "outputs": [
    {
     "data": {
      "text/plain": [
       "True"
      ]
     },
     "execution_count": 128,
     "metadata": {},
     "output_type": "execute_result"
    }
   ],
   "source": [
    "any([1, 0, 3])"
   ]
  },
  {
   "cell_type": "code",
   "execution_count": 129,
   "metadata": {
    "ExecuteTime": {
     "end_time": "2019-12-30T04:53:38.303393Z",
     "start_time": "2019-12-30T04:53:38.298556Z"
    }
   },
   "outputs": [
    {
     "data": {
      "text/plain": [
       "False"
      ]
     },
     "execution_count": 129,
     "metadata": {},
     "output_type": "execute_result"
    }
   ],
   "source": [
    "any([0, 0, 0])"
   ]
  },
  {
   "cell_type": "code",
   "execution_count": 130,
   "metadata": {
    "ExecuteTime": {
     "end_time": "2019-12-30T04:53:41.698681Z",
     "start_time": "2019-12-30T04:53:41.691775Z"
    }
   },
   "outputs": [
    {
     "data": {
      "text/plain": [
       "False"
      ]
     },
     "execution_count": 130,
     "metadata": {},
     "output_type": "execute_result"
    }
   ],
   "source": [
    "any([])"
   ]
  },
  {
   "cell_type": "code",
   "execution_count": 131,
   "metadata": {
    "ExecuteTime": {
     "end_time": "2019-12-30T04:53:55.000099Z",
     "start_time": "2019-12-30T04:53:54.995653Z"
    }
   },
   "outputs": [
    {
     "data": {
      "text/plain": [
       "True"
      ]
     },
     "execution_count": 131,
     "metadata": {},
     "output_type": "execute_result"
    }
   ],
   "source": [
    "g = (n for n in [0, 0.0, 7, 8])\n",
    "any(g)"
   ]
  },
  {
   "cell_type": "code",
   "execution_count": 132,
   "metadata": {
    "ExecuteTime": {
     "end_time": "2019-12-30T04:53:58.992626Z",
     "start_time": "2019-12-30T04:53:58.988253Z"
    }
   },
   "outputs": [
    {
     "data": {
      "text/plain": [
       "8"
      ]
     },
     "execution_count": 132,
     "metadata": {},
     "output_type": "execute_result"
    }
   ],
   "source": [
    "next(g)"
   ]
  },
  {
   "cell_type": "markdown",
   "metadata": {},
   "source": [
    "# A Closer Look at the iter Function"
   ]
  },
  {
   "cell_type": "code",
   "execution_count": 159,
   "metadata": {
    "ExecuteTime": {
     "end_time": "2019-12-30T05:01:45.836502Z",
     "start_time": "2019-12-30T05:01:45.833163Z"
    }
   },
   "outputs": [],
   "source": [
    "import random\n",
    "\n",
    "random.seed(1)\n",
    "\n",
    "def d6():\n",
    "    return random.randint(1, 6)"
   ]
  },
  {
   "cell_type": "code",
   "execution_count": 160,
   "metadata": {
    "ExecuteTime": {
     "end_time": "2019-12-30T05:01:46.255854Z",
     "start_time": "2019-12-30T05:01:46.250919Z"
    }
   },
   "outputs": [
    {
     "data": {
      "text/plain": [
       "<callable_iterator at 0x10f0de128>"
      ]
     },
     "execution_count": 160,
     "metadata": {},
     "output_type": "execute_result"
    }
   ],
   "source": [
    "# iter(callable, sentinel)\n",
    "d6_iter = iter(d6, 1)\n",
    "d6_iter"
   ]
  },
  {
   "cell_type": "code",
   "execution_count": 161,
   "metadata": {
    "ExecuteTime": {
     "end_time": "2019-12-30T05:01:46.790017Z",
     "start_time": "2019-12-30T05:01:46.786036Z"
    }
   },
   "outputs": [
    {
     "name": "stdout",
     "output_type": "stream",
     "text": [
      "2\n",
      "5\n"
     ]
    }
   ],
   "source": [
    "for roll in d6_iter:\n",
    "    print(roll)"
   ]
  },
  {
   "cell_type": "code",
   "execution_count": null,
   "metadata": {},
   "outputs": [],
   "source": [
    "with open('mydata.txt') as fp:\n",
    "    for line in iter(fp.readline, '\\n'):\n",
    "        process_line(line)"
   ]
  },
  {
   "cell_type": "markdown",
   "metadata": {},
   "source": [
    "# Generators as Coroutines\n",
    "David Beazley warned in the PyCon US 2009 tutorial:\n",
    "- Generators produce data for iteration\n",
    "- Coroutines are consumers of data\n",
    "- To kepp your breain from exploding, you don't mix the two concepts together\n",
    "- Coroutinnes are not related to iteration\n",
    "- Note: There is a use of having yield produce a value in a coroutine, but it's not tied to iteration."
   ]
  },
  {
   "cell_type": "code",
   "execution_count": null,
   "metadata": {},
   "outputs": [],
   "source": []
  }
 ],
 "metadata": {
  "kernelspec": {
   "display_name": "Python 3",
   "language": "python",
   "name": "python3"
  },
  "language_info": {
   "codemirror_mode": {
    "name": "ipython",
    "version": 3
   },
   "file_extension": ".py",
   "mimetype": "text/x-python",
   "name": "python",
   "nbconvert_exporter": "python",
   "pygments_lexer": "ipython3",
   "version": "3.7.2"
  }
 },
 "nbformat": 4,
 "nbformat_minor": 2
}
