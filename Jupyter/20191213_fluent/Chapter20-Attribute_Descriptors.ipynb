{
 "cells": [
  {
   "cell_type": "markdown",
   "metadata": {},
   "source": [
    "# Chapter 20. Attribute Descriptors\n",
    "> Learning about descriptors not only provides access to a larger toolset, it creates a deeper understanding of how Python workds and an appreciation for the elegance of its design.   \n",
    "<br>Raymond Hettinger, *Python core developer and guru*\n",
    "\n",
    "<br>\n",
    "\n",
    "Protocol\n",
    "- `__get__`\n",
    "- `__set__`\n",
    "- `__delete__`"
   ]
  },
  {
   "cell_type": "markdown",
   "metadata": {},
   "source": [
    "# Descriptor Example: Attribute Validation"
   ]
  },
  {
   "cell_type": "markdown",
   "metadata": {},
   "source": [
    "## LineItem Take #3: A Simple Descriptor"
   ]
  },
  {
   "cell_type": "code",
   "execution_count": 3,
   "metadata": {
    "ExecuteTime": {
     "end_time": "2019-12-31T10:02:45.410209Z",
     "start_time": "2019-12-31T10:02:45.403952Z"
    }
   },
   "outputs": [],
   "source": [
    "class Quantity:\n",
    "    def __init__(self, storage_name):\n",
    "        self.storage_name = storage_name\n",
    "    \n",
    "    def __set__(self, instance, value):\n",
    "        if value > 0:\n",
    "            # Need to ccess storage_name of instance by __dict__\n",
    "            # to avoid entering infinite loop.\n",
    "            # e.g, instance.storage_name, setattr(instance, self.storage_name, value)\n",
    "            # calls __set__ again and again.\n",
    "            instance.__dict__[self.storage_name] = value\n",
    "        else:\n",
    "            raise ValueError('value must be > 0')\n",
    "\n",
    "class LineItem:\n",
    "    weight = Quantity('weight')\n",
    "    price = Quantity('price')\n",
    "    \n",
    "    def __init__(self, description, weight, price):\n",
    "        self.description = description\n",
    "        self.weight = weight\n",
    "        self.price = price\n",
    "    \n",
    "    def subtotal(self):\n",
    "        return self.weight * self.price"
   ]
  },
  {
   "cell_type": "markdown",
   "metadata": {},
   "source": [
    "## LineItem Take #4: Automatic Storage Attribute Names"
   ]
  },
  {
   "cell_type": "code",
   "execution_count": 8,
   "metadata": {
    "ExecuteTime": {
     "end_time": "2019-12-31T10:08:15.077263Z",
     "start_time": "2019-12-31T10:08:15.069583Z"
    }
   },
   "outputs": [],
   "source": [
    "class Quantity:\n",
    "    __counter = 0\n",
    "    \n",
    "    def __init__(self):\n",
    "        cls = self.__class__\n",
    "        prefix = cls.__name__\n",
    "        index = cls.__counter\n",
    "        self.storage_name = '_{}#{}'.format(prefix, index)\n",
    "        cls.__counter += 1\n",
    "    \n",
    "    def __get__(self, instance, owner):\n",
    "        return getattr(instance, self.storage_name)\n",
    "    \n",
    "    def __set__(self, instance, value):\n",
    "        if value > 0:\n",
    "            # No need to care of infinite loop\n",
    "            # because storage_name is different between descriptor and LineItem instance\n",
    "            setattr(instance, self.storage_name, value)\n",
    "        else:\n",
    "            raise ValueError('value must be > 0')\n",
    "\n",
    "class Lineitem:\n",
    "    weight = Quantity()\n",
    "    price = Quantity()\n",
    "    \n",
    "    def __init__(self, description, weight, price):\n",
    "        self.description = description\n",
    "        self.weight = weight\n",
    "        self.price = price\n",
    "    \n",
    "    def subtotal(self):\n",
    "        return self.weight * self.price"
   ]
  },
  {
   "cell_type": "code",
   "execution_count": 9,
   "metadata": {
    "ExecuteTime": {
     "end_time": "2019-12-31T10:08:16.122996Z",
     "start_time": "2019-12-31T10:08:16.118904Z"
    }
   },
   "outputs": [
    {
     "data": {
      "text/plain": [
       "(20, 17.95)"
      ]
     },
     "execution_count": 9,
     "metadata": {},
     "output_type": "execute_result"
    }
   ],
   "source": [
    "coconuts = LineItem('Brazilian coconut', 20, 17.95)\n",
    "coconuts.weight, coconuts.price"
   ]
  },
  {
   "cell_type": "code",
   "execution_count": 10,
   "metadata": {
    "ExecuteTime": {
     "end_time": "2019-12-31T10:08:16.940965Z",
     "start_time": "2019-12-31T10:08:16.933297Z"
    }
   },
   "outputs": [
    {
     "ename": "AttributeError",
     "evalue": "'LineItem' object has no attribute '_Quantity#0'",
     "output_type": "error",
     "traceback": [
      "\u001b[0;31m---------------------------------------------------------------------------\u001b[0m",
      "\u001b[0;31mAttributeError\u001b[0m                            Traceback (most recent call last)",
      "\u001b[0;32m<ipython-input-10-cd6ffc54eca7>\u001b[0m in \u001b[0;36m<module>\u001b[0;34m\u001b[0m\n\u001b[0;32m----> 1\u001b[0;31m \u001b[0mgetattr\u001b[0m\u001b[0;34m(\u001b[0m\u001b[0mcoconuts\u001b[0m\u001b[0;34m,\u001b[0m \u001b[0;34m'_Quantity#0'\u001b[0m\u001b[0;34m)\u001b[0m\u001b[0;34m,\u001b[0m \u001b[0mgetattr\u001b[0m\u001b[0;34m(\u001b[0m\u001b[0mcoconuts\u001b[0m\u001b[0;34m,\u001b[0m \u001b[0;34m'_Quantity#1'\u001b[0m\u001b[0;34m)\u001b[0m\u001b[0;34m\u001b[0m\u001b[0;34m\u001b[0m\u001b[0m\n\u001b[0m",
      "\u001b[0;31mAttributeError\u001b[0m: 'LineItem' object has no attribute '_Quantity#0'"
     ]
    }
   ],
   "source": [
    "getattr(coconuts, '_Quantity#0'), getattr(coconuts, '_Quantity#1')"
   ]
  },
  {
   "cell_type": "code",
   "execution_count": 11,
   "metadata": {
    "ExecuteTime": {
     "end_time": "2019-12-31T10:16:46.450671Z",
     "start_time": "2019-12-31T10:16:46.440105Z"
    }
   },
   "outputs": [],
   "source": [
    "class Quantity:\n",
    "    __counter = 0\n",
    "\n",
    "    def __init__(self):\n",
    "        cls = self.__class__\n",
    "        prefix = cls.__name__\n",
    "        index = cls.__counter\n",
    "        self.storage_name = '_{}#{}'.format(prefix, index)\n",
    "        cls.__counter += 1\n",
    "\n",
    "    def __get__(self, instance, owner):\n",
    "        # return self to represent that you access to descriptor\n",
    "        if instance is None:\n",
    "            return self\n",
    "        else:\n",
    "            return getattr(instance, self.storage_name)\n",
    "\n",
    "    def __set__(self, instance, value):\n",
    "        if value > 0:\n",
    "            setattr(instance, self.storage_name)\n",
    "        else:\n",
    "            raise ValueError('value must be > 0')"
   ]
  },
  {
   "cell_type": "code",
   "execution_count": 12,
   "metadata": {
    "ExecuteTime": {
     "end_time": "2019-12-31T10:16:54.741289Z",
     "start_time": "2019-12-31T10:16:54.737372Z"
    }
   },
   "outputs": [
    {
     "data": {
      "text/plain": [
       "<__main__.Quantity at 0x108ffc438>"
      ]
     },
     "execution_count": 12,
     "metadata": {},
     "output_type": "execute_result"
    }
   ],
   "source": [
    "LineItem.price"
   ]
  },
  {
   "cell_type": "code",
   "execution_count": 13,
   "metadata": {
    "ExecuteTime": {
     "end_time": "2019-12-31T10:17:32.544895Z",
     "start_time": "2019-12-31T10:17:32.537346Z"
    }
   },
   "outputs": [
    {
     "data": {
      "text/plain": [
       "34.95"
      ]
     },
     "execution_count": 13,
     "metadata": {},
     "output_type": "execute_result"
    }
   ],
   "source": [
    "br_nuts = LineItem('Brazil nuts', 10, 34.95)\n",
    "br_nuts.price"
   ]
  },
  {
   "cell_type": "code",
   "execution_count": null,
   "metadata": {},
   "outputs": [],
   "source": [
    "# Descriptor as utitlity\n",
    "class LineItem:\n",
    "    weight = model.Quantity()\n",
    "    price = model.Quantity()\n",
    "    \n",
    "    def __init__(self, description, weight, price):\n",
    "        self.description = description\n",
    "        self.weight = weight\n",
    "        self.price = price\n",
    "    \n",
    "    def subtotal(self):\n",
    "        return self.weight * self.price"
   ]
  },
  {
   "cell_type": "markdown",
   "metadata": {},
   "source": [
    "## LineItem Take #5: A New Descriptor Type"
   ]
  },
  {
   "cell_type": "code",
   "execution_count": 14,
   "metadata": {
    "ExecuteTime": {
     "end_time": "2019-12-31T10:35:34.129549Z",
     "start_time": "2019-12-31T10:35:34.119047Z"
    }
   },
   "outputs": [],
   "source": [
    "import abc\n",
    "\n",
    "\n",
    "class AutoStorage:\n",
    "    __counter = 0\n",
    "    \n",
    "    def __init__(self):\n",
    "        cls = self.__class__\n",
    "        prefix = cls.__name__\n",
    "        index = cls.__counter\n",
    "        self.storage_name = '_{}#{}'.format(prefix, index)\n",
    "        cls.__counter += 1\n",
    "    \n",
    "    def __get__(self, instance, owner):\n",
    "        if instance is None:\n",
    "            return self\n",
    "        else:\n",
    "            return getattr(instance, self.storage_name)\n",
    "        \n",
    "    def __set__(self, instance, value):\n",
    "        setattr(instance, self.storage_name, value)\n",
    "\n",
    "\n",
    "class Validated(abc.ABC, AutoStorage):\n",
    "    def __set__(self, instance, value):\n",
    "        value = self.validate(instance, value)\n",
    "        super().__set__(instance, value)\n",
    "    \n",
    "    @abc.abstractmethod\n",
    "    def validate(self, instance, value):\n",
    "        \"\"\"return validated value or raise Value Error\"\"\"\n",
    "    \n",
    "\n",
    "class Quantity(Validated):\n",
    "    \"\"\"a number greater than zero\"\"\"\n",
    "    \n",
    "    def validate(self, instance, value):\n",
    "        if value <= 0:\n",
    "            raise ValueError('value must be > 0')\n",
    "        return value\n",
    "\n",
    "\n",
    "class NonBlank(Validated):\n",
    "    \"\"\"a string with at least one non-space character\"\"\"\n",
    "    \n",
    "    def validate(self, instance, value):\n",
    "        value = value.strip()\n",
    "        if len(value) == 0:\n",
    "            raise ValueError('value cannot be empty or blank')\n",
    "        return value"
   ]
  },
  {
   "cell_type": "markdown",
   "metadata": {},
   "source": [
    "# Overriding Versus Nonoverriding Descriptors\n",
    "`overriding descriptor`\n",
    "- implements the `__set__` method\n",
    "- e.g, `properties`\n",
    "\n",
    "<br>\n",
    "\n",
    "a.k.a.  \n",
    "- overriding descriptors\n",
    "    - data descriptors or enforced descriptors  \n",
    "- nonoverriding descriptors\n",
    "    - nondata descriptors or shadowable descriptors"
   ]
  },
  {
   "cell_type": "code",
   "execution_count": 33,
   "metadata": {
    "ExecuteTime": {
     "end_time": "2019-12-31T11:05:22.375557Z",
     "start_time": "2019-12-31T11:05:22.361865Z"
    }
   },
   "outputs": [],
   "source": [
    "def cls_name(obj_or_cls):\n",
    "    cls = type(obj_or_cls)\n",
    "    if cls is type:\n",
    "        cls = obj_or_cls\n",
    "    return cls.__name__.split('.')[-1]\n",
    "\n",
    "def display(obj):\n",
    "    cls = type(obj)\n",
    "    if cls is type:\n",
    "        return '<class {}>'.format(obj.__name__)\n",
    "    elif cls in [type(None), int]:\n",
    "        return repr(obj)\n",
    "    else:\n",
    "        return '<{} object>'.format(cls_name(obj))\n",
    "\n",
    "def print_args(name, *args):\n",
    "    pseudo_args = ', '.join(display(x) for x in args)\n",
    "    print('-> {}.__{}__({})'.format(cls_name(args[0]), name, pseudo_args))\n",
    "\n",
    "\n",
    "class Overriding:\n",
    "    \"\"\"a.k.a. data descriptor or enforced descriptor\"\"\"\n",
    "    \n",
    "    def __get__(self, instance, owner):\n",
    "        print_args('get', self, instance, owner)\n",
    "    \n",
    "    def __set__(self, instance, value):\n",
    "        print_args('set', self, instance, value)\n",
    "    \n",
    "\n",
    "class OverridingNoGet:\n",
    "    \"\"\"an overriding descriptor without ``__get__``\"\"\"\n",
    "    \n",
    "    def __set__(self, instance, value):\n",
    "        print_args('set', self, instance, value)\n",
    "\n",
    "\n",
    "class NonOverriding:\n",
    "    \"\"\"a.k.a. non-data or shadowable descriptor\"\"\"\n",
    "    \n",
    "    def __get__(self, instance, owner):\n",
    "        print_args('get', self, instance, owner)\n",
    "\n",
    "        \n",
    "class Managed:\n",
    "    over = Overriding()\n",
    "    over_no_get = OverridingNoGet()\n",
    "    non_over = NonOverriding()\n",
    "    \n",
    "    def spam(self):\n",
    "        print('-> Managed.spam({})'.format(display(self)))"
   ]
  },
  {
   "cell_type": "code",
   "execution_count": 17,
   "metadata": {
    "ExecuteTime": {
     "end_time": "2019-12-31T10:53:43.109760Z",
     "start_time": "2019-12-31T10:53:43.105535Z"
    }
   },
   "outputs": [
    {
     "data": {
      "text/plain": [
       "__main__.MyClass"
      ]
     },
     "execution_count": 17,
     "metadata": {},
     "output_type": "execute_result"
    }
   ],
   "source": [
    "class MyClass:\n",
    "    pass\n",
    "\n",
    "c = MyClass()\n",
    "type(c)"
   ]
  },
  {
   "cell_type": "code",
   "execution_count": 18,
   "metadata": {
    "ExecuteTime": {
     "end_time": "2019-12-31T10:53:47.745130Z",
     "start_time": "2019-12-31T10:53:47.741424Z"
    }
   },
   "outputs": [
    {
     "data": {
      "text/plain": [
       "<__main__.MyClass at 0x1090b6048>"
      ]
     },
     "execution_count": 18,
     "metadata": {},
     "output_type": "execute_result"
    }
   ],
   "source": [
    "c"
   ]
  },
  {
   "cell_type": "code",
   "execution_count": 19,
   "metadata": {
    "ExecuteTime": {
     "end_time": "2019-12-31T10:54:38.742273Z",
     "start_time": "2019-12-31T10:54:38.738386Z"
    }
   },
   "outputs": [
    {
     "data": {
      "text/plain": [
       "type"
      ]
     },
     "execution_count": 19,
     "metadata": {},
     "output_type": "execute_result"
    }
   ],
   "source": [
    "type(MyClass)"
   ]
  },
  {
   "cell_type": "code",
   "execution_count": 34,
   "metadata": {
    "ExecuteTime": {
     "end_time": "2019-12-31T11:05:29.884720Z",
     "start_time": "2019-12-31T11:05:29.881282Z"
    }
   },
   "outputs": [
    {
     "name": "stdout",
     "output_type": "stream",
     "text": [
      "-> Overriding.__get__(<Overriding object>, <Managed object>, <class Managed>)\n"
     ]
    }
   ],
   "source": [
    "obj = Managed()\n",
    "obj.over"
   ]
  },
  {
   "cell_type": "code",
   "execution_count": 21,
   "metadata": {
    "ExecuteTime": {
     "end_time": "2019-12-31T10:58:27.177312Z",
     "start_time": "2019-12-31T10:58:27.174401Z"
    }
   },
   "outputs": [
    {
     "name": "stdout",
     "output_type": "stream",
     "text": [
      "-> Overriding.__get__(<Overriding object>, None, <class Managed>)\n"
     ]
    }
   ],
   "source": [
    "Managed.over"
   ]
  },
  {
   "cell_type": "code",
   "execution_count": 22,
   "metadata": {
    "ExecuteTime": {
     "end_time": "2019-12-31T10:59:03.945469Z",
     "start_time": "2019-12-31T10:59:03.942457Z"
    }
   },
   "outputs": [
    {
     "name": "stdout",
     "output_type": "stream",
     "text": [
      "-> Overriding.__set__(<Overriding object>, <Managed object>, 7)\n"
     ]
    }
   ],
   "source": [
    "obj.over = 7"
   ]
  },
  {
   "cell_type": "code",
   "execution_count": 23,
   "metadata": {
    "ExecuteTime": {
     "end_time": "2019-12-31T10:59:23.633485Z",
     "start_time": "2019-12-31T10:59:23.630618Z"
    }
   },
   "outputs": [
    {
     "name": "stdout",
     "output_type": "stream",
     "text": [
      "-> Overriding.__get__(<Overriding object>, <Managed object>, <class Managed>)\n"
     ]
    }
   ],
   "source": [
    "obj.over"
   ]
  },
  {
   "cell_type": "code",
   "execution_count": 24,
   "metadata": {
    "ExecuteTime": {
     "end_time": "2019-12-31T10:59:47.711733Z",
     "start_time": "2019-12-31T10:59:47.707613Z"
    }
   },
   "outputs": [
    {
     "data": {
      "text/plain": [
       "{'over': 8}"
      ]
     },
     "execution_count": 24,
     "metadata": {},
     "output_type": "execute_result"
    }
   ],
   "source": [
    "obj.__dict__['over'] = 8\n",
    "vars(obj)"
   ]
  },
  {
   "cell_type": "code",
   "execution_count": 25,
   "metadata": {
    "ExecuteTime": {
     "end_time": "2019-12-31T10:59:51.860100Z",
     "start_time": "2019-12-31T10:59:51.857029Z"
    }
   },
   "outputs": [
    {
     "name": "stdout",
     "output_type": "stream",
     "text": [
      "-> Overriding.__get__(<Overriding object>, <Managed object>, <class Managed>)\n"
     ]
    }
   ],
   "source": [
    "obj.over"
   ]
  },
  {
   "cell_type": "markdown",
   "metadata": {},
   "source": [
    "## Overriding Descriptor Without __get__"
   ]
  },
  {
   "cell_type": "code",
   "execution_count": 35,
   "metadata": {
    "ExecuteTime": {
     "end_time": "2019-12-31T11:05:34.073916Z",
     "start_time": "2019-12-31T11:05:34.070450Z"
    }
   },
   "outputs": [
    {
     "data": {
      "text/plain": [
       "<__main__.OverridingNoGet at 0x1090c8f28>"
      ]
     },
     "execution_count": 35,
     "metadata": {},
     "output_type": "execute_result"
    }
   ],
   "source": [
    "obj.over_no_get"
   ]
  },
  {
   "cell_type": "code",
   "execution_count": 36,
   "metadata": {
    "ExecuteTime": {
     "end_time": "2019-12-31T11:05:34.636322Z",
     "start_time": "2019-12-31T11:05:34.632362Z"
    }
   },
   "outputs": [
    {
     "data": {
      "text/plain": [
       "<__main__.OverridingNoGet at 0x1090c8f28>"
      ]
     },
     "execution_count": 36,
     "metadata": {},
     "output_type": "execute_result"
    }
   ],
   "source": [
    "Managed.over_no_get"
   ]
  },
  {
   "cell_type": "code",
   "execution_count": 37,
   "metadata": {
    "ExecuteTime": {
     "end_time": "2019-12-31T11:05:35.225392Z",
     "start_time": "2019-12-31T11:05:35.222454Z"
    }
   },
   "outputs": [
    {
     "name": "stdout",
     "output_type": "stream",
     "text": [
      "-> OverridingNoGet.__set__(<OverridingNoGet object>, <Managed object>, 7)\n"
     ]
    }
   ],
   "source": [
    "obj.over_no_get = 7"
   ]
  },
  {
   "cell_type": "code",
   "execution_count": 38,
   "metadata": {
    "ExecuteTime": {
     "end_time": "2019-12-31T11:05:46.346651Z",
     "start_time": "2019-12-31T11:05:46.342478Z"
    }
   },
   "outputs": [
    {
     "data": {
      "text/plain": [
       "<__main__.OverridingNoGet at 0x1090c8f28>"
      ]
     },
     "execution_count": 38,
     "metadata": {},
     "output_type": "execute_result"
    }
   ],
   "source": [
    "obj.over_no_get"
   ]
  },
  {
   "cell_type": "code",
   "execution_count": 40,
   "metadata": {
    "ExecuteTime": {
     "end_time": "2019-12-31T11:06:14.210810Z",
     "start_time": "2019-12-31T11:06:14.207075Z"
    }
   },
   "outputs": [
    {
     "data": {
      "text/plain": [
       "9"
      ]
     },
     "execution_count": 40,
     "metadata": {},
     "output_type": "execute_result"
    }
   ],
   "source": [
    "obj.__dict__['over_no_get'] = 9\n",
    "obj.over_no_get"
   ]
  },
  {
   "cell_type": "code",
   "execution_count": 41,
   "metadata": {
    "ExecuteTime": {
     "end_time": "2019-12-31T11:06:37.736183Z",
     "start_time": "2019-12-31T11:06:37.733119Z"
    }
   },
   "outputs": [
    {
     "name": "stdout",
     "output_type": "stream",
     "text": [
      "-> OverridingNoGet.__set__(<OverridingNoGet object>, <Managed object>, 7)\n"
     ]
    }
   ],
   "source": [
    "obj.over_no_get = 7"
   ]
  },
  {
   "cell_type": "code",
   "execution_count": 42,
   "metadata": {
    "ExecuteTime": {
     "end_time": "2019-12-31T11:06:46.494762Z",
     "start_time": "2019-12-31T11:06:46.488461Z"
    }
   },
   "outputs": [
    {
     "data": {
      "text/plain": [
       "9"
      ]
     },
     "execution_count": 42,
     "metadata": {},
     "output_type": "execute_result"
    }
   ],
   "source": [
    "obj.over_no_get"
   ]
  },
  {
   "cell_type": "markdown",
   "metadata": {},
   "source": [
    "## Overriding a Descriptor in the Class"
   ]
  },
  {
   "cell_type": "code",
   "execution_count": 43,
   "metadata": {
    "ExecuteTime": {
     "end_time": "2019-12-31T11:12:35.657633Z",
     "start_time": "2019-12-31T11:12:35.652865Z"
    }
   },
   "outputs": [
    {
     "data": {
      "text/plain": [
       "(1, 2, 3)"
      ]
     },
     "execution_count": 43,
     "metadata": {},
     "output_type": "execute_result"
    }
   ],
   "source": [
    "obj = Managed()\n",
    "Managed.over = 1\n",
    "Managed.over_no_get = 2\n",
    "Managed.non_over = 3\n",
    "obj.over, obj.over_no_get, obj.non_over"
   ]
  },
  {
   "cell_type": "markdown",
   "metadata": {},
   "source": [
    "# Methods Are Descriptors\n",
    "- Functions within a class becomes a bound method because all user-defined functions have a `__get__` method\n",
    "    - but do not implement `__set__`, so those functions are **nonoverriding descriptors**\n",
    "- bound method object\n",
    "    - implements attributes\n",
    "        - `__get__`\n",
    "        - `__self__`\n",
    "            - holds reference to the instance\n",
    "        - `__func__`\n",
    "            - holds reference to the original function\n",
    "        - `__call__`\n",
    "            - invokes the original function (`__func__`) with the bound instance (`__self__`)\n",
    "       "
   ]
  },
  {
   "cell_type": "code",
   "execution_count": 44,
   "metadata": {
    "ExecuteTime": {
     "end_time": "2019-12-31T11:41:25.128835Z",
     "start_time": "2019-12-31T11:41:25.124785Z"
    }
   },
   "outputs": [
    {
     "data": {
      "text/plain": [
       "<bound method Managed.spam of <__main__.Managed object at 0x109090390>>"
      ]
     },
     "execution_count": 44,
     "metadata": {},
     "output_type": "execute_result"
    }
   ],
   "source": [
    "obj = Managed()\n",
    "obj.spam"
   ]
  },
  {
   "cell_type": "code",
   "execution_count": 45,
   "metadata": {
    "ExecuteTime": {
     "end_time": "2019-12-31T11:41:48.920617Z",
     "start_time": "2019-12-31T11:41:48.916775Z"
    }
   },
   "outputs": [
    {
     "data": {
      "text/plain": [
       "<function __main__.Managed.spam(self)>"
      ]
     },
     "execution_count": 45,
     "metadata": {},
     "output_type": "execute_result"
    }
   ],
   "source": [
    "Managed.spam"
   ]
  },
  {
   "cell_type": "code",
   "execution_count": 46,
   "metadata": {
    "ExecuteTime": {
     "end_time": "2019-12-31T11:42:05.430875Z",
     "start_time": "2019-12-31T11:42:05.427058Z"
    }
   },
   "outputs": [
    {
     "data": {
      "text/plain": [
       "7"
      ]
     },
     "execution_count": 46,
     "metadata": {},
     "output_type": "execute_result"
    }
   ],
   "source": [
    "obj.spam = 7\n",
    "obj.spam"
   ]
  },
  {
   "cell_type": "code",
   "execution_count": 47,
   "metadata": {
    "ExecuteTime": {
     "end_time": "2019-12-31T11:48:52.163831Z",
     "start_time": "2019-12-31T11:48:52.159685Z"
    }
   },
   "outputs": [],
   "source": [
    "import collections\n",
    "\n",
    "\n",
    "class Text(collections.UserString):\n",
    "    def __repr__(self):\n",
    "        return 'Text({!r})'.format(self.data)\n",
    "    \n",
    "    def reverse(self):\n",
    "        return self[::-1]"
   ]
  },
  {
   "cell_type": "code",
   "execution_count": 48,
   "metadata": {
    "ExecuteTime": {
     "end_time": "2019-12-31T11:49:05.204187Z",
     "start_time": "2019-12-31T11:49:05.200500Z"
    }
   },
   "outputs": [
    {
     "data": {
      "text/plain": [
       "Text('forward')"
      ]
     },
     "execution_count": 48,
     "metadata": {},
     "output_type": "execute_result"
    }
   ],
   "source": [
    "word = Text('forward')\n",
    "word"
   ]
  },
  {
   "cell_type": "code",
   "execution_count": 49,
   "metadata": {
    "ExecuteTime": {
     "end_time": "2019-12-31T11:49:11.867992Z",
     "start_time": "2019-12-31T11:49:11.862299Z"
    }
   },
   "outputs": [
    {
     "data": {
      "text/plain": [
       "Text('drawrof')"
      ]
     },
     "execution_count": 49,
     "metadata": {},
     "output_type": "execute_result"
    }
   ],
   "source": [
    "word.reverse()"
   ]
  },
  {
   "cell_type": "code",
   "execution_count": 50,
   "metadata": {
    "ExecuteTime": {
     "end_time": "2019-12-31T11:49:24.522320Z",
     "start_time": "2019-12-31T11:49:24.515831Z"
    }
   },
   "outputs": [
    {
     "data": {
      "text/plain": [
       "(function, method)"
      ]
     },
     "execution_count": 50,
     "metadata": {},
     "output_type": "execute_result"
    }
   ],
   "source": [
    "type(Text.reverse), type(word.reverse)"
   ]
  },
  {
   "cell_type": "code",
   "execution_count": 51,
   "metadata": {
    "ExecuteTime": {
     "end_time": "2019-12-31T11:52:49.967373Z",
     "start_time": "2019-12-31T11:52:49.962462Z"
    }
   },
   "outputs": [
    {
     "data": {
      "text/plain": [
       "['diaper', (30, 20, 10), Text('desserts')]"
      ]
     },
     "execution_count": 51,
     "metadata": {},
     "output_type": "execute_result"
    }
   ],
   "source": [
    "list(map(Text.reverse, ['repaid', (10, 20, 30), Text('stressed')]))"
   ]
  },
  {
   "cell_type": "code",
   "execution_count": 52,
   "metadata": {
    "ExecuteTime": {
     "end_time": "2019-12-31T11:53:18.560380Z",
     "start_time": "2019-12-31T11:53:18.554406Z"
    }
   },
   "outputs": [
    {
     "data": {
      "text/plain": [
       "<bound method Text.reverse of Text('forward')>"
      ]
     },
     "execution_count": 52,
     "metadata": {},
     "output_type": "execute_result"
    }
   ],
   "source": [
    "Text.reverse.__get__(word)"
   ]
  },
  {
   "cell_type": "code",
   "execution_count": 53,
   "metadata": {
    "ExecuteTime": {
     "end_time": "2019-12-31T11:53:45.759123Z",
     "start_time": "2019-12-31T11:53:45.752573Z"
    }
   },
   "outputs": [
    {
     "data": {
      "text/plain": [
       "<function __main__.Text.reverse(self)>"
      ]
     },
     "execution_count": 53,
     "metadata": {},
     "output_type": "execute_result"
    }
   ],
   "source": [
    "Text.reverse.__get__(None, Text)"
   ]
  },
  {
   "cell_type": "code",
   "execution_count": 54,
   "metadata": {
    "ExecuteTime": {
     "end_time": "2019-12-31T11:54:37.592472Z",
     "start_time": "2019-12-31T11:54:37.588679Z"
    }
   },
   "outputs": [
    {
     "data": {
      "text/plain": [
       "<bound method Text.reverse of Text('forward')>"
      ]
     },
     "execution_count": 54,
     "metadata": {},
     "output_type": "execute_result"
    }
   ],
   "source": [
    "word.reverse"
   ]
  },
  {
   "cell_type": "code",
   "execution_count": 55,
   "metadata": {
    "ExecuteTime": {
     "end_time": "2019-12-31T11:55:40.461739Z",
     "start_time": "2019-12-31T11:55:40.457886Z"
    }
   },
   "outputs": [
    {
     "data": {
      "text/plain": [
       "Text('forward')"
      ]
     },
     "execution_count": 55,
     "metadata": {},
     "output_type": "execute_result"
    }
   ],
   "source": [
    "word.reverse.__self__"
   ]
  },
  {
   "cell_type": "code",
   "execution_count": 56,
   "metadata": {
    "ExecuteTime": {
     "end_time": "2019-12-31T11:56:24.312924Z",
     "start_time": "2019-12-31T11:56:24.308800Z"
    }
   },
   "outputs": [
    {
     "data": {
      "text/plain": [
       "True"
      ]
     },
     "execution_count": 56,
     "metadata": {},
     "output_type": "execute_result"
    }
   ],
   "source": [
    "word.reverse.__func__ is Text.reverse"
   ]
  },
  {
   "cell_type": "markdown",
   "metadata": {},
   "source": [
    "# Descriptor Usage Tips\n",
    "- Use `property` to Keep It Simple\n",
    "- Read-only descriptors require `__set__`\n",
    "- Validation descriptors can work with `__set__` only\n",
    "- Caching can be done efficiently with `__get__` only\n",
    "- Nonspecial methods can be shadowed by instannce attributes"
   ]
  },
  {
   "cell_type": "code",
   "execution_count": null,
   "metadata": {},
   "outputs": [],
   "source": []
  }
 ],
 "metadata": {
  "kernelspec": {
   "display_name": "Python 3",
   "language": "python",
   "name": "python3"
  },
  "language_info": {
   "codemirror_mode": {
    "name": "ipython",
    "version": 3
   },
   "file_extension": ".py",
   "mimetype": "text/x-python",
   "name": "python",
   "nbconvert_exporter": "python",
   "pygments_lexer": "ipython3",
   "version": "3.7.2"
  }
 },
 "nbformat": 4,
 "nbformat_minor": 2
}
