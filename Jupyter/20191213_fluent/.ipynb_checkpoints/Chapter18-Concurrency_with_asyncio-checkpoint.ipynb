{
 "cells": [
  {
   "cell_type": "markdown",
   "metadata": {},
   "source": [
    "# Chapter 18. Concurrency with asyncio\n",
    "> Concurrency is about dealing with lots of things at once.  \n",
    "Parallelism is about doing lots of things at once.  \n",
    "<br>\n",
    "Rob Pike"
   ]
  },
  {
   "cell_type": "code",
   "execution_count": null,
   "metadata": {},
   "outputs": [],
   "source": [
    "# spinner thread\n",
    "import threading\n",
    "import itertools\n",
    "import time\n",
    "\n",
    "\n",
    "def spin(msg, done):\n",
    "    for char in itertools.cycle('|/-\\\\'):\n",
    "        status = chart + ' ' + msg\n",
    "        print(status, flush=True, end='\\r')\n",
    "        if done.wait(.1):\n",
    "            break\n",
    "    print(' ' + len(status), end='\\r')\n",
    "\n",
    "def slow_function():\n",
    "    time.sleep(3)\n",
    "    return 42\n",
    "\n",
    "def supervisor():\n",
    "    done = threading.Event()\n",
    "    spinner = threading.Thread(target=spin, args=('thinking!', done))\n",
    "    print('spinner object:', spinner)\n",
    "    \n",
    "    result = slow_function()\n",
    "    done.set()\n",
    "    "
   ]
  }
 ],
 "metadata": {
  "kernelspec": {
   "display_name": "Python 3",
   "language": "python",
   "name": "python3"
  },
  "language_info": {
   "codemirror_mode": {
    "name": "ipython",
    "version": 3
   },
   "file_extension": ".py",
   "mimetype": "text/x-python",
   "name": "python",
   "nbconvert_exporter": "python",
   "pygments_lexer": "ipython3",
   "version": "3.7.2"
  }
 },
 "nbformat": 4,
 "nbformat_minor": 2
}
