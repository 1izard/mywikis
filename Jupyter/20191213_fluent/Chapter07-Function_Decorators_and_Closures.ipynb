{
 "cells": [
  {
   "cell_type": "markdown",
   "metadata": {},
   "source": [
    "# Chapter 7. Function Decorators and Closures"
   ]
  },
  {
   "cell_type": "markdown",
   "metadata": {},
   "source": [
    "## Decorators 101\n",
    "\n",
    "- Decorators are syntactic sugar.\n",
    "- Decorators process or replace the passed function or callble, and return it.\n",
    "\n",
    "Points  \n",
    "- Decorators can replace the decorated function with different one.\n",
    "- Decorators are executed immediately when a module is loaded (i.e. import time)."
   ]
  },
  {
   "cell_type": "code",
   "execution_count": 1,
   "metadata": {
    "ExecuteTime": {
     "end_time": "2019-12-21T07:17:29.635796Z",
     "start_time": "2019-12-21T07:17:29.517583Z"
    }
   },
   "outputs": [
    {
     "ename": "NameError",
     "evalue": "name 'decorate' is not defined",
     "output_type": "error",
     "traceback": [
      "\u001b[0;31m---------------------------------------------------------------------------\u001b[0m",
      "\u001b[0;31mNameError\u001b[0m                                 Traceback (most recent call last)",
      "\u001b[0;32m<ipython-input-1-206a8402136b>\u001b[0m in \u001b[0;36m<module>\u001b[0;34m\u001b[0m\n\u001b[0;32m----> 1\u001b[0;31m \u001b[0;34m@\u001b[0m\u001b[0mdecorate\u001b[0m\u001b[0;34m\u001b[0m\u001b[0;34m\u001b[0m\u001b[0m\n\u001b[0m\u001b[1;32m      2\u001b[0m \u001b[0;32mdef\u001b[0m \u001b[0mtarget\u001b[0m\u001b[0;34m(\u001b[0m\u001b[0;34m)\u001b[0m\u001b[0;34m:\u001b[0m\u001b[0;34m\u001b[0m\u001b[0;34m\u001b[0m\u001b[0m\n\u001b[1;32m      3\u001b[0m     \u001b[0mprint\u001b[0m\u001b[0;34m(\u001b[0m\u001b[0;34m'running target()'\u001b[0m\u001b[0;34m)\u001b[0m\u001b[0;34m\u001b[0m\u001b[0;34m\u001b[0m\u001b[0m\n\u001b[1;32m      4\u001b[0m \u001b[0;34m\u001b[0m\u001b[0m\n\u001b[1;32m      5\u001b[0m \u001b[0;31m# the same\u001b[0m\u001b[0;34m\u001b[0m\u001b[0;34m\u001b[0m\u001b[0;34m\u001b[0m\u001b[0m\n",
      "\u001b[0;31mNameError\u001b[0m: name 'decorate' is not defined"
     ]
    }
   ],
   "source": [
    "@decorate\n",
    "def target():\n",
    "    print('running target()')\n",
    "\n",
    "# the same\n",
    "def target():\n",
    "    print('running target()')\n",
    "\n",
    "target = decorate(target)"
   ]
  },
  {
   "cell_type": "code",
   "execution_count": 2,
   "metadata": {
    "ExecuteTime": {
     "end_time": "2019-12-21T07:23:06.232169Z",
     "start_time": "2019-12-21T07:23:06.228642Z"
    }
   },
   "outputs": [],
   "source": [
    "# A decorator usually replaces a functoin with a different one\n",
    "def deco(func):\n",
    "    def inner():\n",
    "        print('running inner()')\n",
    "    return inner\n",
    "\n",
    "@deco\n",
    "def target():\n",
    "    print('running target()')"
   ]
  },
  {
   "cell_type": "code",
   "execution_count": 3,
   "metadata": {
    "ExecuteTime": {
     "end_time": "2019-12-21T07:23:08.703197Z",
     "start_time": "2019-12-21T07:23:08.699875Z"
    }
   },
   "outputs": [
    {
     "name": "stdout",
     "output_type": "stream",
     "text": [
      "running inner()\n"
     ]
    }
   ],
   "source": [
    "target()"
   ]
  },
  {
   "cell_type": "code",
   "execution_count": 4,
   "metadata": {
    "ExecuteTime": {
     "end_time": "2019-12-21T07:24:38.735667Z",
     "start_time": "2019-12-21T07:24:38.726021Z"
    }
   },
   "outputs": [
    {
     "data": {
      "text/plain": [
       "<function __main__.deco.<locals>.inner()>"
      ]
     },
     "execution_count": 4,
     "metadata": {},
     "output_type": "execute_result"
    }
   ],
   "source": [
    "target"
   ]
  },
  {
   "cell_type": "markdown",
   "metadata": {},
   "source": [
    "## When Python Executes Decorators"
   ]
  },
  {
   "cell_type": "code",
   "execution_count": 6,
   "metadata": {
    "ExecuteTime": {
     "end_time": "2019-12-21T07:30:26.580097Z",
     "start_time": "2019-12-21T07:30:26.573573Z"
    }
   },
   "outputs": [
    {
     "name": "stdout",
     "output_type": "stream",
     "text": [
      "running register(<function f1 at 0x112fc7378>)\n",
      "running register(<function f2 at 0x112fc7510>)\n",
      "running main()\n",
      "registry -> [<function f1 at 0x112fc7378>, <function f2 at 0x112fc7510>]\n",
      "running f1()\n",
      "running f2()\n",
      "running f3()\n"
     ]
    }
   ],
   "source": [
    "registry = []\n",
    "\n",
    "def register(func):\n",
    "    print('running register(%s)' % func)\n",
    "    registry.append(func)\n",
    "    return func\n",
    "\n",
    "@register\n",
    "def f1():\n",
    "    print('running f1()')\n",
    "    \n",
    "@register\n",
    "def f2():\n",
    "    print('running f2()')\n",
    "    \n",
    "def f3():\n",
    "    print('running f3()')\n",
    "    \n",
    "def main():\n",
    "    print('running main()')\n",
    "    print('registry ->', registry)\n",
    "    f1()\n",
    "    f2()\n",
    "    f3()\n",
    "    \n",
    "if __name__ == '__main__':\n",
    "    main()"
   ]
  },
  {
   "cell_type": "markdown",
   "metadata": {},
   "source": [
    "## Decorator-Enhanced Strategy Pattern"
   ]
  },
  {
   "cell_type": "code",
   "execution_count": 7,
   "metadata": {
    "ExecuteTime": {
     "end_time": "2019-12-21T07:44:28.494996Z",
     "start_time": "2019-12-21T07:44:28.487151Z"
    }
   },
   "outputs": [],
   "source": [
    "promos = []\n",
    "\n",
    "def promotion(promo_func):\n",
    "    promos.append(promo_func)\n",
    "    return promo_func\n",
    "\n",
    "@promotion\n",
    "def fidelity(order):\n",
    "    \"\"\"5% discount for customers with 1000 or more fidelity points\"\"\"\n",
    "    return order.total() * .05 if order.customer.fidelity >= 1000 else 0\n",
    "\n",
    "@promotion\n",
    "def bulk_item(order):\n",
    "    \"\"\"10% discount for each LineItem with 20 or more units\"\"\"\n",
    "    discount = 0\n",
    "    for item in order.cart:\n",
    "        if item.quantity >= 10:\n",
    "            discount += item.total() * .1\n",
    "    return discount\n",
    "\n",
    "@promotion\n",
    "def large_order(order):\n",
    "    \"\"\"7% discount for orders with 10 or more distinct items\"\"\"\n",
    "    distinct_items = {items.product for item in order.cart}\n",
    "    if len(distinct_items) >= 10:\n",
    "        return order.total() * .07\n",
    "    return 0\n",
    "\n",
    "def best_promo(order):\n",
    "    \"\"\"Select best discount available\"\"\"\n",
    "    return max(promo(order) for promo in promos)"
   ]
  },
  {
   "cell_type": "markdown",
   "metadata": {},
   "source": [
    "## Closures"
   ]
  },
  {
   "cell_type": "code",
   "execution_count": 8,
   "metadata": {
    "ExecuteTime": {
     "end_time": "2019-12-21T07:55:18.000179Z",
     "start_time": "2019-12-21T07:55:17.996092Z"
    }
   },
   "outputs": [],
   "source": [
    "# Class-based approach to store previous value\n",
    "class Averager():\n",
    "    def __init__(self):\n",
    "        self.series = []\n",
    "    \n",
    "    def __call__(self, new_value):\n",
    "        self.series.append(new_value)\n",
    "        total = sum(self.series)\n",
    "        return total / len(self.series)"
   ]
  },
  {
   "cell_type": "code",
   "execution_count": 9,
   "metadata": {
    "ExecuteTime": {
     "end_time": "2019-12-21T07:55:29.628653Z",
     "start_time": "2019-12-21T07:55:29.623046Z"
    }
   },
   "outputs": [
    {
     "data": {
      "text/plain": [
       "10.0"
      ]
     },
     "execution_count": 9,
     "metadata": {},
     "output_type": "execute_result"
    }
   ],
   "source": [
    "avg = Averager()\n",
    "avg(10)"
   ]
  },
  {
   "cell_type": "code",
   "execution_count": 10,
   "metadata": {
    "ExecuteTime": {
     "end_time": "2019-12-21T07:55:33.172266Z",
     "start_time": "2019-12-21T07:55:33.168237Z"
    }
   },
   "outputs": [
    {
     "data": {
      "text/plain": [
       "10.5"
      ]
     },
     "execution_count": 10,
     "metadata": {},
     "output_type": "execute_result"
    }
   ],
   "source": [
    "avg(11)"
   ]
  },
  {
   "cell_type": "code",
   "execution_count": 11,
   "metadata": {
    "ExecuteTime": {
     "end_time": "2019-12-21T07:55:37.904682Z",
     "start_time": "2019-12-21T07:55:37.900870Z"
    }
   },
   "outputs": [
    {
     "data": {
      "text/plain": [
       "11.0"
      ]
     },
     "execution_count": 11,
     "metadata": {},
     "output_type": "execute_result"
    }
   ],
   "source": [
    "avg(12)"
   ]
  },
  {
   "cell_type": "code",
   "execution_count": 14,
   "metadata": {
    "ExecuteTime": {
     "end_time": "2019-12-21T07:57:45.907482Z",
     "start_time": "2019-12-21T07:57:45.903724Z"
    }
   },
   "outputs": [],
   "source": [
    "# High-order function approach to store previous value\n",
    "def make_averager():\n",
    "    series = []\n",
    "    \n",
    "    def averager(new_value):\n",
    "        series.append(new_value)\n",
    "        total = sum(series)\n",
    "        return total / len(series)\n",
    "    \n",
    "    return averager"
   ]
  },
  {
   "cell_type": "code",
   "execution_count": 15,
   "metadata": {
    "ExecuteTime": {
     "end_time": "2019-12-21T07:57:46.545108Z",
     "start_time": "2019-12-21T07:57:46.540869Z"
    }
   },
   "outputs": [
    {
     "data": {
      "text/plain": [
       "10.0"
      ]
     },
     "execution_count": 15,
     "metadata": {},
     "output_type": "execute_result"
    }
   ],
   "source": [
    "avg = make_averager()\n",
    "avg(10)"
   ]
  },
  {
   "cell_type": "code",
   "execution_count": 16,
   "metadata": {
    "ExecuteTime": {
     "end_time": "2019-12-21T07:57:51.568595Z",
     "start_time": "2019-12-21T07:57:51.564805Z"
    }
   },
   "outputs": [
    {
     "data": {
      "text/plain": [
       "10.5"
      ]
     },
     "execution_count": 16,
     "metadata": {},
     "output_type": "execute_result"
    }
   ],
   "source": [
    "avg(11)"
   ]
  },
  {
   "cell_type": "code",
   "execution_count": 17,
   "metadata": {
    "ExecuteTime": {
     "end_time": "2019-12-21T07:57:56.389484Z",
     "start_time": "2019-12-21T07:57:56.386011Z"
    }
   },
   "outputs": [
    {
     "data": {
      "text/plain": [
       "11.0"
      ]
     },
     "execution_count": 17,
     "metadata": {},
     "output_type": "execute_result"
    }
   ],
   "source": [
    "avg(12)"
   ]
  },
  {
   "cell_type": "code",
   "execution_count": 18,
   "metadata": {
    "ExecuteTime": {
     "end_time": "2019-12-21T08:03:52.226316Z",
     "start_time": "2019-12-21T08:03:52.222257Z"
    }
   },
   "outputs": [
    {
     "data": {
      "text/plain": [
       "('new_value', 'total')"
      ]
     },
     "execution_count": 18,
     "metadata": {},
     "output_type": "execute_result"
    }
   ],
   "source": [
    "avg.__code__.co_varnames"
   ]
  },
  {
   "cell_type": "code",
   "execution_count": 19,
   "metadata": {
    "ExecuteTime": {
     "end_time": "2019-12-21T08:04:12.684250Z",
     "start_time": "2019-12-21T08:04:12.680141Z"
    }
   },
   "outputs": [
    {
     "data": {
      "text/plain": [
       "('series',)"
      ]
     },
     "execution_count": 19,
     "metadata": {},
     "output_type": "execute_result"
    }
   ],
   "source": [
    "avg.__code__.co_freevars"
   ]
  },
  {
   "cell_type": "code",
   "execution_count": 20,
   "metadata": {
    "ExecuteTime": {
     "end_time": "2019-12-21T08:04:35.014901Z",
     "start_time": "2019-12-21T08:04:35.011311Z"
    }
   },
   "outputs": [
    {
     "data": {
      "text/plain": [
       "(<cell at 0x112f1c948: list object at 0x112fb0bc8>,)"
      ]
     },
     "execution_count": 20,
     "metadata": {},
     "output_type": "execute_result"
    }
   ],
   "source": [
    "avg.__closure__"
   ]
  },
  {
   "cell_type": "code",
   "execution_count": 21,
   "metadata": {
    "ExecuteTime": {
     "end_time": "2019-12-21T08:04:46.120700Z",
     "start_time": "2019-12-21T08:04:46.116661Z"
    }
   },
   "outputs": [
    {
     "data": {
      "text/plain": [
       "[10, 11, 12]"
      ]
     },
     "execution_count": 21,
     "metadata": {},
     "output_type": "execute_result"
    }
   ],
   "source": [
    "avg.__closure__[0].cell_contents"
   ]
  },
  {
   "cell_type": "markdown",
   "metadata": {
    "ExecuteTime": {
     "end_time": "2019-12-21T08:53:14.186824Z",
     "start_time": "2019-12-21T08:53:14.184433Z"
    }
   },
   "source": [
    "## The nonlocal Declaration"
   ]
  },
  {
   "cell_type": "code",
   "execution_count": 23,
   "metadata": {
    "ExecuteTime": {
     "end_time": "2019-12-21T08:58:51.977209Z",
     "start_time": "2019-12-21T08:58:51.973571Z"
    }
   },
   "outputs": [],
   "source": [
    "def make_averager():\n",
    "    count = 0\n",
    "    total = 0\n",
    "    \n",
    "    def averager(new_value):\n",
    "        nonlocal count, total\n",
    "        count += 1\n",
    "        total += new_value\n",
    "        return total / count\n",
    "    \n",
    "    return averager"
   ]
  },
  {
   "cell_type": "markdown",
   "metadata": {},
   "source": [
    "## Implementing a Simple Decorator"
   ]
  },
  {
   "cell_type": "code",
   "execution_count": 27,
   "metadata": {
    "ExecuteTime": {
     "end_time": "2019-12-21T09:06:38.551105Z",
     "start_time": "2019-12-21T09:06:38.546229Z"
    }
   },
   "outputs": [],
   "source": [
    "import time\n",
    "\n",
    "def clock(func):\n",
    "    def clocked(*args):\n",
    "        t0 = time.perf_counter()\n",
    "        result = func(*args)\n",
    "        elapsed = time.perf_counter() - t0\n",
    "        name = func.__name__\n",
    "        arg_str = ', '.join(repr(arg) for arg in args)\n",
    "        print('[%0.8fs] %s(%s) -> %r' % (elapsed, name, arg_str, result))\n",
    "        return result\n",
    "    return clocked"
   ]
  },
  {
   "cell_type": "code",
   "execution_count": 28,
   "metadata": {
    "ExecuteTime": {
     "end_time": "2019-12-21T09:06:39.385565Z",
     "start_time": "2019-12-21T09:06:39.251365Z"
    }
   },
   "outputs": [
    {
     "name": "stdout",
     "output_type": "stream",
     "text": [
      "**************************************** Calling snooze(.123)\n",
      "[0.12787887s] snooze(0.123) -> None\n",
      "**************************************** Calling factorial(6)\n",
      "[0.00000125s] factorial(1) -> 1\n",
      "[0.00009786s] factorial(2) -> 2\n",
      "[0.00014038s] factorial(3) -> 6\n",
      "[0.00017635s] factorial(4) -> 24\n",
      "[0.00021360s] factorial(5) -> 120\n",
      "[0.00024432s] factorial(6) -> 720\n",
      "6! = 720\n"
     ]
    }
   ],
   "source": [
    "import time\n",
    "\n",
    "@clock\n",
    "def snooze(seconds):\n",
    "    time.sleep(seconds)\n",
    "\n",
    "@clock\n",
    "def factorial(n):\n",
    "    return 1 if n < 2 else n * factorial(n - 1)\n",
    "\n",
    "print('*' * 40, 'Calling snooze(.123)')\n",
    "snooze(.123)\n",
    "print('*' * 40, 'Calling factorial(6)')\n",
    "print('6! =', factorial(6))"
   ]
  },
  {
   "cell_type": "code",
   "execution_count": null,
   "metadata": {},
   "outputs": [],
   "source": [
    "import time\n",
    "import functools\n",
    "\n",
    "def clock(func):\n",
    "    @functools.wraps(func)\n",
    "    def clocked(*args, **kwargs):\n",
    "        t0 = time.perf_counter()\n",
    "        result = func(*args, **kwargs)\n",
    "        elapsed = time.perf_counter() - t0\n",
    "        name = func.__name__\n",
    "        arg_lst = []\n",
    "        if args:\n",
    "            arg_lst.append(', '.join(repr(arg) for arg from args))\n",
    "        if kwargs:\n",
    "            pairs = ['%s=%r' % (k, w) for k, w in sorted(kwargs.items())]\n",
    "            arg_lst.append(', '.join(pairs))\n",
    "        arg_str = ', '.join(arg_lst)\n",
    "        print('[%0.8fs] %s(%s) -> %r ' % (elapsed, name, arg_str, result))\n",
    "        return result\n",
    "    return clocked"
   ]
  },
  {
   "cell_type": "markdown",
   "metadata": {},
   "source": [
    "## Decorators in the Standard Library"
   ]
  },
  {
   "cell_type": "markdown",
   "metadata": {},
   "source": [
    "### Memoization with functools.lru_cache"
   ]
  },
  {
   "cell_type": "code",
   "execution_count": 29,
   "metadata": {
    "ExecuteTime": {
     "end_time": "2019-12-21T09:20:30.902500Z",
     "start_time": "2019-12-21T09:20:30.897829Z"
    }
   },
   "outputs": [
    {
     "name": "stdout",
     "output_type": "stream",
     "text": [
      "[0.00000051s] fibonacci(0) -> 0\n",
      "[0.00000076s] fibonacci(1) -> 1\n",
      "[0.00027948s] fibonacci(2) -> 1\n",
      "[0.00000041s] fibonacci(1) -> 1\n",
      "[0.00000044s] fibonacci(0) -> 0\n",
      "[0.00000034s] fibonacci(1) -> 1\n",
      "[0.00002759s] fibonacci(2) -> 1\n",
      "[0.00006278s] fibonacci(3) -> 2\n",
      "[0.00037816s] fibonacci(4) -> 3\n",
      "[0.00000033s] fibonacci(1) -> 1\n",
      "[0.00000031s] fibonacci(0) -> 0\n",
      "[0.00000035s] fibonacci(1) -> 1\n",
      "[0.00002978s] fibonacci(2) -> 1\n",
      "[0.00005839s] fibonacci(3) -> 2\n",
      "[0.00000030s] fibonacci(0) -> 0\n",
      "[0.00000033s] fibonacci(1) -> 1\n",
      "[0.00002593s] fibonacci(2) -> 1\n",
      "[0.00000031s] fibonacci(1) -> 1\n",
      "[0.00000049s] fibonacci(0) -> 0\n",
      "[0.00000037s] fibonacci(1) -> 1\n",
      "[0.00002684s] fibonacci(2) -> 1\n",
      "[0.00005976s] fibonacci(3) -> 2\n",
      "[0.00022234s] fibonacci(4) -> 3\n",
      "[0.00032946s] fibonacci(5) -> 5\n",
      "[0.00074311s] fibonacci(6) -> 8\n",
      "8\n"
     ]
    }
   ],
   "source": [
    "# The very costly recursive way\n",
    "@clock\n",
    "def fibonacci(n):\n",
    "    if n < 2:\n",
    "        return n\n",
    "    return fibonacci(n - 2) + fibonacci(n - 1)\n",
    "\n",
    "print(fibonacci(6))"
   ]
  },
  {
   "cell_type": "code",
   "execution_count": 32,
   "metadata": {
    "ExecuteTime": {
     "end_time": "2019-12-21T09:24:22.598824Z",
     "start_time": "2019-12-21T09:24:22.593674Z"
    }
   },
   "outputs": [
    {
     "name": "stdout",
     "output_type": "stream",
     "text": [
      "[0.00000068s] fibonacci(0) -> 0\n",
      "[0.00000108s] fibonacci(1) -> 1\n",
      "[0.00032321s] fibonacci(2) -> 1\n",
      "[0.00000170s] fibonacci(3) -> 2\n",
      "[0.00037890s] fibonacci(4) -> 3\n",
      "[0.00000117s] fibonacci(5) -> 5\n",
      "[0.00043285s] fibonacci(6) -> 8\n",
      "8\n"
     ]
    }
   ],
   "source": [
    "# Faster implementation using caching\n",
    "import functools\n",
    "\n",
    "@functools.lru_cache()\n",
    "@clock\n",
    "def fibonacci(n):\n",
    "    if n < 2:\n",
    "        return n\n",
    "    return fibonacci(n - 2) + fibonacci(n - 1)\n",
    "\n",
    "print(fibonacci(6))"
   ]
  },
  {
   "cell_type": "markdown",
   "metadata": {},
   "source": [
    "### Generic Functions with Single Dispatch"
   ]
  },
  {
   "cell_type": "code",
   "execution_count": 38,
   "metadata": {
    "ExecuteTime": {
     "end_time": "2019-12-21T10:00:34.414994Z",
     "start_time": "2019-12-21T10:00:34.408097Z"
    }
   },
   "outputs": [],
   "source": [
    "from functools import singledispatch\n",
    "from collections import abc\n",
    "import numbers\n",
    "import html\n",
    "\n",
    "@singledispatch\n",
    "def htmlize(obj):\n",
    "    content = html.escape(repr(obj))\n",
    "    return f'<pre>{content}</pre>'\n",
    "\n",
    "@htmlize.register(str)\n",
    "def _(text):\n",
    "    content = html.escape(text).replace('\\n', '<br>\\n')\n",
    "    return f'<p>{content}</p>'\n",
    "\n",
    "@htmlize.register(numbers.Integral)\n",
    "def _(n):\n",
    "    return f'<pre>{n} (0x{n:x})</pre>'\n",
    "\n",
    "@htmlize.register(tuple)\n",
    "@htmlize.register(abc.MutableSequence)\n",
    "def _(seq):\n",
    "    inner = '</li>\\n<li>'.join(htmlize(item) for item in seq)\n",
    "    return '<ul>\\n</li>' + inner + '</li>\\n</ul>'"
   ]
  },
  {
   "cell_type": "markdown",
   "metadata": {},
   "source": [
    "## Parameterized Decorators"
   ]
  },
  {
   "cell_type": "markdown",
   "metadata": {},
   "source": [
    "### A Parameterized Registration Decorator"
   ]
  },
  {
   "cell_type": "code",
   "execution_count": 40,
   "metadata": {
    "ExecuteTime": {
     "end_time": "2019-12-21T10:13:37.117042Z",
     "start_time": "2019-12-21T10:13:37.110755Z"
    }
   },
   "outputs": [
    {
     "name": "stdout",
     "output_type": "stream",
     "text": [
      "running regiter(acrive=False)->decorate(<function f1 at 0x112fc7730>)\n",
      "running regiter(acrive=True)->decorate(<function f2 at 0x1130009d8>)\n"
     ]
    }
   ],
   "source": [
    "registry = set()\n",
    "\n",
    "def register(active=True):\n",
    "    def decorate(func):\n",
    "        print('running regiter(acrive=%s)->decorate(%s)' % (active, func))\n",
    "        if active:\n",
    "            registry.add(func)\n",
    "        else:\n",
    "            registry.discard(func)\n",
    "        return func\n",
    "    return decorate\n",
    "\n",
    "@register(active=False)\n",
    "def f1():\n",
    "    print('running f1()')\n",
    "    \n",
    "@register(active=True)\n",
    "def f2():\n",
    "    print('running f2()')\n",
    "    \n",
    "def f3():\n",
    "    print('running f3()')"
   ]
  },
  {
   "cell_type": "code",
   "execution_count": 41,
   "metadata": {
    "ExecuteTime": {
     "end_time": "2019-12-21T10:13:44.924400Z",
     "start_time": "2019-12-21T10:13:44.920698Z"
    }
   },
   "outputs": [
    {
     "data": {
      "text/plain": [
       "{<function __main__.f2()>}"
      ]
     },
     "execution_count": 41,
     "metadata": {},
     "output_type": "execute_result"
    }
   ],
   "source": [
    "registry"
   ]
  },
  {
   "cell_type": "code",
   "execution_count": 42,
   "metadata": {
    "ExecuteTime": {
     "end_time": "2019-12-21T10:15:12.822074Z",
     "start_time": "2019-12-21T10:15:12.817874Z"
    }
   },
   "outputs": [
    {
     "name": "stdout",
     "output_type": "stream",
     "text": [
      "running regiter(acrive=True)->decorate(<function f3 at 0x112fc7c80>)\n"
     ]
    },
    {
     "data": {
      "text/plain": [
       "<function __main__.f3()>"
      ]
     },
     "execution_count": 42,
     "metadata": {},
     "output_type": "execute_result"
    }
   ],
   "source": [
    "# without @\n",
    "register()(f3)"
   ]
  },
  {
   "cell_type": "markdown",
   "metadata": {},
   "source": [
    "### The Parameterized Clock Decorator"
   ]
  },
  {
   "cell_type": "code",
   "execution_count": 44,
   "metadata": {
    "ExecuteTime": {
     "end_time": "2019-12-21T10:24:44.928376Z",
     "start_time": "2019-12-21T10:24:44.544956Z"
    }
   },
   "outputs": [
    {
     "name": "stdout",
     "output_type": "stream",
     "text": [
      "[0.12318707s] snooze(0.123) -> None\n",
      "[0.12405992s] snooze(0.123) -> None\n",
      "[0.12793088s] snooze(0.123) -> None\n"
     ]
    }
   ],
   "source": [
    "import time\n",
    "\n",
    "DEFAULT_FMT = '[{elapsed:0.8f}s] {name}({args}) -> {result}'\n",
    "\n",
    "def clock(fmt=DEFAULT_FMT):\n",
    "    def decorate(func):\n",
    "        def clocked(*_args):\n",
    "            t0 = time.time()\n",
    "            _result = func(*_args)\n",
    "            elapsed = time.time() - t0\n",
    "            name = func.__name__\n",
    "            args = ', '.join(repr(arg) for arg in _args)\n",
    "            result = repr(_result)\n",
    "            print(fmt.format(**locals()))\n",
    "            return _result\n",
    "        return clocked\n",
    "    return decorate\n",
    "\n",
    "@clock()\n",
    "def snooze(seconds):\n",
    "    time.sleep(seconds)\n",
    "    \n",
    "for i in range(3):\n",
    "    snooze(.123)"
   ]
  },
  {
   "cell_type": "code",
   "execution_count": 45,
   "metadata": {
    "ExecuteTime": {
     "end_time": "2019-12-21T10:25:40.864109Z",
     "start_time": "2019-12-21T10:25:40.483594Z"
    }
   },
   "outputs": [
    {
     "name": "stdout",
     "output_type": "stream",
     "text": [
      "snooze: 0.12709975242614746s\n",
      "snooze: 0.12406492233276367s\n",
      "snooze: 0.12470698356628418s\n"
     ]
    }
   ],
   "source": [
    "import time\n",
    "\n",
    "@clock('{name}: {elapsed}s')\n",
    "def snooze(seconds):\n",
    "    time.sleep(seconds)\n",
    "\n",
    "for i in range(3):\n",
    "    snooze(.123)"
   ]
  },
  {
   "cell_type": "code",
   "execution_count": null,
   "metadata": {},
   "outputs": [],
   "source": []
  }
 ],
 "metadata": {
  "kernelspec": {
   "display_name": "Python 3",
   "language": "python",
   "name": "python3"
  },
  "language_info": {
   "codemirror_mode": {
    "name": "ipython",
    "version": 3
   },
   "file_extension": ".py",
   "mimetype": "text/x-python",
   "name": "python",
   "nbconvert_exporter": "python",
   "pygments_lexer": "ipython3",
   "version": "3.7.2"
  }
 },
 "nbformat": 4,
 "nbformat_minor": 2
}
