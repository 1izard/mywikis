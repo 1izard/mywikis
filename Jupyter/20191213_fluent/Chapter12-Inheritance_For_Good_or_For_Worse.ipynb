{
 "cells": [
  {
   "cell_type": "markdown",
   "metadata": {},
   "source": [
    "# Chapter 12. Inheritance: For Good or For Worse"
   ]
  },
  {
   "cell_type": "markdown",
   "metadata": {},
   "source": [
    "# Subclassing Built-In Types is Tricky\n",
    "- CPython doesn't call special methods overridden by user-defined classes\n",
    "    - Subclassing built-in types (e.g, `dict`, `list`, `str`) directly is error-prone because the built-in methods mostly ignore user-defined overrides. -> should use `UserDict`, `UserList`, `UserString`, `MutableMapping` in `collections` module"
   ]
  },
  {
   "cell_type": "code",
   "execution_count": 9,
   "metadata": {
    "ExecuteTime": {
     "end_time": "2019-12-29T08:41:21.075783Z",
     "start_time": "2019-12-29T08:41:21.069830Z"
    }
   },
   "outputs": [],
   "source": [
    "# built-in dict ignores overriden __setitem__\n",
    "class DoppelDict(dict):\n",
    "    def __setitem__(self, key, value):\n",
    "        super().__setitem__(key, [value] * 2)"
   ]
  },
  {
   "cell_type": "code",
   "execution_count": 2,
   "metadata": {
    "ExecuteTime": {
     "end_time": "2019-12-29T08:29:34.129317Z",
     "start_time": "2019-12-29T08:29:34.117307Z"
    }
   },
   "outputs": [
    {
     "data": {
      "text/plain": [
       "{'one': 1}"
      ]
     },
     "execution_count": 2,
     "metadata": {},
     "output_type": "execute_result"
    }
   ],
   "source": [
    "dd = DoppelDict(one=1)\n",
    "dd"
   ]
  },
  {
   "cell_type": "code",
   "execution_count": 3,
   "metadata": {
    "ExecuteTime": {
     "end_time": "2019-12-29T08:29:49.589250Z",
     "start_time": "2019-12-29T08:29:49.584493Z"
    }
   },
   "outputs": [
    {
     "data": {
      "text/plain": [
       "{'one': 1, 'two': [2, 2]}"
      ]
     },
     "execution_count": 3,
     "metadata": {},
     "output_type": "execute_result"
    }
   ],
   "source": [
    "dd['two'] = 2\n",
    "dd"
   ]
  },
  {
   "cell_type": "code",
   "execution_count": 4,
   "metadata": {
    "ExecuteTime": {
     "end_time": "2019-12-29T08:30:12.082886Z",
     "start_time": "2019-12-29T08:30:12.074062Z"
    }
   },
   "outputs": [
    {
     "data": {
      "text/plain": [
       "{'one': 1, 'two': [2, 2], 'three': 3}"
      ]
     },
     "execution_count": 4,
     "metadata": {},
     "output_type": "execute_result"
    }
   ],
   "source": [
    "dd.update(three=3)\n",
    "dd"
   ]
  },
  {
   "cell_type": "code",
   "execution_count": 5,
   "metadata": {
    "ExecuteTime": {
     "end_time": "2019-12-29T08:33:05.742644Z",
     "start_time": "2019-12-29T08:33:05.739369Z"
    }
   },
   "outputs": [],
   "source": [
    "# built-in dict ignores overriden __getitem__\n",
    "class AnswerDict(dict):\n",
    "    def __getitem__(self, key):\n",
    "        return 42"
   ]
  },
  {
   "cell_type": "code",
   "execution_count": 6,
   "metadata": {
    "ExecuteTime": {
     "end_time": "2019-12-29T08:33:17.936631Z",
     "start_time": "2019-12-29T08:33:17.927271Z"
    }
   },
   "outputs": [
    {
     "data": {
      "text/plain": [
       "{'a': 42}"
      ]
     },
     "execution_count": 6,
     "metadata": {},
     "output_type": "execute_result"
    }
   ],
   "source": [
    "ad = AnswerDict(a='foo')\n",
    "ad"
   ]
  },
  {
   "cell_type": "code",
   "execution_count": 7,
   "metadata": {
    "ExecuteTime": {
     "end_time": "2019-12-29T08:33:31.059879Z",
     "start_time": "2019-12-29T08:33:31.047525Z"
    }
   },
   "outputs": [
    {
     "data": {
      "text/plain": [
       "'foo'"
      ]
     },
     "execution_count": 7,
     "metadata": {},
     "output_type": "execute_result"
    }
   ],
   "source": [
    "d = {}\n",
    "d.update(ad)\n",
    "d['a']"
   ]
  },
  {
   "cell_type": "code",
   "execution_count": 8,
   "metadata": {
    "ExecuteTime": {
     "end_time": "2019-12-29T08:33:34.760617Z",
     "start_time": "2019-12-29T08:33:34.756388Z"
    }
   },
   "outputs": [
    {
     "data": {
      "text/plain": [
       "{'a': 'foo'}"
      ]
     },
     "execution_count": 8,
     "metadata": {},
     "output_type": "execute_result"
    }
   ],
   "source": [
    "d"
   ]
  },
  {
   "cell_type": "code",
   "execution_count": 10,
   "metadata": {
    "ExecuteTime": {
     "end_time": "2019-12-29T08:43:17.768943Z",
     "start_time": "2019-12-29T08:43:17.765106Z"
    }
   },
   "outputs": [],
   "source": [
    "import collections\n",
    "\n",
    "class DoppelDict2(collections.UserDict):\n",
    "    def __setitem__(self, key, value):\n",
    "        super().__setitem__(key, [value] * 2)"
   ]
  },
  {
   "cell_type": "code",
   "execution_count": 11,
   "metadata": {
    "ExecuteTime": {
     "end_time": "2019-12-29T08:43:26.714308Z",
     "start_time": "2019-12-29T08:43:26.710048Z"
    }
   },
   "outputs": [
    {
     "data": {
      "text/plain": [
       "{'one': [1, 1]}"
      ]
     },
     "execution_count": 11,
     "metadata": {},
     "output_type": "execute_result"
    }
   ],
   "source": [
    "dd = DoppelDict2(one=1)\n",
    "dd"
   ]
  },
  {
   "cell_type": "code",
   "execution_count": 12,
   "metadata": {
    "ExecuteTime": {
     "end_time": "2019-12-29T08:43:34.201206Z",
     "start_time": "2019-12-29T08:43:34.196454Z"
    }
   },
   "outputs": [
    {
     "data": {
      "text/plain": [
       "{'one': [1, 1], 'two': [2, 2]}"
      ]
     },
     "execution_count": 12,
     "metadata": {},
     "output_type": "execute_result"
    }
   ],
   "source": [
    "dd['two'] = 2\n",
    "dd"
   ]
  },
  {
   "cell_type": "code",
   "execution_count": 13,
   "metadata": {
    "ExecuteTime": {
     "end_time": "2019-12-29T08:43:43.502174Z",
     "start_time": "2019-12-29T08:43:43.497431Z"
    }
   },
   "outputs": [
    {
     "data": {
      "text/plain": [
       "{'one': [1, 1], 'two': [2, 2], 'three': [3, 3]}"
      ]
     },
     "execution_count": 13,
     "metadata": {},
     "output_type": "execute_result"
    }
   ],
   "source": [
    "dd.update(three=3)\n",
    "dd"
   ]
  },
  {
   "cell_type": "code",
   "execution_count": 14,
   "metadata": {
    "ExecuteTime": {
     "end_time": "2019-12-29T08:44:09.028447Z",
     "start_time": "2019-12-29T08:44:09.022770Z"
    }
   },
   "outputs": [],
   "source": [
    "class AnswerDict2(collections.UserDict):\n",
    "    def __getitem__(self, key):\n",
    "        return 42"
   ]
  },
  {
   "cell_type": "code",
   "execution_count": 15,
   "metadata": {
    "ExecuteTime": {
     "end_time": "2019-12-29T08:44:25.056903Z",
     "start_time": "2019-12-29T08:44:25.050956Z"
    }
   },
   "outputs": [
    {
     "data": {
      "text/plain": [
       "42"
      ]
     },
     "execution_count": 15,
     "metadata": {},
     "output_type": "execute_result"
    }
   ],
   "source": [
    "ad = AnswerDict2(a='foo')\n",
    "ad['a']"
   ]
  },
  {
   "cell_type": "code",
   "execution_count": 16,
   "metadata": {
    "ExecuteTime": {
     "end_time": "2019-12-29T08:44:36.923400Z",
     "start_time": "2019-12-29T08:44:36.913701Z"
    }
   },
   "outputs": [
    {
     "data": {
      "text/plain": [
       "42"
      ]
     },
     "execution_count": 16,
     "metadata": {},
     "output_type": "execute_result"
    }
   ],
   "source": [
    "d = {}\n",
    "d.update(ad)\n",
    "d['a']"
   ]
  },
  {
   "cell_type": "code",
   "execution_count": 17,
   "metadata": {
    "ExecuteTime": {
     "end_time": "2019-12-29T08:44:38.539014Z",
     "start_time": "2019-12-29T08:44:38.534775Z"
    }
   },
   "outputs": [
    {
     "data": {
      "text/plain": [
       "{'a': 42}"
      ]
     },
     "execution_count": 17,
     "metadata": {},
     "output_type": "execute_result"
    }
   ],
   "source": [
    "d"
   ]
  },
  {
   "cell_type": "markdown",
   "metadata": {},
   "source": [
    "# Multiple Inheritance and Method Resolution Order\n",
    "- conflicts of attribute names\n",
    "- diamond problem\n",
    "    - Method Resolution Order; MRO follows the order of inheritance\n",
    "        - e.g; When D(B, C), the method of C is called.\n",
    "        - `__mro__` can be used to check MRO"
   ]
  },
  {
   "cell_type": "code",
   "execution_count": 21,
   "metadata": {
    "ExecuteTime": {
     "end_time": "2019-12-29T08:54:58.656659Z",
     "start_time": "2019-12-29T08:54:58.650329Z"
    }
   },
   "outputs": [],
   "source": [
    "# A diamond problem example\n",
    "class A:\n",
    "    def ping(self):\n",
    "        print('ping:', self)\n",
    "    \n",
    "class B(A):\n",
    "    def pong(self):\n",
    "        print('pong:', self)\n",
    "\n",
    "class C(A):\n",
    "    def pong(self):\n",
    "        print('PONG:', self)\n",
    "\n",
    "class D(B, C):\n",
    "    def ping(self):\n",
    "        super().ping()\n",
    "        print('post-ping:', self)\n",
    "\n",
    "    def pingpong(self):\n",
    "        self.ping()\n",
    "        super().ping()  # A.ping(self)\n",
    "        self.pong()\n",
    "        super().pong()\n",
    "        C.pong(self)"
   ]
  },
  {
   "cell_type": "code",
   "execution_count": 19,
   "metadata": {
    "ExecuteTime": {
     "end_time": "2019-12-29T08:53:09.510660Z",
     "start_time": "2019-12-29T08:53:09.506482Z"
    }
   },
   "outputs": [
    {
     "name": "stdout",
     "output_type": "stream",
     "text": [
      "pong <__main__.D object at 0x10684fe10>\n"
     ]
    }
   ],
   "source": [
    "d = D()\n",
    "d.pong()"
   ]
  },
  {
   "cell_type": "code",
   "execution_count": 22,
   "metadata": {
    "ExecuteTime": {
     "end_time": "2019-12-29T08:56:10.339684Z",
     "start_time": "2019-12-29T08:56:10.336755Z"
    }
   },
   "outputs": [
    {
     "name": "stdout",
     "output_type": "stream",
     "text": [
      "PONG: <__main__.D object at 0x10684fe10>\n"
     ]
    }
   ],
   "source": [
    "C.pong(d)"
   ]
  },
  {
   "cell_type": "code",
   "execution_count": 23,
   "metadata": {
    "ExecuteTime": {
     "end_time": "2019-12-29T08:57:08.739744Z",
     "start_time": "2019-12-29T08:57:08.735272Z"
    }
   },
   "outputs": [
    {
     "data": {
      "text/plain": [
       "(__main__.D, __main__.B, __main__.C, __main__.A, object)"
      ]
     },
     "execution_count": 23,
     "metadata": {},
     "output_type": "execute_result"
    }
   ],
   "source": [
    "D.__mro__"
   ]
  },
  {
   "cell_type": "code",
   "execution_count": 24,
   "metadata": {
    "ExecuteTime": {
     "end_time": "2019-12-29T08:59:09.649681Z",
     "start_time": "2019-12-29T08:59:09.509210Z"
    }
   },
   "outputs": [
    {
     "ename": "TypeError",
     "evalue": "ping() missing 1 required positional argument: 'self'",
     "output_type": "error",
     "traceback": [
      "\u001b[0;31m---------------------------------------------------------------------------\u001b[0m",
      "\u001b[0;31mTypeError\u001b[0m                                 Traceback (most recent call last)",
      "\u001b[0;32m<ipython-input-24-b0a516341d40>\u001b[0m in \u001b[0;36m<module>\u001b[0;34m\u001b[0m\n\u001b[0;32m----> 1\u001b[0;31m \u001b[0mA\u001b[0m\u001b[0;34m.\u001b[0m\u001b[0mping\u001b[0m\u001b[0;34m(\u001b[0m\u001b[0;34m)\u001b[0m\u001b[0;34m\u001b[0m\u001b[0;34m\u001b[0m\u001b[0m\n\u001b[0m",
      "\u001b[0;31mTypeError\u001b[0m: ping() missing 1 required positional argument: 'self'"
     ]
    }
   ],
   "source": [
    "A.ping()"
   ]
  },
  {
   "cell_type": "code",
   "execution_count": 25,
   "metadata": {
    "ExecuteTime": {
     "end_time": "2019-12-29T08:59:20.279737Z",
     "start_time": "2019-12-29T08:59:20.276556Z"
    }
   },
   "outputs": [
    {
     "name": "stdout",
     "output_type": "stream",
     "text": [
      "ping: <class '__main__.A'>\n"
     ]
    }
   ],
   "source": [
    "A.ping(A)"
   ]
  },
  {
   "cell_type": "code",
   "execution_count": 26,
   "metadata": {
    "ExecuteTime": {
     "end_time": "2019-12-29T08:59:39.778878Z",
     "start_time": "2019-12-29T08:59:39.775925Z"
    }
   },
   "outputs": [
    {
     "name": "stdout",
     "output_type": "stream",
     "text": [
      "ping: a\n"
     ]
    }
   ],
   "source": [
    "A.ping('a')"
   ]
  },
  {
   "cell_type": "code",
   "execution_count": 27,
   "metadata": {
    "ExecuteTime": {
     "end_time": "2019-12-29T09:00:20.470296Z",
     "start_time": "2019-12-29T09:00:20.465778Z"
    }
   },
   "outputs": [
    {
     "name": "stdout",
     "output_type": "stream",
     "text": [
      "ping: <__main__.D object at 0x106c04a90>\n",
      "post-ping: <__main__.D object at 0x106c04a90>\n"
     ]
    }
   ],
   "source": [
    "d = D()\n",
    "d.ping()"
   ]
  },
  {
   "cell_type": "code",
   "execution_count": 28,
   "metadata": {
    "ExecuteTime": {
     "end_time": "2019-12-29T09:00:59.722887Z",
     "start_time": "2019-12-29T09:00:59.719093Z"
    }
   },
   "outputs": [
    {
     "name": "stdout",
     "output_type": "stream",
     "text": [
      "ping: <__main__.D object at 0x106c04a90>\n",
      "post-ping: <__main__.D object at 0x106c04a90>\n",
      "ping: <__main__.D object at 0x106c04a90>\n",
      "pong: <__main__.D object at 0x106c04a90>\n",
      "pong: <__main__.D object at 0x106c04a90>\n",
      "PONG: <__main__.D object at 0x106c04a90>\n"
     ]
    }
   ],
   "source": [
    "d.pingpong()"
   ]
  },
  {
   "cell_type": "markdown",
   "metadata": {},
   "source": [
    "# Multiple Inheritance in the Real World"
   ]
  },
  {
   "cell_type": "markdown",
   "metadata": {},
   "source": [
    "## Tips for multiple inheritance\n",
    "1. Distinguish Interface Inheritance from Implementation Inheritance\n",
    "    - Inheritance of interface creates a subtype, implying an \"is-a relationship.\n",
    "    - Inheritance of implementation avoids code duplication by reuse.\n",
    "1. Make Insterfaces Explicih with ABCs\n",
    "1. Use `Mixin`s for Code Reuse\n",
    "    - Conceptually, a mixin class doesn't define a new type; it merely bundles methods for reuse.\n",
    "    - A mixin should never be instantiated, and concrete classes should not inherit only from a mixin.\n",
    "1. Make `Mixin`s Explicit by Naming\n",
    "    - There is no fomal representation for mixin, so it's highly recommended to name those with `...Mixin` suffix.\n",
    "1. An ABC May Also Be A Mixin; The Reverse is Not True\n",
    "    - The concrete methods implemented in an ABC should only collaborate with methods of the same ABC and its superclasses.\n",
    "1. Don't Subclass from More Than One Concrete Class\n",
    "    - i.e, all but one of the superclasses of a concrete class should be ABCs or mixins.\n",
    "1. Provide Aggregate Classes to Users\n",
    "    - e.g, empty but useful as interface for users\n",
    "```python\n",
    "class Widget(BaseWidget, Pack, Place, Grid):  \n",
    "    pass\n",
    "```  \n",
    "\n",
    "1. \"Favor Object Composition Over Class Inheritance.\""
   ]
  },
  {
   "cell_type": "code",
   "execution_count": null,
   "metadata": {},
   "outputs": [],
   "source": []
  }
 ],
 "metadata": {
  "kernelspec": {
   "display_name": "Python 3",
   "language": "python",
   "name": "python3"
  },
  "language_info": {
   "codemirror_mode": {
    "name": "ipython",
    "version": 3
   },
   "file_extension": ".py",
   "mimetype": "text/x-python",
   "name": "python",
   "nbconvert_exporter": "python",
   "pygments_lexer": "ipython3",
   "version": "3.7.2"
  }
 },
 "nbformat": 4,
 "nbformat_minor": 2
}
