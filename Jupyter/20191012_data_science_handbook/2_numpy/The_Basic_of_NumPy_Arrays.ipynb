{
 "cells": [
  {
   "cell_type": "code",
   "execution_count": 1,
   "metadata": {},
   "outputs": [],
   "source": [
    "import numpy as np\n",
    "np.random.seed(0)"
   ]
  },
  {
   "cell_type": "code",
   "execution_count": 2,
   "metadata": {},
   "outputs": [],
   "source": [
    "x1 = np.random.randint(10, size=6)\n",
    "x2 = np.random.randint(10, size=(3, 4))\n",
    "x3 = np.random.randint(10, size=(3, 4, 5))"
   ]
  },
  {
   "cell_type": "code",
   "execution_count": 4,
   "metadata": {},
   "outputs": [
    {
     "data": {
      "text/plain": [
       "[('T', array([[[8, 0, 4],\n",
       "          [9, 4, 7],\n",
       "          [5, 2, 7],\n",
       "          [1, 5, 9]],\n",
       "  \n",
       "         [[1, 1, 9],\n",
       "          [4, 7, 9],\n",
       "          [0, 0, 2],\n",
       "          [3, 6, 4]],\n",
       "  \n",
       "         [[5, 9, 8],\n",
       "          [3, 3, 9],\n",
       "          [2, 0, 0],\n",
       "          [3, 8, 4]],\n",
       "  \n",
       "         [[9, 9, 1],\n",
       "          [0, 2, 3],\n",
       "          [3, 4, 3],\n",
       "          [3, 4, 6]],\n",
       "  \n",
       "         [[8, 0, 1],\n",
       "          [3, 7, 6],\n",
       "          [8, 5, 5],\n",
       "          [7, 1, 4]]])),\n",
       " ('__abs__',\n",
       "  <method-wrapper '__abs__' of numpy.ndarray object at 0x112697440>),\n",
       " ('__add__',\n",
       "  <method-wrapper '__add__' of numpy.ndarray object at 0x112697440>),\n",
       " ('__and__',\n",
       "  <method-wrapper '__and__' of numpy.ndarray object at 0x112697440>),\n",
       " ('__array__', <function ndarray.__array__>),\n",
       " ('__array_finalize__', None),\n",
       " ('__array_function__', <function ndarray.__array_function__>),\n",
       " ('__array_interface__',\n",
       "  {'data': (140726759999024, False),\n",
       "   'strides': None,\n",
       "   'descr': [('', '<i8')],\n",
       "   'typestr': '<i8',\n",
       "   'shape': (3, 4, 5),\n",
       "   'version': 3}),\n",
       " ('__array_prepare__', <function ndarray.__array_prepare__>),\n",
       " ('__array_priority__', 0.0),\n",
       " ('__array_struct__', <capsule object NULL at 0x11268f480>),\n",
       " ('__array_ufunc__', <function ndarray.__array_ufunc__>),\n",
       " ('__array_wrap__', <function ndarray.__array_wrap__>),\n",
       " ('__bool__',\n",
       "  <method-wrapper '__bool__' of numpy.ndarray object at 0x112697440>),\n",
       " ('__class__', numpy.ndarray),\n",
       " ('__complex__', <function ndarray.__complex__>),\n",
       " ('__contains__',\n",
       "  <method-wrapper '__contains__' of numpy.ndarray object at 0x112697440>),\n",
       " ('__copy__', <function ndarray.__copy__>),\n",
       " ('__deepcopy__', <function ndarray.__deepcopy__>),\n",
       " ('__delattr__',\n",
       "  <method-wrapper '__delattr__' of numpy.ndarray object at 0x112697440>),\n",
       " ('__delitem__',\n",
       "  <method-wrapper '__delitem__' of numpy.ndarray object at 0x112697440>),\n",
       " ('__dir__', <function ndarray.__dir__()>),\n",
       " ('__divmod__',\n",
       "  <method-wrapper '__divmod__' of numpy.ndarray object at 0x112697440>),\n",
       " ('__doc__', None),\n",
       " ('__eq__', <method-wrapper '__eq__' of numpy.ndarray object at 0x112697440>),\n",
       " ('__float__',\n",
       "  <method-wrapper '__float__' of numpy.ndarray object at 0x112697440>),\n",
       " ('__floordiv__',\n",
       "  <method-wrapper '__floordiv__' of numpy.ndarray object at 0x112697440>),\n",
       " ('__format__', <function ndarray.__format__>),\n",
       " ('__ge__', <method-wrapper '__ge__' of numpy.ndarray object at 0x112697440>),\n",
       " ('__getattribute__',\n",
       "  <method-wrapper '__getattribute__' of numpy.ndarray object at 0x112697440>),\n",
       " ('__getitem__',\n",
       "  <method-wrapper '__getitem__' of numpy.ndarray object at 0x112697440>),\n",
       " ('__gt__', <method-wrapper '__gt__' of numpy.ndarray object at 0x112697440>),\n",
       " ('__hash__', None),\n",
       " ('__iadd__',\n",
       "  <method-wrapper '__iadd__' of numpy.ndarray object at 0x112697440>),\n",
       " ('__iand__',\n",
       "  <method-wrapper '__iand__' of numpy.ndarray object at 0x112697440>),\n",
       " ('__ifloordiv__',\n",
       "  <method-wrapper '__ifloordiv__' of numpy.ndarray object at 0x112697440>),\n",
       " ('__ilshift__',\n",
       "  <method-wrapper '__ilshift__' of numpy.ndarray object at 0x112697440>),\n",
       " ('__imatmul__',\n",
       "  <method-wrapper '__imatmul__' of numpy.ndarray object at 0x112697440>),\n",
       " ('__imod__',\n",
       "  <method-wrapper '__imod__' of numpy.ndarray object at 0x112697440>),\n",
       " ('__imul__',\n",
       "  <method-wrapper '__imul__' of numpy.ndarray object at 0x112697440>),\n",
       " ('__index__',\n",
       "  <method-wrapper '__index__' of numpy.ndarray object at 0x112697440>),\n",
       " ('__init__',\n",
       "  <method-wrapper '__init__' of numpy.ndarray object at 0x112697440>),\n",
       " ('__init_subclass__', <function ndarray.__init_subclass__>),\n",
       " ('__int__',\n",
       "  <method-wrapper '__int__' of numpy.ndarray object at 0x112697440>),\n",
       " ('__invert__',\n",
       "  <method-wrapper '__invert__' of numpy.ndarray object at 0x112697440>),\n",
       " ('__ior__',\n",
       "  <method-wrapper '__ior__' of numpy.ndarray object at 0x112697440>),\n",
       " ('__ipow__',\n",
       "  <method-wrapper '__ipow__' of numpy.ndarray object at 0x112697440>),\n",
       " ('__irshift__',\n",
       "  <method-wrapper '__irshift__' of numpy.ndarray object at 0x112697440>),\n",
       " ('__isub__',\n",
       "  <method-wrapper '__isub__' of numpy.ndarray object at 0x112697440>),\n",
       " ('__iter__',\n",
       "  <method-wrapper '__iter__' of numpy.ndarray object at 0x112697440>),\n",
       " ('__itruediv__',\n",
       "  <method-wrapper '__itruediv__' of numpy.ndarray object at 0x112697440>),\n",
       " ('__ixor__',\n",
       "  <method-wrapper '__ixor__' of numpy.ndarray object at 0x112697440>),\n",
       " ('__le__', <method-wrapper '__le__' of numpy.ndarray object at 0x112697440>),\n",
       " ('__len__',\n",
       "  <method-wrapper '__len__' of numpy.ndarray object at 0x112697440>),\n",
       " ('__lshift__',\n",
       "  <method-wrapper '__lshift__' of numpy.ndarray object at 0x112697440>),\n",
       " ('__lt__', <method-wrapper '__lt__' of numpy.ndarray object at 0x112697440>),\n",
       " ('__matmul__',\n",
       "  <method-wrapper '__matmul__' of numpy.ndarray object at 0x112697440>),\n",
       " ('__mod__',\n",
       "  <method-wrapper '__mod__' of numpy.ndarray object at 0x112697440>),\n",
       " ('__mul__',\n",
       "  <method-wrapper '__mul__' of numpy.ndarray object at 0x112697440>),\n",
       " ('__ne__', <method-wrapper '__ne__' of numpy.ndarray object at 0x112697440>),\n",
       " ('__neg__',\n",
       "  <method-wrapper '__neg__' of numpy.ndarray object at 0x112697440>),\n",
       " ('__new__', <function ndarray.__new__(*args, **kwargs)>),\n",
       " ('__or__', <method-wrapper '__or__' of numpy.ndarray object at 0x112697440>),\n",
       " ('__pos__',\n",
       "  <method-wrapper '__pos__' of numpy.ndarray object at 0x112697440>),\n",
       " ('__pow__',\n",
       "  <method-wrapper '__pow__' of numpy.ndarray object at 0x112697440>),\n",
       " ('__radd__',\n",
       "  <method-wrapper '__radd__' of numpy.ndarray object at 0x112697440>),\n",
       " ('__rand__',\n",
       "  <method-wrapper '__rand__' of numpy.ndarray object at 0x112697440>),\n",
       " ('__rdivmod__',\n",
       "  <method-wrapper '__rdivmod__' of numpy.ndarray object at 0x112697440>),\n",
       " ('__reduce__', <function ndarray.__reduce__>),\n",
       " ('__reduce_ex__', <function ndarray.__reduce_ex__>),\n",
       " ('__repr__',\n",
       "  <method-wrapper '__repr__' of numpy.ndarray object at 0x112697440>),\n",
       " ('__rfloordiv__',\n",
       "  <method-wrapper '__rfloordiv__' of numpy.ndarray object at 0x112697440>),\n",
       " ('__rlshift__',\n",
       "  <method-wrapper '__rlshift__' of numpy.ndarray object at 0x112697440>),\n",
       " ('__rmatmul__',\n",
       "  <method-wrapper '__rmatmul__' of numpy.ndarray object at 0x112697440>),\n",
       " ('__rmod__',\n",
       "  <method-wrapper '__rmod__' of numpy.ndarray object at 0x112697440>),\n",
       " ('__rmul__',\n",
       "  <method-wrapper '__rmul__' of numpy.ndarray object at 0x112697440>),\n",
       " ('__ror__',\n",
       "  <method-wrapper '__ror__' of numpy.ndarray object at 0x112697440>),\n",
       " ('__rpow__',\n",
       "  <method-wrapper '__rpow__' of numpy.ndarray object at 0x112697440>),\n",
       " ('__rrshift__',\n",
       "  <method-wrapper '__rrshift__' of numpy.ndarray object at 0x112697440>),\n",
       " ('__rshift__',\n",
       "  <method-wrapper '__rshift__' of numpy.ndarray object at 0x112697440>),\n",
       " ('__rsub__',\n",
       "  <method-wrapper '__rsub__' of numpy.ndarray object at 0x112697440>),\n",
       " ('__rtruediv__',\n",
       "  <method-wrapper '__rtruediv__' of numpy.ndarray object at 0x112697440>),\n",
       " ('__rxor__',\n",
       "  <method-wrapper '__rxor__' of numpy.ndarray object at 0x112697440>),\n",
       " ('__setattr__',\n",
       "  <method-wrapper '__setattr__' of numpy.ndarray object at 0x112697440>),\n",
       " ('__setitem__',\n",
       "  <method-wrapper '__setitem__' of numpy.ndarray object at 0x112697440>),\n",
       " ('__setstate__', <function ndarray.__setstate__>),\n",
       " ('__sizeof__', <function ndarray.__sizeof__>),\n",
       " ('__str__',\n",
       "  <method-wrapper '__str__' of numpy.ndarray object at 0x112697440>),\n",
       " ('__sub__',\n",
       "  <method-wrapper '__sub__' of numpy.ndarray object at 0x112697440>),\n",
       " ('__subclasshook__', <function ndarray.__subclasshook__>),\n",
       " ('__truediv__',\n",
       "  <method-wrapper '__truediv__' of numpy.ndarray object at 0x112697440>),\n",
       " ('__xor__',\n",
       "  <method-wrapper '__xor__' of numpy.ndarray object at 0x112697440>),\n",
       " ('all', <function ndarray.all>),\n",
       " ('any', <function ndarray.any>),\n",
       " ('argmax', <function ndarray.argmax>),\n",
       " ('argmin', <function ndarray.argmin>),\n",
       " ('argpartition', <function ndarray.argpartition>),\n",
       " ('argsort', <function ndarray.argsort>),\n",
       " ('astype', <function ndarray.astype>),\n",
       " ('base', None),\n",
       " ('byteswap', <function ndarray.byteswap>),\n",
       " ('choose', <function ndarray.choose>),\n",
       " ('clip', <function ndarray.clip>),\n",
       " ('compress', <function ndarray.compress>),\n",
       " ('conj', <function ndarray.conj>),\n",
       " ('conjugate', <function ndarray.conjugate>),\n",
       " ('copy', <function ndarray.copy>),\n",
       " ('ctypes', <numpy.core._internal._ctypes at 0x112718630>),\n",
       " ('cumprod', <function ndarray.cumprod>),\n",
       " ('cumsum', <function ndarray.cumsum>),\n",
       " ('data', <memory at 0x109f49048>),\n",
       " ('diagonal', <function ndarray.diagonal>),\n",
       " ('dot', <function ndarray.dot>),\n",
       " ('dtype', dtype('int64')),\n",
       " ('dump', <function ndarray.dump>),\n",
       " ('dumps', <function ndarray.dumps>),\n",
       " ('fill', <function ndarray.fill>),\n",
       " ('flags',   C_CONTIGUOUS : True\n",
       "    F_CONTIGUOUS : False\n",
       "    OWNDATA : True\n",
       "    WRITEABLE : True\n",
       "    ALIGNED : True\n",
       "    WRITEBACKIFCOPY : False\n",
       "    UPDATEIFCOPY : False),\n",
       " ('flat', <numpy.flatiter at 0x7ffd83919800>),\n",
       " ('flatten', <function ndarray.flatten>),\n",
       " ('getfield', <function ndarray.getfield>),\n",
       " ('imag', array([[[0, 0, 0, 0, 0],\n",
       "          [0, 0, 0, 0, 0],\n",
       "          [0, 0, 0, 0, 0],\n",
       "          [0, 0, 0, 0, 0]],\n",
       "  \n",
       "         [[0, 0, 0, 0, 0],\n",
       "          [0, 0, 0, 0, 0],\n",
       "          [0, 0, 0, 0, 0],\n",
       "          [0, 0, 0, 0, 0]],\n",
       "  \n",
       "         [[0, 0, 0, 0, 0],\n",
       "          [0, 0, 0, 0, 0],\n",
       "          [0, 0, 0, 0, 0],\n",
       "          [0, 0, 0, 0, 0]]])),\n",
       " ('item', <function ndarray.item>),\n",
       " ('itemset', <function ndarray.itemset>),\n",
       " ('itemsize', 8),\n",
       " ('max', <function ndarray.max>),\n",
       " ('mean', <function ndarray.mean>),\n",
       " ('min', <function ndarray.min>),\n",
       " ('nbytes', 480),\n",
       " ('ndim', 3),\n",
       " ('newbyteorder', <function ndarray.newbyteorder>),\n",
       " ('nonzero', <function ndarray.nonzero>),\n",
       " ('partition', <function ndarray.partition>),\n",
       " ('prod', <function ndarray.prod>),\n",
       " ('ptp', <function ndarray.ptp>),\n",
       " ('put', <function ndarray.put>),\n",
       " ('ravel', <function ndarray.ravel>),\n",
       " ('real', array([[[8, 1, 5, 9, 8],\n",
       "          [9, 4, 3, 0, 3],\n",
       "          [5, 0, 2, 3, 8],\n",
       "          [1, 3, 3, 3, 7]],\n",
       "  \n",
       "         [[0, 1, 9, 9, 0],\n",
       "          [4, 7, 3, 2, 7],\n",
       "          [2, 0, 0, 4, 5],\n",
       "          [5, 6, 8, 4, 1]],\n",
       "  \n",
       "         [[4, 9, 8, 1, 1],\n",
       "          [7, 9, 9, 3, 6],\n",
       "          [7, 2, 0, 3, 5],\n",
       "          [9, 4, 4, 6, 4]]])),\n",
       " ('repeat', <function ndarray.repeat>),\n",
       " ('reshape', <function ndarray.reshape>),\n",
       " ('resize', <function ndarray.resize>),\n",
       " ('round', <function ndarray.round>),\n",
       " ('searchsorted', <function ndarray.searchsorted>),\n",
       " ('setfield', <function ndarray.setfield>),\n",
       " ('setflags', <function ndarray.setflags>),\n",
       " ('shape', (3, 4, 5)),\n",
       " ('size', 60),\n",
       " ('sort', <function ndarray.sort>),\n",
       " ('squeeze', <function ndarray.squeeze>),\n",
       " ('std', <function ndarray.std>),\n",
       " ('strides', (160, 40, 8)),\n",
       " ('sum', <function ndarray.sum>),\n",
       " ('swapaxes', <function ndarray.swapaxes>),\n",
       " ('take', <function ndarray.take>),\n",
       " ('tobytes', <function ndarray.tobytes>),\n",
       " ('tofile', <function ndarray.tofile>),\n",
       " ('tolist', <function ndarray.tolist>),\n",
       " ('tostring', <function ndarray.tostring>),\n",
       " ('trace', <function ndarray.trace>),\n",
       " ('transpose', <function ndarray.transpose>),\n",
       " ('var', <function ndarray.var>),\n",
       " ('view', <function ndarray.view>)]"
      ]
     },
     "execution_count": 4,
     "metadata": {},
     "output_type": "execute_result"
    }
   ],
   "source": [
    "import inspect\n",
    "\n",
    "inspect.getmembers(x3)"
   ]
  },
  {
   "cell_type": "code",
   "execution_count": 9,
   "metadata": {},
   "outputs": [
    {
     "data": {
      "text/plain": [
       "[('ndim', 3), ('shape', (3, 4, 5)), ('size', 60)]"
      ]
     },
     "execution_count": 9,
     "metadata": {},
     "output_type": "execute_result"
    }
   ],
   "source": [
    "import re\n",
    "\n",
    "attributes = inspect.getmembers(x3)\n",
    "attrs = [attr for attr in attributes if re.match(r'(ndim|shape|size)', attr[0])]\n",
    "attrs"
   ]
  },
  {
   "cell_type": "code",
   "execution_count": 10,
   "metadata": {},
   "outputs": [
    {
     "data": {
      "text/plain": [
       "array([[3, 5, 2, 4],\n",
       "       [7, 6, 8, 8],\n",
       "       [1, 6, 7, 7]])"
      ]
     },
     "execution_count": 10,
     "metadata": {},
     "output_type": "execute_result"
    }
   ],
   "source": [
    "x2"
   ]
  },
  {
   "cell_type": "code",
   "execution_count": 18,
   "metadata": {},
   "outputs": [
    {
     "data": {
      "text/plain": [
       "array([[12,  5,  2,  4],\n",
       "       [ 7,  6,  8,  8],\n",
       "       [ 1,  6,  7,  7]])"
      ]
     },
     "execution_count": 18,
     "metadata": {},
     "output_type": "execute_result"
    }
   ],
   "source": [
    "x2[0, 0] = 12\n",
    "x2"
   ]
  },
  {
   "cell_type": "code",
   "execution_count": 19,
   "metadata": {},
   "outputs": [
    {
     "data": {
      "text/plain": [
       "array([[12,  5,  2],\n",
       "       [ 7,  6,  8]])"
      ]
     },
     "execution_count": 19,
     "metadata": {},
     "output_type": "execute_result"
    }
   ],
   "source": [
    "x2[:2, :3]"
   ]
  },
  {
   "cell_type": "code",
   "execution_count": 20,
   "metadata": {},
   "outputs": [
    {
     "data": {
      "text/plain": [
       "array([[12,  2],\n",
       "       [ 7,  8],\n",
       "       [ 1,  7]])"
      ]
     },
     "execution_count": 20,
     "metadata": {},
     "output_type": "execute_result"
    }
   ],
   "source": [
    "x2[:3, ::2]"
   ]
  },
  {
   "cell_type": "code",
   "execution_count": 21,
   "metadata": {},
   "outputs": [
    {
     "data": {
      "text/plain": [
       "array([[ 7,  7,  6,  1],\n",
       "       [ 8,  8,  6,  7],\n",
       "       [ 4,  2,  5, 12]])"
      ]
     },
     "execution_count": 21,
     "metadata": {},
     "output_type": "execute_result"
    }
   ],
   "source": [
    "x2[::-1, ::-1]"
   ]
  },
  {
   "cell_type": "code",
   "execution_count": 22,
   "metadata": {},
   "outputs": [
    {
     "data": {
      "text/plain": [
       "array([12,  7,  1])"
      ]
     },
     "execution_count": 22,
     "metadata": {},
     "output_type": "execute_result"
    }
   ],
   "source": [
    "x2[:, 0]"
   ]
  },
  {
   "cell_type": "code",
   "execution_count": 23,
   "metadata": {},
   "outputs": [
    {
     "data": {
      "text/plain": [
       "array([12,  5,  2,  4])"
      ]
     },
     "execution_count": 23,
     "metadata": {},
     "output_type": "execute_result"
    }
   ],
   "source": [
    "x2[0, :]"
   ]
  },
  {
   "cell_type": "code",
   "execution_count": 24,
   "metadata": {},
   "outputs": [
    {
     "data": {
      "text/plain": [
       "array([12,  5,  2,  4])"
      ]
     },
     "execution_count": 24,
     "metadata": {},
     "output_type": "execute_result"
    }
   ],
   "source": [
    "x2[0]"
   ]
  },
  {
   "cell_type": "markdown",
   "metadata": {},
   "source": [
    "## Subarrays as no-copy views"
   ]
  },
  {
   "cell_type": "code",
   "execution_count": 25,
   "metadata": {},
   "outputs": [
    {
     "data": {
      "text/plain": [
       "array([[12,  5,  2,  4],\n",
       "       [ 7,  6,  8,  8],\n",
       "       [ 1,  6,  7,  7]])"
      ]
     },
     "execution_count": 25,
     "metadata": {},
     "output_type": "execute_result"
    }
   ],
   "source": [
    "x2"
   ]
  },
  {
   "cell_type": "code",
   "execution_count": 32,
   "metadata": {},
   "outputs": [
    {
     "data": {
      "text/plain": [
       "array([[12,  5],\n",
       "       [ 7,  6]])"
      ]
     },
     "execution_count": 32,
     "metadata": {},
     "output_type": "execute_result"
    }
   ],
   "source": [
    "x2_sub = x2[:2, :2]\n",
    "x2_sub"
   ]
  },
  {
   "cell_type": "code",
   "execution_count": 34,
   "metadata": {},
   "outputs": [
    {
     "data": {
      "text/plain": [
       "array([[99,  5],\n",
       "       [ 7,  6]])"
      ]
     },
     "execution_count": 34,
     "metadata": {},
     "output_type": "execute_result"
    }
   ],
   "source": [
    "x2_sub[0, 0] = 99\n",
    "x2_sub"
   ]
  },
  {
   "cell_type": "code",
   "execution_count": 35,
   "metadata": {},
   "outputs": [
    {
     "data": {
      "text/plain": [
       "array([[99,  5,  2,  4],\n",
       "       [ 7,  6,  8,  8],\n",
       "       [ 1,  6,  7,  7]])"
      ]
     },
     "execution_count": 35,
     "metadata": {},
     "output_type": "execute_result"
    }
   ],
   "source": [
    "x2"
   ]
  },
  {
   "cell_type": "markdown",
   "metadata": {},
   "source": [
    "## Creating copies of arrays"
   ]
  },
  {
   "cell_type": "code",
   "execution_count": 36,
   "metadata": {},
   "outputs": [
    {
     "data": {
      "text/plain": [
       "array([[99,  5],\n",
       "       [ 7,  6]])"
      ]
     },
     "execution_count": 36,
     "metadata": {},
     "output_type": "execute_result"
    }
   ],
   "source": [
    "x2_sub_copy = x2[:2, :2].copy()\n",
    "x2_sub_copy"
   ]
  },
  {
   "cell_type": "code",
   "execution_count": 37,
   "metadata": {},
   "outputs": [
    {
     "data": {
      "text/plain": [
       "array([[42,  5],\n",
       "       [ 7,  6]])"
      ]
     },
     "execution_count": 37,
     "metadata": {},
     "output_type": "execute_result"
    }
   ],
   "source": [
    "x2_sub_copy[0, 0] = 42\n",
    "x2_sub_copy"
   ]
  },
  {
   "cell_type": "code",
   "execution_count": 38,
   "metadata": {},
   "outputs": [
    {
     "data": {
      "text/plain": [
       "array([[99,  5,  2,  4],\n",
       "       [ 7,  6,  8,  8],\n",
       "       [ 1,  6,  7,  7]])"
      ]
     },
     "execution_count": 38,
     "metadata": {},
     "output_type": "execute_result"
    }
   ],
   "source": [
    "x2"
   ]
  },
  {
   "cell_type": "code",
   "execution_count": 39,
   "metadata": {},
   "outputs": [
    {
     "data": {
      "text/plain": [
       "array([1, 2, 3])"
      ]
     },
     "execution_count": 39,
     "metadata": {},
     "output_type": "execute_result"
    }
   ],
   "source": [
    "x = np.array([1, 2, 3])\n",
    "x"
   ]
  },
  {
   "cell_type": "code",
   "execution_count": 40,
   "metadata": {},
   "outputs": [
    {
     "data": {
      "text/plain": [
       "array([[1, 2, 3]])"
      ]
     },
     "execution_count": 40,
     "metadata": {},
     "output_type": "execute_result"
    }
   ],
   "source": [
    "# row vector via reshape\n",
    "x.reshape((1, 3))"
   ]
  },
  {
   "cell_type": "code",
   "execution_count": 41,
   "metadata": {},
   "outputs": [
    {
     "data": {
      "text/plain": [
       "array([[1, 2, 3]])"
      ]
     },
     "execution_count": 41,
     "metadata": {},
     "output_type": "execute_result"
    }
   ],
   "source": [
    "# row vector via newaxis\n",
    "x[np.newaxis, :]"
   ]
  },
  {
   "cell_type": "code",
   "execution_count": 42,
   "metadata": {},
   "outputs": [
    {
     "data": {
      "text/plain": [
       "array([[1],\n",
       "       [2],\n",
       "       [3]])"
      ]
     },
     "execution_count": 42,
     "metadata": {},
     "output_type": "execute_result"
    }
   ],
   "source": [
    "# column vector via reshape\n",
    "x.reshape((3, 1))"
   ]
  },
  {
   "cell_type": "code",
   "execution_count": 43,
   "metadata": {},
   "outputs": [
    {
     "data": {
      "text/plain": [
       "array([[1],\n",
       "       [2],\n",
       "       [3]])"
      ]
     },
     "execution_count": 43,
     "metadata": {},
     "output_type": "execute_result"
    }
   ],
   "source": [
    "x[:, np.newaxis]"
   ]
  },
  {
   "cell_type": "markdown",
   "metadata": {},
   "source": [
    "# Array Concatenation and Splitting"
   ]
  },
  {
   "cell_type": "markdown",
   "metadata": {},
   "source": [
    "## Concatenation of arrays"
   ]
  },
  {
   "cell_type": "code",
   "execution_count": 46,
   "metadata": {},
   "outputs": [
    {
     "data": {
      "text/plain": [
       "array([1, 2, 3, 3, 2, 1])"
      ]
     },
     "execution_count": 46,
     "metadata": {},
     "output_type": "execute_result"
    }
   ],
   "source": [
    "x = np.array([1, 2, 3])\n",
    "y = np.array([3, 2, 1])\n",
    "np.concatenate([x, y])"
   ]
  },
  {
   "cell_type": "code",
   "execution_count": 47,
   "metadata": {},
   "outputs": [
    {
     "data": {
      "text/plain": [
       "array([ 1,  2,  3,  3,  2,  1, 99, 99, 99])"
      ]
     },
     "execution_count": 47,
     "metadata": {},
     "output_type": "execute_result"
    }
   ],
   "source": [
    "z = [99, 99, 99]\n",
    "np.concatenate([x, y, z])"
   ]
  },
  {
   "cell_type": "code",
   "execution_count": 48,
   "metadata": {},
   "outputs": [
    {
     "data": {
      "text/plain": [
       "array([[1, 2, 3],\n",
       "       [4, 5, 6],\n",
       "       [1, 2, 3],\n",
       "       [4, 5, 6]])"
      ]
     },
     "execution_count": 48,
     "metadata": {},
     "output_type": "execute_result"
    }
   ],
   "source": [
    "grid = np.array([[1, 2, 3],\n",
    "                [4, 5, 6]])\n",
    "np.concatenate([grid, grid])"
   ]
  },
  {
   "cell_type": "code",
   "execution_count": 49,
   "metadata": {},
   "outputs": [
    {
     "data": {
      "text/plain": [
       "array([[1, 2, 3, 1, 2, 3],\n",
       "       [4, 5, 6, 4, 5, 6]])"
      ]
     },
     "execution_count": 49,
     "metadata": {},
     "output_type": "execute_result"
    }
   ],
   "source": [
    "np.concatenate([grid, grid], axis=1)"
   ]
  },
  {
   "cell_type": "code",
   "execution_count": 51,
   "metadata": {},
   "outputs": [
    {
     "data": {
      "text/plain": [
       "array([[1, 2, 3],\n",
       "       [9, 8, 7],\n",
       "       [6, 5, 4]])"
      ]
     },
     "execution_count": 51,
     "metadata": {},
     "output_type": "execute_result"
    }
   ],
   "source": [
    "x = np.array([1, 2, 3])\n",
    "grid = np.array([[9, 8, 7],\n",
    "                [6, 5, 4]])\n",
    "np.vstack([x, grid])"
   ]
  },
  {
   "cell_type": "code",
   "execution_count": 53,
   "metadata": {},
   "outputs": [
    {
     "data": {
      "text/plain": [
       "array([[ 9,  8,  7, 99],\n",
       "       [ 6,  5,  4, 99]])"
      ]
     },
     "execution_count": 53,
     "metadata": {},
     "output_type": "execute_result"
    }
   ],
   "source": [
    "y = np.array([[99],\n",
    "             [99]])\n",
    "np.hstack([grid, y])"
   ]
  },
  {
   "cell_type": "markdown",
   "metadata": {},
   "source": [
    "## Splitting of arrays"
   ]
  },
  {
   "cell_type": "code",
   "execution_count": 54,
   "metadata": {},
   "outputs": [
    {
     "data": {
      "text/plain": [
       "(array([1, 2, 3]), array([99, 99]), array([3, 2, 1]))"
      ]
     },
     "execution_count": 54,
     "metadata": {},
     "output_type": "execute_result"
    }
   ],
   "source": [
    "x = [1, 2, 3, 99, 99, 3, 2, 1]\n",
    "x1, x2, x3 = np.split(x, [3, 5])\n",
    "x1, x2, x3"
   ]
  },
  {
   "cell_type": "code",
   "execution_count": 55,
   "metadata": {},
   "outputs": [
    {
     "data": {
      "text/plain": [
       "array([[ 0,  1,  2,  3],\n",
       "       [ 4,  5,  6,  7],\n",
       "       [ 8,  9, 10, 11],\n",
       "       [12, 13, 14, 15]])"
      ]
     },
     "execution_count": 55,
     "metadata": {},
     "output_type": "execute_result"
    }
   ],
   "source": [
    "grid = np.arange(16).reshape((4, 4))\n",
    "grid"
   ]
  },
  {
   "cell_type": "code",
   "execution_count": 57,
   "metadata": {},
   "outputs": [
    {
     "name": "stdout",
     "output_type": "stream",
     "text": [
      "[[0 1 2 3]\n",
      " [4 5 6 7]]\n",
      "[[ 8  9 10 11]\n",
      " [12 13 14 15]]\n"
     ]
    }
   ],
   "source": [
    "upper, lower = np.vsplit(grid, [2])\n",
    "print(upper)\n",
    "print(lower)"
   ]
  },
  {
   "cell_type": "code",
   "execution_count": 59,
   "metadata": {},
   "outputs": [
    {
     "name": "stdout",
     "output_type": "stream",
     "text": [
      "[[ 0  1]\n",
      " [ 4  5]\n",
      " [ 8  9]\n",
      " [12 13]]\n",
      "[[ 2  3]\n",
      " [ 6  7]\n",
      " [10 11]\n",
      " [14 15]]\n"
     ]
    }
   ],
   "source": [
    "left, right = np.hsplit(grid, [2])\n",
    "print(left)\n",
    "print(right)"
   ]
  },
  {
   "cell_type": "code",
   "execution_count": null,
   "metadata": {},
   "outputs": [],
   "source": []
  }
 ],
 "metadata": {
  "kernelspec": {
   "display_name": "Python 3",
   "language": "python",
   "name": "python3"
  },
  "language_info": {
   "codemirror_mode": {
    "name": "ipython",
    "version": 3
   },
   "file_extension": ".py",
   "mimetype": "text/x-python",
   "name": "python",
   "nbconvert_exporter": "python",
   "pygments_lexer": "ipython3",
   "version": "3.7.2"
  }
 },
 "nbformat": 4,
 "nbformat_minor": 2
}
