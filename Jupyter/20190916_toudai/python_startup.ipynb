{
 "cells": [
  {
   "cell_type": "markdown",
   "metadata": {},
   "source": [
    "# Pythonプログラミング はじめの一歩\n",
    "\n",
    "copyright 2018 DataMix Co., Ltd.\n",
    "\n",
    "### 本資料の目的\n",
    "* 初めてプログラミングを学ぶ人向けにプログラミングで使うロジックを理解する\n",
    "* Python以外でのプログラミング経験がある人がPythonでの書き方をレビューする"
   ]
  },
  {
   "cell_type": "markdown",
   "metadata": {},
   "source": [
    "## 何をともあれやってみよう"
   ]
  },
  {
   "cell_type": "markdown",
   "metadata": {},
   "source": [
    "1 + 1の計算をやってみましょう。"
   ]
  },
  {
   "cell_type": "code",
   "execution_count": null,
   "metadata": {},
   "outputs": [],
   "source": [
    "1 + 1"
   ]
  },
  {
   "cell_type": "markdown",
   "metadata": {},
   "source": [
    "4 x 3も計算します。掛け算のときはアスタリスク\"*\"を使います"
   ]
  },
  {
   "cell_type": "code",
   "execution_count": null,
   "metadata": {},
   "outputs": [],
   "source": [
    "4 * 3"
   ]
  },
  {
   "cell_type": "markdown",
   "metadata": {},
   "source": [
    "2の3乗（= 2 x 2 x 2) の「乗」はアスタリスク2つでできます。"
   ]
  },
  {
   "cell_type": "code",
   "execution_count": null,
   "metadata": {},
   "outputs": [],
   "source": [
    "2 ** 3"
   ]
  },
  {
   "cell_type": "markdown",
   "metadata": {},
   "source": [
    "### ウォーミングアップ1\n",
    "メニューバーから、insert→insert cell belowを選んで、セルを新たに作り、以下の計算をしてください。\n",
    "\n",
    " * 120 + 25\n",
    " * 20 x 10\n",
    " * 10の3乗\n",
    " \n"
   ]
  },
  {
   "cell_type": "markdown",
   "metadata": {},
   "source": [
    "## バケツに数字や文字を入れる"
   ]
  },
  {
   "cell_type": "markdown",
   "metadata": {},
   "source": [
    "プログラミングの中でもっとも重要な概念のひとつが、「変数」です。変数とは、数字や文字列などのデータを入れておくバケツだと思ってください。\n",
    "バケツの中に、数字や文字列を入れるときには、左側にバケツの名前（原則、自分で好きに決められますが空白はだめです）を書いて、「= 入れたい数字や文字列」と書きます。"
   ]
  },
  {
   "cell_type": "code",
   "execution_count": null,
   "metadata": {
    "scrolled": true
   },
   "outputs": [],
   "source": [
    "a = 10\n",
    "a"
   ]
  },
  {
   "cell_type": "markdown",
   "metadata": {},
   "source": [
    "バケツの中に入れた数字を使って計算することもできます。\n"
   ]
  },
  {
   "cell_type": "code",
   "execution_count": null,
   "metadata": {},
   "outputs": [],
   "source": [
    "b = 20\n",
    "c = 5\n",
    "d = b * c\n",
    "d"
   ]
  },
  {
   "cell_type": "markdown",
   "metadata": {},
   "source": [
    "文字列はシングルクオーテーションかダブルクオーテーションで囲みます。また、print関数を使うと、Pythonのエンジンに明示的に出力しなさいという命令を出すことができます。"
   ]
  },
  {
   "cell_type": "code",
   "execution_count": null,
   "metadata": {},
   "outputs": [],
   "source": [
    "greeting = 'Hello world!'\n",
    "print(greeting)"
   ]
  },
  {
   "cell_type": "markdown",
   "metadata": {},
   "source": [
    "### ウォーミングアップ2\n",
    "メニューバーから、insert→insert cell belowを選んで、セルを新たに作り、以下を行ってください。\n",
    "\n",
    "* mという変数に1234, nという数字に2345を代入して掛け算してください。\n",
    "* hという変数に、'jinbocho'という文字列を代入してください。"
   ]
  },
  {
   "cell_type": "markdown",
   "metadata": {},
   "source": [
    "## 文字列を結合する"
   ]
  },
  {
   "cell_type": "markdown",
   "metadata": {},
   "source": [
    "文字列どうしをくっつけるときは足し算の記号（+)で表現します。"
   ]
  },
  {
   "cell_type": "code",
   "execution_count": null,
   "metadata": {},
   "outputs": [],
   "source": [
    "f = \"Hello\" + \" world\"\n",
    "f"
   ]
  },
  {
   "cell_type": "code",
   "execution_count": null,
   "metadata": {},
   "outputs": [],
   "source": [
    "b = \"右から左へ\"\n",
    "c = \"受け流す\"\n",
    "print(b + c )"
   ]
  },
  {
   "cell_type": "markdown",
   "metadata": {},
   "source": [
    "### 演習: 文字列 \n",
    "お隣の方の名前を変数 name に格納し、\"はじめまして! XXXXさん\"という文字列を出力してみましょう。"
   ]
  },
  {
   "cell_type": "code",
   "execution_count": null,
   "metadata": {},
   "outputs": [],
   "source": [
    "hello = \"はじまして！\"\n",
    "name = \"XXXXXさん\"\n",
    "print(hello + name)"
   ]
  },
  {
   "cell_type": "markdown",
   "metadata": {},
   "source": [
    "## 変数（バケツ）の中身は上書きされる"
   ]
  },
  {
   "cell_type": "markdown",
   "metadata": {},
   "source": [
    "同じ名前の変数（バケツ）に新しいデータを入れると上書きされます。"
   ]
  },
  {
   "cell_type": "code",
   "execution_count": null,
   "metadata": {},
   "outputs": [],
   "source": [
    "a = 10\n",
    "a = 20\n",
    "print(a)"
   ]
  },
  {
   "cell_type": "markdown",
   "metadata": {},
   "source": [
    "上書きされることを逆手にとって、累計を計算することができます。"
   ]
  },
  {
   "cell_type": "code",
   "execution_count": null,
   "metadata": {},
   "outputs": [],
   "source": [
    "a = 10\n",
    "a = a + 1\n",
    "a = a + 1\n",
    "a = a + 1\n",
    "a = a + 1\n",
    "a = a + 1\n",
    "a = a + 1\n",
    "a = a + 1\n",
    "a = a + 1\n",
    "a = a + 1\n",
    "a = a + 1\n",
    "print(a)"
   ]
  },
  {
   "cell_type": "markdown",
   "metadata": {},
   "source": [
    "## データを保存する仕組み\n",
    "\n",
    "ネイティブで用意されているデータを保存する仕組みは以下の通り。\n",
    "\n",
    "* 配列(リスト)\n",
    "* 辞書型(Dict)\n",
    "* 集合型(Set)\n",
    "* 2次元配列"
   ]
  },
  {
   "cell_type": "markdown",
   "metadata": {},
   "source": [
    "### 配列（リスト）\n",
    " * 配列は数字や文字を並べたもの\n",
    " * 四角かっこ [　で囲む"
   ]
  },
  {
   "cell_type": "code",
   "execution_count": null,
   "metadata": {},
   "outputs": [],
   "source": [
    "x1 = [1,2,3,4,5,6,7,8,9,10]\n",
    "print(x1)"
   ]
  },
  {
   "cell_type": "markdown",
   "metadata": {},
   "source": [
    "要素へのアクセスは番号(インデックス)で行う"
   ]
  },
  {
   "cell_type": "code",
   "execution_count": null,
   "metadata": {},
   "outputs": [],
   "source": [
    "print(\"0番目の要素: \", x1[0])\n",
    "print(\"1番目の要素: \", x1[1])\n",
    "print(\"2番目の要素: \", x1[2])"
   ]
  },
  {
   "cell_type": "markdown",
   "metadata": {},
   "source": [
    "配列の長さを取得する len"
   ]
  },
  {
   "cell_type": "code",
   "execution_count": null,
   "metadata": {},
   "outputs": [],
   "source": [
    "print(\"長さ: \", len(x1))"
   ]
  },
  {
   "cell_type": "markdown",
   "metadata": {},
   "source": [
    "配列に新しい要素を追加する"
   ]
  },
  {
   "cell_type": "code",
   "execution_count": null,
   "metadata": {},
   "outputs": [],
   "source": [
    "x1.append(11)\n",
    "print(x1)"
   ]
  },
  {
   "cell_type": "markdown",
   "metadata": {},
   "source": [
    "### 演習: 配列を作ってみよう\n",
    "* 10, 15, 20, 25, 30, 35という6つの数字の配列を作りましょう\n",
    "* 続いて、その長さを取得してください。\n",
    "* さらに、最後に100という数字を追加してください。"
   ]
  },
  {
   "cell_type": "markdown",
   "metadata": {},
   "source": [
    "### 辞書型\n",
    "* 辞書とは{Key: Value}のペアで保存できるデータの持ち方\n",
    "* にょろカッコ { で囲む\n",
    "* 重要なのは、keyは重複して持つことはできない"
   ]
  },
  {
   "cell_type": "code",
   "execution_count": null,
   "metadata": {},
   "outputs": [],
   "source": [
    "x2 = {\"apple\": \"りんご\", \"mac\": \"Macコンピュータ\", \"music\": \"音楽\", \"pay\": \"支払い\" }\n",
    "x2"
   ]
  },
  {
   "cell_type": "markdown",
   "metadata": {},
   "source": [
    "要素へのアクセスはキーで行う。"
   ]
  },
  {
   "cell_type": "code",
   "execution_count": null,
   "metadata": {},
   "outputs": [],
   "source": [
    "x2[\"apple\"]"
   ]
  },
  {
   "cell_type": "markdown",
   "metadata": {},
   "source": [
    "keyを配列で取り出すためには、.keys()を使う"
   ]
  },
  {
   "cell_type": "code",
   "execution_count": null,
   "metadata": {},
   "outputs": [],
   "source": [
    "x2.keys()"
   ]
  },
  {
   "cell_type": "markdown",
   "metadata": {},
   "source": [
    "Valueを配列で取り出すには、.values()を使う"
   ]
  },
  {
   "cell_type": "code",
   "execution_count": null,
   "metadata": {},
   "outputs": [],
   "source": [
    "x2.values()"
   ]
  },
  {
   "cell_type": "markdown",
   "metadata": {},
   "source": [
    "keyとitemのペアを作るときは、.items()を使う"
   ]
  },
  {
   "cell_type": "code",
   "execution_count": null,
   "metadata": {},
   "outputs": [],
   "source": [
    "x2.items()"
   ]
  },
  {
   "cell_type": "markdown",
   "metadata": {},
   "source": [
    "新しいkey, valueを追加する"
   ]
  },
  {
   "cell_type": "code",
   "execution_count": null,
   "metadata": {},
   "outputs": [],
   "source": [
    "x2[\"apple\"] = \"青リンゴ\"\n",
    "x2"
   ]
  },
  {
   "cell_type": "markdown",
   "metadata": {},
   "source": [
    "### 演習: 辞書型になれよう \n",
    "* お隣の方の名前をkey, 趣味をvalueにして辞書 hobby に追加しましょう\n",
    "* 続いて、堅田のデータにアクセスしてください。"
   ]
  },
  {
   "cell_type": "code",
   "execution_count": null,
   "metadata": {},
   "outputs": [],
   "source": [
    "hobby = {\"堅田\" : \"スラックライン\", \n",
    "         \"吉岡\" : \"ボルダリング\", \n",
    "         \"橘\": \"ボルダリング\",\n",
    "         \"成松\": \"drone\",\n",
    "         \"三好\": \"仕事\"}"
   ]
  },
  {
   "cell_type": "markdown",
   "metadata": {},
   "source": [
    "### 集合型\n",
    "* 集合型は、1つの要素しかもてない\n",
    "* 使うとしたらリストをユニークにするときなど"
   ]
  },
  {
   "cell_type": "code",
   "execution_count": null,
   "metadata": {},
   "outputs": [],
   "source": [
    "x3 = set([1,2,3,4])\n",
    "print(x3)"
   ]
  },
  {
   "cell_type": "markdown",
   "metadata": {},
   "source": [
    "以下のように重複したデータが入っている配列を集合型にすると、重複がなくなります。"
   ]
  },
  {
   "cell_type": "code",
   "execution_count": null,
   "metadata": {},
   "outputs": [],
   "source": [
    "x4 = [1,1, 2, 2, 3, 4]  #リスト\n",
    "x5 = set(x4)\n",
    "print(x5)"
   ]
  },
  {
   "cell_type": "markdown",
   "metadata": {},
   "source": [
    "### 演習:  集合型になれよう \n",
    "* [10, 10, 21, 34, 55, 56, 55] という配列を作成し、集合型に変換してください。"
   ]
  },
  {
   "cell_type": "markdown",
   "metadata": {},
   "source": [
    "### 2次元配列\n",
    "* 読んで字のごとく行列のような配列"
   ]
  },
  {
   "cell_type": "code",
   "execution_count": null,
   "metadata": {},
   "outputs": [],
   "source": [
    "x6 = [\n",
    "    [1,2,3,4],\n",
    "    [5,6,7,8],\n",
    "    [9,10,11,12]\n",
    "]\n",
    "\n",
    "print(x6)"
   ]
  },
  {
   "cell_type": "markdown",
   "metadata": {},
   "source": [
    "1行目を取り出す"
   ]
  },
  {
   "cell_type": "code",
   "execution_count": null,
   "metadata": {},
   "outputs": [],
   "source": [
    "x6[0]"
   ]
  },
  {
   "cell_type": "markdown",
   "metadata": {},
   "source": [
    "1行目2列目を取り出す"
   ]
  },
  {
   "cell_type": "code",
   "execution_count": null,
   "metadata": {},
   "outputs": [],
   "source": [
    "x6[0][1]"
   ]
  },
  {
   "cell_type": "markdown",
   "metadata": {},
   "source": [
    "### 演習: 2次元配列にアクセス\n",
    "x6の2次元配列で3行目の4列目の値を出力してください"
   ]
  },
  {
   "cell_type": "markdown",
   "metadata": {},
   "source": [
    "## ロジックを組むためのブロック\n",
    "\n",
    "* forループ\n",
    "* if~else~\n",
    "* whileループ"
   ]
  },
  {
   "cell_type": "markdown",
   "metadata": {},
   "source": [
    "### forループ\n",
    "* forループとは繰り返し処理です。\n",
    "* 例えば、配列の中に入っている各数字を10倍してprintしたいとします。もしforループを使わなければ"
   ]
  },
  {
   "cell_type": "code",
   "execution_count": null,
   "metadata": {},
   "outputs": [],
   "source": [
    "a = [1,2,3,4,5]\n",
    "\n",
    "b = a[0] * 10\n",
    "print(b)\n",
    "\n",
    "b = a[1] * 10\n",
    "print(b)\n",
    "\n",
    "b = a[2] * 10\n",
    "print(b)\n",
    "\n",
    "b = a[3] * 10\n",
    "print(b)\n",
    "\n",
    "b = a[4] * 10\n",
    "print(b)"
   ]
  },
  {
   "cell_type": "markdown",
   "metadata": {},
   "source": [
    "forループを使えば、すっきりかけます"
   ]
  },
  {
   "cell_type": "code",
   "execution_count": null,
   "metadata": {},
   "outputs": [],
   "source": [
    "for i in a:\n",
    "    b = i * 10\n",
    "    print(b)"
   ]
  },
  {
   "cell_type": "markdown",
   "metadata": {},
   "source": [
    "### 演習: 簡単なforループ\n",
    "forループを使って、[2,4,6,8,10]という配列を5倍した値を出力してください。"
   ]
  },
  {
   "cell_type": "markdown",
   "metadata": {},
   "source": [
    "* 例として0~10の数字が入った配列aがあるとします。これらの数値にそれぞれ10倍した数値をbに格納して出力します。"
   ]
  },
  {
   "cell_type": "markdown",
   "metadata": {},
   "source": [
    "aの累計を求めたい場合、どうしたら良いでしょうか？ "
   ]
  },
  {
   "cell_type": "code",
   "execution_count": null,
   "metadata": {},
   "outputs": [],
   "source": [
    "a = [0,1,2,3,4, 5, 6 ,7, 8, 9, 10]\n",
    "b = 0\n",
    "for i in a:\n",
    "    b = b + i\n",
    "    print(b)"
   ]
  },
  {
   "cell_type": "markdown",
   "metadata": {},
   "source": [
    "### 演習: 累計\n",
    "forループを使って、[2,4,6,8,10]という配列の累計を計算してください。"
   ]
  },
  {
   "cell_type": "markdown",
   "metadata": {},
   "source": [
    "forループで、printではなく、配列に結果を格納したい場合、どうすれば良いでしょうか？\n",
    "その場合は以下のような手順で行います。\n",
    "1. まず空の配列を作ります\n",
    "2. forループで回しながら、空の配列に計算結果をappendしていきます。"
   ]
  },
  {
   "cell_type": "code",
   "execution_count": null,
   "metadata": {},
   "outputs": [],
   "source": [
    "result = []\n",
    "a = [0,1,2,3,4, 5, 6 ,7, 8, 9, 10]\n",
    "for i in a:\n",
    "    b = i * 2\n",
    "    result.append(b)\n",
    "result"
   ]
  },
  {
   "cell_type": "markdown",
   "metadata": {},
   "source": [
    "### 演習: 空のリストに計算結果をためる\n",
    "forループを使って、[2,4,6,8,10]という配列を3倍した値を配列に格納してください。"
   ]
  },
  {
   "cell_type": "markdown",
   "metadata": {},
   "source": [
    "### if ~else \n",
    "* if ~ elseはある条件に従うときに特定の処理を使ったり、処理を分岐させる際に使用する\n",
    "* ここでは、配列aから1つずつ数値を取り出し、偶数は配列even_numbersに格納、奇数は配列odd_numbersに格納します。"
   ]
  },
  {
   "cell_type": "code",
   "execution_count": null,
   "metadata": {},
   "outputs": [],
   "source": [
    "result = []\n",
    "a = [0,1,2,3,4,5]\n",
    "for i in a:\n",
    "    if i%3==2:\n",
    "        result.append(i)\n",
    "result"
   ]
  },
  {
   "cell_type": "code",
   "execution_count": null,
   "metadata": {},
   "outputs": [],
   "source": [
    "a = [0,1,2,3,4,5,6,7,8,9,10]\n",
    "#偶数の値を格納するための空っぽのリスト\n",
    "even_numbers = []\n",
    "\n",
    "#奇数の値を格納するための空っぽのリスト\n",
    "odd_numbers = []\n",
    "\n",
    "for i in a:\n",
    "    if i%2==0:\n",
    "        even_numbers.append(i)\n",
    "    else:\n",
    "        odd_numbers.append(i)"
   ]
  },
  {
   "cell_type": "code",
   "execution_count": null,
   "metadata": {},
   "outputs": [],
   "source": [
    "even_numbers"
   ]
  },
  {
   "cell_type": "code",
   "execution_count": null,
   "metadata": {},
   "outputs": [],
   "source": [
    "odd_numbers"
   ]
  },
  {
   "cell_type": "markdown",
   "metadata": {},
   "source": [
    "### 演習: 空のリストに計算結果をためる\n",
    "forループを使って、[0,1,2,3,4,5,6,7,8,9,10]という配列の中で3の倍数だけ取り出して、新しい配列を作ってください。"
   ]
  },
  {
   "cell_type": "markdown",
   "metadata": {},
   "source": [
    "### インデックスでforループを回すときの必須アイテム rangeの使い方"
   ]
  },
  {
   "cell_type": "markdown",
   "metadata": {},
   "source": [
    "range与えた入力の範囲を1つずつカウントアップするときにforループと一緒に使うアイテムです。\n",
    "* rangeの書き方は、range(開始する数字, 終了する数字+1, 刻み)で指定します。\n",
    "* 開始する数字、刻みはデフォルトでそれぞれ0, １となっており、省略できます。\n",
    "* 使い方はforループと一緒に使います。"
   ]
  },
  {
   "cell_type": "markdown",
   "metadata": {},
   "source": [
    "０から９までの数字をひとつずつ出力するには、以下のように書きます。"
   ]
  },
  {
   "cell_type": "code",
   "execution_count": null,
   "metadata": {},
   "outputs": [],
   "source": [
    "for i in range(0, 10, 1):\n",
    "    print(i)"
   ]
  },
  {
   "cell_type": "markdown",
   "metadata": {},
   "source": [
    "開始する数字、刻みは省略できるので、以下のように書いても同じです。"
   ]
  },
  {
   "cell_type": "code",
   "execution_count": null,
   "metadata": {},
   "outputs": [],
   "source": [
    "for i in range(10):\n",
    "    print(i)"
   ]
  },
  {
   "cell_type": "markdown",
   "metadata": {},
   "source": [
    "### rangeの出番1 - 配列にインデックスでアクセスしたい場合\n",
    "rangeを使うと、配列の中身に対してインデックスでアクセスできますので、以下のように書くことができます。"
   ]
  },
  {
   "cell_type": "code",
   "execution_count": null,
   "metadata": {},
   "outputs": [],
   "source": [
    "a = [2, 4, 6, 8, 10, 12, 14, 16, 18]\n",
    "for i in range(9):\n",
    "    print(a[i])"
   ]
  },
  {
   "cell_type": "markdown",
   "metadata": {},
   "source": [
    "range(9)というところの9は配列の長さですので、len(a)で置き換えることができます。"
   ]
  },
  {
   "cell_type": "code",
   "execution_count": null,
   "metadata": {},
   "outputs": [],
   "source": [
    "a = [2, 4, 6, 8, 10, 12, 14, 16, 18]\n",
    "for i in range(len(a)):\n",
    "    print(a[i])"
   ]
  },
  {
   "cell_type": "markdown",
   "metadata": {},
   "source": [
    "### 演習: rangeを使ってデータを取り出してください。\n",
    "forループを使って、[0,1,2,3,4,5,6,7,8,9,10]という配列を、rangeを使ってデータを取り出してください。"
   ]
  },
  {
   "cell_type": "markdown",
   "metadata": {},
   "source": [
    "インデックスでアクセスできるため、「x番目」のときに処理を変えるといったことができます。\n",
    "例えば、奇数「番目」だけデータを取り出したいときは、以下のようにかけます。"
   ]
  },
  {
   "cell_type": "code",
   "execution_count": null,
   "metadata": {},
   "outputs": [],
   "source": [
    "a = [0,1,2,3,4,5,6,7,8,9,10]\n",
    "for i in range(len(a)):\n",
    "    if i%2==1:\n",
    "        print(a[i])"
   ]
  },
  {
   "cell_type": "markdown",
   "metadata": {},
   "source": [
    "### 演習: 偶数番目だけ取り出すには\n",
    "forループを使って、[0,1,2,3,4,5,6,7,8,9,10]という配列を、rangeを使ってデータを取り出し、偶数番目だけの取り出して、新しい配列に格納してください。"
   ]
  },
  {
   "cell_type": "markdown",
   "metadata": {},
   "source": [
    "複数の配列を同時に処理したい場合もrangeを使えば、簡単にできます。\n",
    "\n",
    "例えば、同じ長さの配列 aとbがあった場合、それぞれの要素の足し算をしたいとします。"
   ]
  },
  {
   "cell_type": "code",
   "execution_count": null,
   "metadata": {},
   "outputs": [],
   "source": [
    "a = [1,2,3,4,5]\n",
    "b = [-5,4,-3,-2,1]"
   ]
  },
  {
   "cell_type": "code",
   "execution_count": null,
   "metadata": {},
   "outputs": [],
   "source": [
    "result = []\n",
    "for i in range(len(a)):\n",
    "    c = a[i] + b[i]\n",
    "    result.append(c)\n",
    "result"
   ]
  },
  {
   "cell_type": "markdown",
   "metadata": {},
   "source": [
    "resultの中で最小の値と、そのインデックスを取得するにはどうしたら良いでしょうか？\n",
    "\n",
    "最小の値をとるときはmin関数を使います（ちなみに最大はmaxです）"
   ]
  },
  {
   "cell_type": "code",
   "execution_count": null,
   "metadata": {},
   "outputs": [],
   "source": [
    "min(result)"
   ]
  },
  {
   "cell_type": "markdown",
   "metadata": {},
   "source": [
    "### Q4: 最小のインデックスを探そう\n",
    "上記のresultの中で最小の値を探す方法を探しましょう（もちろん、目で見て数えるのではなく、プログラムにやらせてください）"
   ]
  },
  {
   "cell_type": "code",
   "execution_count": null,
   "metadata": {},
   "outputs": [],
   "source": [
    "# Enter your code here"
   ]
  },
  {
   "cell_type": "markdown",
   "metadata": {},
   "source": [
    "### Q5: 5!を計算してみましょう\n",
    "5! = 5x4x3x2x1 ですが、これをrangeを使って計算してみましょう。\n",
    "ヒントは、range(5, 0, -1)とすると、5,4,3,2,1とカウントダウンをするのを使います。"
   ]
  },
  {
   "cell_type": "code",
   "execution_count": null,
   "metadata": {},
   "outputs": [],
   "source": [
    "# Enter your code here"
   ]
  },
  {
   "cell_type": "markdown",
   "metadata": {},
   "source": [
    "## データ型について\n",
    "ネイティブのデータ型は以下の通り\n",
    "* 整数型(int)\n",
    "* 小数点型(float)\n",
    "* 文字型(str)\n",
    "* ブール型"
   ]
  },
  {
   "cell_type": "code",
   "execution_count": null,
   "metadata": {},
   "outputs": [],
   "source": [
    "type(10)"
   ]
  },
  {
   "cell_type": "code",
   "execution_count": null,
   "metadata": {},
   "outputs": [],
   "source": [
    "type(0.67)"
   ]
  },
  {
   "cell_type": "code",
   "execution_count": null,
   "metadata": {},
   "outputs": [],
   "source": [
    "type(\"こんにちは\")"
   ]
  },
  {
   "cell_type": "code",
   "execution_count": null,
   "metadata": {},
   "outputs": [],
   "source": [
    "type(True)"
   ]
  },
  {
   "cell_type": "code",
   "execution_count": null,
   "metadata": {},
   "outputs": [],
   "source": [
    "if 10 == 10:\n",
    "    print(\"同じ\")\n",
    "else:\n",
    "    print(\"違う\")"
   ]
  },
  {
   "cell_type": "markdown",
   "metadata": {},
   "source": [
    "## 関数の書き方\n",
    "プログラミングでいう関数は、処理のまとまりです。数学の関数と同じように、インプット(引数と呼んだりします）を定義し、アウトプット（返り値)までの処理を記述し、それをひとまとまりの処理として定義します。"
   ]
  },
  {
   "cell_type": "code",
   "execution_count": null,
   "metadata": {},
   "outputs": [],
   "source": [
    "def my_func(x, a):\n",
    "    y = 2*x + a\n",
    "    return y"
   ]
  },
  {
   "cell_type": "code",
   "execution_count": null,
   "metadata": {},
   "outputs": [],
   "source": [
    "my_func(x=5, a=30)"
   ]
  },
  {
   "cell_type": "markdown",
   "metadata": {},
   "source": [
    "引数の初期値を設定することができます"
   ]
  },
  {
   "cell_type": "code",
   "execution_count": null,
   "metadata": {},
   "outputs": [],
   "source": [
    "def my_func(x=5, a=5):\n",
    "    y = 2*x + a\n",
    "    return y"
   ]
  },
  {
   "cell_type": "code",
   "execution_count": null,
   "metadata": {},
   "outputs": [],
   "source": [
    "my_func()"
   ]
  },
  {
   "cell_type": "markdown",
   "metadata": {},
   "source": [
    "### 演習. greeting関数を作ろう\n",
    "名前を引数にして、「おはよう！（名前）さん」という文字列を出力する関数 greetingを作ってください"
   ]
  },
  {
   "cell_type": "code",
   "execution_count": null,
   "metadata": {},
   "outputs": [],
   "source": []
  },
  {
   "cell_type": "markdown",
   "metadata": {},
   "source": [
    "### 演習. 2つのリストの合計を出力する関数を作りましょう\n",
    "以下のv1とv2をそれぞれの要素を合計して新しいリストをforループを使って、足し算する関数 list_add を作成してください。\n",
    "期待する結果は、[3,7, 11, 15, 19]　です。"
   ]
  },
  {
   "cell_type": "code",
   "execution_count": null,
   "metadata": {},
   "outputs": [],
   "source": [
    "v1 = [2, 4 , 6, 8, 10]\n",
    "v2 = [1, 3,  5, 7,  9]"
   ]
  },
  {
   "cell_type": "code",
   "execution_count": null,
   "metadata": {},
   "outputs": [],
   "source": []
  },
  {
   "cell_type": "markdown",
   "metadata": {},
   "source": [
    "## アルゴリズム入門"
   ]
  },
  {
   "cell_type": "markdown",
   "metadata": {},
   "source": [
    "アルゴリズムとは、何かの問題を解くための手続きです。同じ問題でも、いろいろな解き方があり、効率の良さ=答えが出るまでの時間が違ったり、必要になるコンピューターのスペックが違ったりします。ここでは、アルゴリズム101とも言える、ソートについて考えてみます。\n",
    "\n",
    "### ソートとは\n",
    "ソートとは、並び替えです。例えば、\n",
    "\n",
    "[5,3,1,2,4] という配列を、[1,2,3,4,5]と昇順にしたり、[5,4,3,2,1]と降順にしたりすることです。\n",
    "\n",
    "多くの場合、プログラミング言語のビルトイン関数があったり、ライブラリがあったりします。\n",
    "Pythonにもsorted関数があります。"
   ]
  },
  {
   "cell_type": "code",
   "execution_count": null,
   "metadata": {},
   "outputs": [],
   "source": [
    "a = [5,3,1,2,4]\n",
    "sorted(a)"
   ]
  },
  {
   "cell_type": "markdown",
   "metadata": {},
   "source": [
    "では、裏側ではどのように行われているのでしょうか？\n",
    "\n",
    "ソートアルゴリズムはいくつかありますが、その中でももっとも簡単なバブルソートを紹介します。\n",
    "\n",
    "バブルソートは、隣り合う要素を比較して、並び替えたい方向と、大小関係が逆であれば、入れ替えていくアルゴリズムです。\n",
    "\n",
    "以下のようなリストがあり、昇順にしたい場合\n",
    "\n",
    "[5,3,1,2,4]\n",
    "\n",
    "一番左の5に着目します。5と、その隣の3を比較すると、\n",
    "\n",
    "[<b>3,5</b>,1,2,4]\n",
    "\n",
    "次に5, 1を比べます。ここでも逆転していますので、1,5に交換します。\n",
    "\n",
    "[3,<b>1,5</b>,2,4]\n",
    "\n",
    "次に5, 2を比べます。ここでも逆転していますので、2,5に交換します。\n",
    "\n",
    "[3,1,<b>2,5</b>,4]\n",
    "\n",
    "最後に5と4を比べます。\n",
    "\n",
    "[3,1,2,<b>4,5</b>]\n",
    "\n",
    "5は一番右まできましたね。\n",
    "上記をコードで書くと、以下のようになります。"
   ]
  },
  {
   "cell_type": "code",
   "execution_count": null,
   "metadata": {},
   "outputs": [],
   "source": [
    "a = [5,3,1,2,4]\n",
    "for i in range(0, len(a)-1):\n",
    "    if a[i] > a[i+1]:\n",
    "        b = a[i]\n",
    "        c = a[i+1]\n",
    "        a[i] = c\n",
    "        a[i+1] = b\n",
    "a"
   ]
  },
  {
   "cell_type": "markdown",
   "metadata": {},
   "source": [
    "これをなんども繰り返すと、最終的には[1,2,3,4,5]とソートした状態になります。"
   ]
  },
  {
   "cell_type": "code",
   "execution_count": null,
   "metadata": {},
   "outputs": [],
   "source": []
  }
 ],
 "metadata": {
  "kernelspec": {
   "display_name": "Python 3",
   "language": "python",
   "name": "python3"
  },
  "language_info": {
   "codemirror_mode": {
    "name": "ipython",
    "version": 3
   },
   "file_extension": ".py",
   "mimetype": "text/x-python",
   "name": "python",
   "nbconvert_exporter": "python",
   "pygments_lexer": "ipython3",
   "version": "3.7.1"
  }
 },
 "nbformat": 4,
 "nbformat_minor": 1
}
