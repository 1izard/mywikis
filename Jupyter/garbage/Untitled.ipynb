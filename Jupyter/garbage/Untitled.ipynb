{
 "cells": [
  {
   "cell_type": "code",
   "execution_count": 380,
   "metadata": {
    "ExecuteTime": {
     "end_time": "2020-01-04T06:54:26.124216Z",
     "start_time": "2020-01-04T06:54:26.101124Z"
    }
   },
   "outputs": [],
   "source": [
    "from numpy.testing import assert_array_equal\n",
    "import numpy as np\n",
    "from typing import Tuple\n",
    "from nptyping import Array\n",
    "import unittest\n",
    "import itertools\n",
    "\n",
    "\n",
    "def bat2int(bit_arr: Tuple[bool]) -> int:\n",
    "    bit_arr_str = ''.join(str(int(b)) for b in bit_arr)\n",
    "    return int(bit_arr_str, 2)\n",
    "\n",
    "\n",
    "def ba2int(bit_arr: Array[bool, 1, ...]) -> int:\n",
    "    return bat2int(bit_arr)\n",
    "\n",
    "\n",
    "def int2bastr(i: int, digit: int) -> str:\n",
    "    return f'{i:0{digit}b}'\n",
    "\n",
    "\n",
    "def bastr2bat(bit_arr_str: str) -> Tuple[bool]:\n",
    "    return tuple(bool(int(s)) for s in bit_arr_str)\n",
    "\n",
    "\n",
    "def bastr2ba(bit_arr_str: str) -> Array[bool, 1, ...]:\n",
    "    return np.array(bastr2bat(bit_arr_str))\n",
    "\n",
    "\n",
    "def int2bat(i: int, digit: int) -> Tuple[bool]:\n",
    "    return bastr2bat(int2bastr(i, digit))\n",
    "\n",
    "\n",
    "def int2ba(i: int, digit: int) -> Array[bool, 1, ...]:\n",
    "    return bastr2ba(int2bastr(i, digit))\n",
    "\n",
    "\n",
    "def gen_all_bool_patterns(length: int) -> Tuple[bool]:\n",
    "    \"\"\"Return all bool patterns. Be aware of the order of patterns.\n",
    "\n",
    "    Arguments:\n",
    "        length {int} -- bit length\n",
    "\n",
    "    Returns:\n",
    "        Tuple[Tuple[bool]] -- bool patterns (e.g, ((False, False), (False, True),\n",
    "        (True, False), (True, True)))\n",
    "    \"\"\"\n",
    "    tpls = tuple(((False, True)) for _ in range(length))\n",
    "    return tuple(itertools.product(*tpls))\n",
    "\n",
    "\n",
    "def all_assert_equal(test_case: unittest.TestCase, expecteds: Tuple, actuals: Tuple):\n",
    "    \"\"\"Exec assert equal for passed test patterns.\n",
    "\n",
    "    Arguments:\n",
    "        test_case {unittest.TestCase} -- TestUnit instance to exec assertEqual\n",
    "        expecteds {Tuple} -- expected sequence\n",
    "        actuals {Tuple} -- actual sequence\n",
    "    \"\"\"\n",
    "    for e, a in zip(expecteds, actuals):\n",
    "        test_case.assertEqual(e, a)\n",
    "\n",
    "\n",
    "def all_assert_array_equal(expecteds: Tuple[Array[bool]], actuals: Tuple[Array[bool]]):\n",
    "    for e, a in zip(expecteds, actuals):\n",
    "        assert_array_equal(e, a)\n"
   ]
  },
  {
   "cell_type": "code",
   "execution_count": 381,
   "metadata": {
    "ExecuteTime": {
     "end_time": "2020-01-04T06:54:46.016533Z",
     "start_time": "2020-01-04T06:54:45.978321Z"
    }
   },
   "outputs": [],
   "source": [
    "import numpy as np\n",
    "from nptyping import Array\n",
    "from typing import Callable\n",
    "import functools\n",
    "\n",
    "\n",
    "def NOT(x: bool) -> bool:\n",
    "    return not x\n",
    "\n",
    "\n",
    "def _AND(a: bool, b: bool) -> bool:\n",
    "    return a and b\n",
    "\n",
    "\n",
    "def AND(*xs: bool) -> bool:\n",
    "    return functools.reduce(_AND, xs)\n",
    "\n",
    "\n",
    "def _OR(a: bool, b: bool) -> bool:\n",
    "    return a or b\n",
    "\n",
    "\n",
    "def OR(*xs: bool) -> bool:\n",
    "    return functools.reduce(_OR, xs)\n",
    "\n",
    "\n",
    "def NAND(*xs: bool) -> bool:\n",
    "    return NOT(AND(*xs))\n",
    "\n",
    "\n",
    "def NOR(*xs: bool) -> bool:\n",
    "    return NOT(OR(*xs))\n",
    "\n",
    "\n",
    "def _XOR(a: bool, b: bool) -> bool:\n",
    "    return OR(AND(a, NOT(b)), AND(NOT(a), b))\n",
    "\n",
    "\n",
    "def XOR(*xs: bool) -> bool:\n",
    "    return functools.reduce(_XOR, xs)\n",
    "\n",
    "\n",
    "def HA(a: bool, b: bool) -> Array[bool, 1, 2]:\n",
    "    \"\"\"Half Adder\n",
    "\n",
    "    Arguments:\n",
    "        a {bool} -- operand a\n",
    "        b {bool} -- operand b\n",
    "\n",
    "    Returns:\n",
    "        Tuple[bool, bool] -- carry, sum\n",
    "    \"\"\"\n",
    "    c = AND(a, b)\n",
    "    s = XOR(a, b)\n",
    "    return np.array((c, s))\n",
    "\n",
    "\n",
    "def FA(cin: bool, a: bool, b: bool) -> Array[bool, 1, 2]:\n",
    "    \"\"\"Full Adder\n",
    "\n",
    "    Arguments:\n",
    "        cin {bool} -- input carry\n",
    "        a {bool} -- operand a\n",
    "        b {bool} -- operand b\n",
    "\n",
    "    Returns:\n",
    "        Array[bool, 1, 2] -- carry, sum\n",
    "    \"\"\"\n",
    "    t1_c, t1_s = HA(a, b)\n",
    "    t2_c, t2_s = HA(cin, t1_s)\n",
    "    c = OR(t2_c, t1_c)\n",
    "    return np.array((c, t2_s))\n",
    "\n",
    "\n",
    "def ALU(cin: bool, arr_a: Array[bool, 1, 4], arr_b: Array[bool, 1, 4]) \\\n",
    "        -> Array[bool, 1, 5]:\n",
    "    \"\"\"ALU: 4-bit Full Adder\n",
    "\n",
    "    Arguments:\n",
    "        cin {bool} -- input carry\n",
    "        arr_a {Array[bool, 1, 4]} -- 4-bit array as operand a\n",
    "        arr_b {Array[bool, 1, 4]} -- 4-bit array as operand b\n",
    "\n",
    "    Raises:\n",
    "        ValueError: Length of arr_a and arr_b must be 4\n",
    "\n",
    "    Returns:\n",
    "        Array[bool, 1, 5] -- 0th bit is carry, others are sums (LSB is index=1, MSB is index=5)\n",
    "    \"\"\"\n",
    "    if arr_a is None or arr_b is None or len(arr_a) != 4 or len(arr_b) != 4:\n",
    "        raise ValueError('Length of each input operands must be 4')\n",
    "\n",
    "    c = cin\n",
    "\n",
    "    def _FA():\n",
    "        nonlocal c\n",
    "        for a, b in zip(arr_a, arr_b):\n",
    "            c, s = FA(c, a, b)\n",
    "            yield s\n",
    "\n",
    "    sums = tuple(_FA())\n",
    "    return np.array((c,) + sums)\n",
    "\n",
    "\n",
    "def AR(a: bool, b: bool, c: bool, d: bool, g1_: bool, g2_: bool) -> Array[bool, 1, 16]:\n",
    "    \"\"\"Address Resolver. Convert 4-bit signal to one of 16 address for ROM.\n",
    "    e.g, Returned (True, False, ..., False) implies 0th address in ROM.\n",
    "\n",
    "    Arguments:\n",
    "        a {bool} -- 0th bit\n",
    "        b {bool} -- 1st bit\n",
    "        c {bool} -- 2nd bit\n",
    "        d {bool} -- 3rd bit\n",
    "        g1 {bool} -- must be False\n",
    "        g2 {bool} -- must be False\n",
    "\n",
    "    Returns:\n",
    "        Array[bool, 1, 16] -- Signal to spesify address of ROM (LSB is index=0)\n",
    "    \"\"\"\n",
    "    g = NOT(NAND(NOT(g1_), NOT(g2_)))\n",
    "    t0 = NOT(NAND(NOT(a), NOT(b)))\n",
    "    t1 = NOT(NAND(a, NOT(b)))\n",
    "    t2 = NOT(NAND(NOT(a), b))\n",
    "    t3 = NOT(NAND(a, b))\n",
    "    t4 = NOT(NAND(NOT(c), NOT(d)))\n",
    "    t5 = NOT(NAND(c, NOT(d)))\n",
    "    t6 = NOT(NAND(NOT(c), d))\n",
    "    t7 = NOT(NAND(c, d))\n",
    "    return np.array([NOT(NAND(g, i, j)) for i in (t4, t5, t6, t7) for j in (t0, t1, t2, t3)])\n",
    "\n",
    "\n",
    "def _MUX(a: bool, b: bool, c0: bool, c1: bool, c2: bool, c3: bool) -> bool:\n",
    "    t0 = AND(c0, NOT(a), NOT(b))\n",
    "    t1 = AND(c1, a, NOT(b))\n",
    "    t2 = AND(c2, NOT(a), b)\n",
    "    t3 = AND(c3, a, b)\n",
    "    return OR(t0, t1, t2, t3)\n",
    "\n",
    "\n",
    "def MUX(a: bool, b: bool,\n",
    "        ca: Array[bool, 1, 4], cb: Array[bool, 1, 4], cc: Array[bool, 1, 4], cd: Array[bool, 1, 4])\\\n",
    "        -> Array[bool, 1, 4]:\n",
    "    \"\"\"4-input Multiplexer\n",
    "\n",
    "    Arguments:\n",
    "        a {bool} -- select a\n",
    "        b {bool} -- select b\n",
    "        ca {Array[bool, 1, 4]} -- 1st input 4-bit array\n",
    "        cb {Array[bool, 1, 4]} -- 2nd input 4-bit array\n",
    "        cc {Array[bool, 1, 4]} -- 3rd input 4-bit array\n",
    "        cd {Array[bool, 1, 4]} -- 4th input 4-bit array\n",
    "\n",
    "    Returns:\n",
    "        Array[bool, 1, 4] -- Selected 4-bit array\n",
    "    \"\"\"\n",
    "    return np.array(tuple(_MUX(a, b, ca[i], cb[i], cc[i], cd[i]) for i in range(4)))\n",
    "\n",
    "\n",
    "def DECODER(op_arr: Array[bool, 1, 4], c_flag_: bool) -> Array[bool, 1, 6]:\n",
    "    \"\"\"Instruction Decoder\n",
    "\n",
    "    Arguments:\n",
    "        op_arr {Array[bool, 1, 4]} -- 4-bit operation code\n",
    "        c_flag_ {bool} -- negative carry flag\n",
    "\n",
    "    Returns:\n",
    "        Array[bool, 1, 6] -- [select_a, select_b, load0_, load1_, load2_, load3_]\n",
    "    \"\"\"\n",
    "    op0, op1, op2, op3 = op_arr\n",
    "    select_a = OR(op0, op3)\n",
    "    select_b = op1\n",
    "    load0_ = OR(op2, op3)\n",
    "    load1_ = OR(NOT(op2), op3)\n",
    "    load2_ = NAND(NOT(op2), op3)\n",
    "    load3_ = NAND(op2, op3, OR(op0, c_flag_))\n",
    "    return np.array((select_a, select_b, load0_, load1_, load2_, load3_))"
   ]
  },
  {
   "cell_type": "code",
   "execution_count": null,
   "metadata": {},
   "outputs": [],
   "source": [
    "def make_REGISTER(ent: bool, enp: bool) -> Callable(Array[bool, 1, 4]):\n",
    "    def COUNTER(load_: bool, state: Array[bool, 1, 4]) -> Array[bool, 1, 4]:\n",
    "        _state = state\n",
    "        while True:\n",
    "            input_arr = yield _state\n",
    "            state, _state = _state, state\n",
    "            if load_ is False:\n",
    "                state = input_arr\n",
    "            else:\n",
    "                res = ALU(_state, bastr2ba('0001'))\n",
    "                state = res[1:]\n",
    "    \n",
    "    def REGISTER(load_: bool, state: Array[bool, 1, 4]) -> Array[bool, 1, 4]:\n",
    "        _state = state\n",
    "        while True:\n",
    "            input_arr = yield _state\n",
    "            if load_ is False:\n",
    "                state, _state = _state, state\n",
    "                state = input_arr\n",
    "    \n",
    "    if ent and enp:\n",
    "        return COUNTER(False, )\n",
    "    if (ent is False) and (enp is False):\n",
    "        return REGISTER(1, )"
   ]
  },
  {
   "cell_type": "code",
   "execution_count": 49,
   "metadata": {
    "ExecuteTime": {
     "end_time": "2020-01-04T10:17:01.320902Z",
     "start_time": "2020-01-04T10:17:01.231229Z"
    }
   },
   "outputs": [
    {
     "data": {
      "text/plain": [
       "array([[0, 1, 2],\n",
       "       [3, 4, 5],\n",
       "       [6, 7, 8]])"
      ]
     },
     "execution_count": 49,
     "metadata": {},
     "output_type": "execute_result"
    }
   ],
   "source": [
    "import numpy as np\n",
    "a = np.array([[0, 1, 2], [3, 4, 5], [6, 7, 8]])\n",
    "a"
   ]
  },
  {
   "cell_type": "code",
   "execution_count": 50,
   "metadata": {
    "ExecuteTime": {
     "end_time": "2020-01-04T10:17:45.067738Z",
     "start_time": "2020-01-04T10:17:45.062319Z"
    }
   },
   "outputs": [
    {
     "data": {
      "text/plain": [
       "array([False,  True, False])"
      ]
     },
     "execution_count": 50,
     "metadata": {},
     "output_type": "execute_result"
    }
   ],
   "source": [
    "b = np.array([False, True, False])\n",
    "b"
   ]
  },
  {
   "cell_type": "code",
   "execution_count": 53,
   "metadata": {
    "ExecuteTime": {
     "end_time": "2020-01-04T10:44:04.144698Z",
     "start_time": "2020-01-04T10:44:04.140783Z"
    }
   },
   "outputs": [
    {
     "data": {
      "text/plain": [
       "array([3, 4, 5])"
      ]
     },
     "execution_count": 53,
     "metadata": {},
     "output_type": "execute_result"
    }
   ],
   "source": [
    "a[b][0]"
   ]
  },
  {
   "cell_type": "code",
   "execution_count": 52,
   "metadata": {
    "ExecuteTime": {
     "end_time": "2020-01-04T10:38:02.889498Z",
     "start_time": "2020-01-04T10:38:02.885661Z"
    }
   },
   "outputs": [
    {
     "data": {
      "text/plain": [
       "array([0, 1, 2])"
      ]
     },
     "execution_count": 52,
     "metadata": {},
     "output_type": "execute_result"
    }
   ],
   "source": [
    "a[0]"
   ]
  },
  {
   "cell_type": "code",
   "execution_count": 54,
   "metadata": {
    "ExecuteTime": {
     "end_time": "2020-01-04T15:59:33.364613Z",
     "start_time": "2020-01-04T15:59:33.361255Z"
    }
   },
   "outputs": [
    {
     "name": "stdout",
     "output_type": "stream",
     "text": [
      "False\n"
     ]
    }
   ],
   "source": [
    "load_ = False\n",
    "if load_ is False:\n",
    "    print('False')\n",
    "else:\n",
    "    print('True')"
   ]
  },
  {
   "cell_type": "code",
   "execution_count": 67,
   "metadata": {
    "ExecuteTime": {
     "end_time": "2020-01-04T18:22:11.395577Z",
     "start_time": "2020-01-04T18:22:11.392581Z"
    }
   },
   "outputs": [],
   "source": [
    "arr = np.array([False, True, False])\n",
    "a, b, c = arr"
   ]
  },
  {
   "cell_type": "code",
   "execution_count": 75,
   "metadata": {
    "ExecuteTime": {
     "end_time": "2020-01-05T05:27:37.739752Z",
     "start_time": "2020-01-05T05:27:37.734599Z"
    }
   },
   "outputs": [
    {
     "data": {
      "text/plain": [
       "(False, False, False)"
      ]
     },
     "execution_count": 75,
     "metadata": {},
     "output_type": "execute_result"
    }
   ],
   "source": [
    "t = (False,) * 3\n",
    "t"
   ]
  },
  {
   "cell_type": "code",
   "execution_count": 76,
   "metadata": {
    "ExecuteTime": {
     "end_time": "2020-01-05T05:27:46.773557Z",
     "start_time": "2020-01-05T05:27:46.766670Z"
    }
   },
   "outputs": [
    {
     "ename": "TypeError",
     "evalue": "'tuple' object does not support item assignment",
     "output_type": "error",
     "traceback": [
      "\u001b[0;31m---------------------------------------------------------------------------\u001b[0m",
      "\u001b[0;31mTypeError\u001b[0m                                 Traceback (most recent call last)",
      "\u001b[0;32m<ipython-input-76-44d4008e6e83>\u001b[0m in \u001b[0;36m<module>\u001b[0;34m\u001b[0m\n\u001b[0;32m----> 1\u001b[0;31m \u001b[0mt\u001b[0m\u001b[0;34m[\u001b[0m\u001b[0;36m1\u001b[0m\u001b[0;34m]\u001b[0m \u001b[0;34m=\u001b[0m \u001b[0;32mTrue\u001b[0m\u001b[0;34m\u001b[0m\u001b[0;34m\u001b[0m\u001b[0m\n\u001b[0m\u001b[1;32m      2\u001b[0m \u001b[0mt\u001b[0m\u001b[0;34m\u001b[0m\u001b[0;34m\u001b[0m\u001b[0m\n",
      "\u001b[0;31mTypeError\u001b[0m: 'tuple' object does not support item assignment"
     ]
    }
   ],
   "source": [
    "t[1] = True\n",
    "t"
   ]
  },
  {
   "cell_type": "code",
   "execution_count": 81,
   "metadata": {
    "ExecuteTime": {
     "end_time": "2020-01-05T05:45:41.095429Z",
     "start_time": "2020-01-05T05:45:39.944760Z"
    }
   },
   "outputs": [
    {
     "name": "stderr",
     "output_type": "stream",
     "text": [
      "100%|██████████| 100/100 [00:01<00:00, 87.37it/s]\n"
     ]
    }
   ],
   "source": [
    "from tqdm import trange\n",
    "import time\n",
    "\n",
    "for i in trange(100):\n",
    "    time.sleep(0.01)"
   ]
  },
  {
   "cell_type": "code",
   "execution_count": 1,
   "metadata": {
    "ExecuteTime": {
     "end_time": "2020-01-05T08:44:04.181166Z",
     "start_time": "2020-01-05T08:44:04.177602Z"
    }
   },
   "outputs": [],
   "source": [
    "from enum import Enum\n",
    "\n",
    "class ClockCycle(Enum):\n",
    "    NORMAL = 1\n",
    "    HIGH = 10\n",
    "    MANUAL = 0"
   ]
  },
  {
   "cell_type": "code",
   "execution_count": 6,
   "metadata": {
    "ExecuteTime": {
     "end_time": "2020-01-05T08:44:58.797459Z",
     "start_time": "2020-01-05T08:44:58.792210Z"
    }
   },
   "outputs": [
    {
     "name": "stdout",
     "output_type": "stream",
     "text": [
      "1\n",
      "10\n",
      "0\n"
     ]
    }
   ],
   "source": [
    "for i, cc in enumerate(ClockCycle):\n",
    "    print(cc.value)"
   ]
  },
  {
   "cell_type": "code",
   "execution_count": 7,
   "metadata": {
    "ExecuteTime": {
     "end_time": "2020-01-05T08:45:17.759643Z",
     "start_time": "2020-01-05T08:45:17.749780Z"
    }
   },
   "outputs": [
    {
     "data": {
      "text/plain": [
       "3"
      ]
     },
     "execution_count": 7,
     "metadata": {},
     "output_type": "execute_result"
    }
   ],
   "source": [
    "len(ClockCycle)"
   ]
  },
  {
   "cell_type": "code",
   "execution_count": 12,
   "metadata": {
    "ExecuteTime": {
     "end_time": "2020-01-05T08:49:02.710573Z",
     "start_time": "2020-01-05T08:49:02.706119Z"
    }
   },
   "outputs": [
    {
     "data": {
      "text/plain": [
       "<ClockCycle.NORMAL: 1>"
      ]
     },
     "execution_count": 12,
     "metadata": {},
     "output_type": "execute_result"
    }
   ],
   "source": [
    "cn = ClockCycle.NORMAL\n",
    "cn"
   ]
  },
  {
   "cell_type": "code",
   "execution_count": 13,
   "metadata": {
    "ExecuteTime": {
     "end_time": "2020-01-05T08:49:14.514528Z",
     "start_time": "2020-01-05T08:49:14.510493Z"
    }
   },
   "outputs": [
    {
     "data": {
      "text/plain": [
       "True"
      ]
     },
     "execution_count": 13,
     "metadata": {},
     "output_type": "execute_result"
    }
   ],
   "source": [
    "cn is ClockCycle.NORMAL"
   ]
  },
  {
   "cell_type": "code",
   "execution_count": 92,
   "metadata": {
    "ExecuteTime": {
     "end_time": "2020-01-05T06:16:19.708189Z",
     "start_time": "2020-01-05T06:16:19.703696Z"
    }
   },
   "outputs": [
    {
     "name": "stdout",
     "output_type": "stream",
     "text": [
      "0 NORMAL ClockCycle.NORMAL\n",
      "1 HIGH ClockCycle.HIGH\n",
      "2 MANUAL ClockCycle.MANUAL\n"
     ]
    }
   ],
   "source": [
    "for i, (name, member) in enumerate(ClockCycle.__members__.items()):\n",
    "    print(i, name, member)"
   ]
  },
  {
   "cell_type": "code",
   "execution_count": 94,
   "metadata": {
    "ExecuteTime": {
     "end_time": "2020-01-05T06:23:58.465239Z",
     "start_time": "2020-01-05T06:23:58.461030Z"
    }
   },
   "outputs": [
    {
     "data": {
      "text/plain": [
       "(('NORMAL', <ClockCycle.NORMAL: 1>),\n",
       " ('HIGH', <ClockCycle.HIGH: 10>),\n",
       " ('MANUAL', <ClockCycle.MANUAL: 0>))"
      ]
     },
     "execution_count": 94,
     "metadata": {},
     "output_type": "execute_result"
    }
   ],
   "source": [
    "clock_cycles = tuple(ClockCycle.__members__.items())\n",
    "clock_cycles"
   ]
  },
  {
   "cell_type": "code",
   "execution_count": 113,
   "metadata": {
    "ExecuteTime": {
     "end_time": "2020-01-05T06:33:53.175108Z",
     "start_time": "2020-01-05T06:33:53.168753Z"
    }
   },
   "outputs": [
    {
     "data": {
      "text/plain": [
       "'RUN: [0] NORMAL(1Hz)   [1] HIGH(10Hz)   [2] MANUAL  > '"
      ]
     },
     "execution_count": 113,
     "metadata": {},
     "output_type": "execute_result"
    }
   ],
   "source": [
    "input_int = -1\n",
    "while not (0 <= input_int < len(clock_cycles)):\n",
    "    menu_str = 'RUN: '\n",
    "    for i, cc in enumerate(clock_cycles):\n",
    "        menu_str += f'[{i}] {cc[0]}'\n",
    "        menu_str += f'({cc[1].value}Hz)   ' if cc[1].value > 0 else '  '\n",
    "    menu_str += '> '\n",
    "    print()"
   ]
  },
  {
   "cell_type": "code",
   "execution_count": 117,
   "metadata": {
    "ExecuteTime": {
     "end_time": "2020-01-05T06:53:46.007078Z",
     "start_time": "2020-01-05T06:53:46.001330Z"
    }
   },
   "outputs": [
    {
     "data": {
      "text/plain": [
       "re.compile(r'^[0-3]$', re.UNICODE)"
      ]
     },
     "execution_count": 117,
     "metadata": {},
     "output_type": "execute_result"
    }
   ],
   "source": [
    "import re\n",
    "length = len(clock_cycles)\n",
    "menu_num_pattern = re.compile(r'^[0-' f'{length}]$')\n",
    "menu_num_pattern"
   ]
  },
  {
   "cell_type": "code",
   "execution_count": 119,
   "metadata": {
    "ExecuteTime": {
     "end_time": "2020-01-05T06:54:38.719015Z",
     "start_time": "2020-01-05T06:54:38.713612Z"
    }
   },
   "outputs": [
    {
     "data": {
      "text/plain": [
       "<re.Match object; span=(0, 1), match='1'>"
      ]
     },
     "execution_count": 119,
     "metadata": {},
     "output_type": "execute_result"
    }
   ],
   "source": [
    "menu_num_pattern.fullmatch('1')"
   ]
  },
  {
   "cell_type": "code",
   "execution_count": 21,
   "metadata": {
    "ExecuteTime": {
     "end_time": "2020-01-05T10:02:20.354523Z",
     "start_time": "2020-01-05T10:02:20.348160Z"
    }
   },
   "outputs": [],
   "source": [
    "def DISPLAY(**kwargs):\n",
    "    print('first:{first[::-1]},,,second:{second}'.format(**kwargs))"
   ]
  },
  {
   "cell_type": "code",
   "execution_count": 22,
   "metadata": {
    "ExecuteTime": {
     "end_time": "2020-01-05T10:02:21.103544Z",
     "start_time": "2020-01-05T10:02:21.093335Z"
    }
   },
   "outputs": [
    {
     "ename": "TypeError",
     "evalue": "list indices must be integers or slices, not str",
     "output_type": "error",
     "traceback": [
      "\u001b[0;31m---------------------------------------------------------------------------\u001b[0m",
      "\u001b[0;31mTypeError\u001b[0m                                 Traceback (most recent call last)",
      "\u001b[0;32m<ipython-input-22-f45eb49b2910>\u001b[0m in \u001b[0;36m<module>\u001b[0;34m\u001b[0m\n\u001b[0;32m----> 1\u001b[0;31m \u001b[0mDISPLAY\u001b[0m\u001b[0;34m(\u001b[0m\u001b[0;34m**\u001b[0m\u001b[0;34m{\u001b[0m\u001b[0;34m'first'\u001b[0m\u001b[0;34m:\u001b[0m \u001b[0;34m[\u001b[0m\u001b[0;36m0\u001b[0m\u001b[0;34m,\u001b[0m \u001b[0;36m1\u001b[0m\u001b[0;34m,\u001b[0m \u001b[0;36m2\u001b[0m\u001b[0;34m]\u001b[0m\u001b[0;34m,\u001b[0m \u001b[0;34m'second'\u001b[0m\u001b[0;34m:\u001b[0m \u001b[0;36m2\u001b[0m\u001b[0;34m}\u001b[0m\u001b[0;34m)\u001b[0m\u001b[0;34m\u001b[0m\u001b[0;34m\u001b[0m\u001b[0m\n\u001b[0m",
      "\u001b[0;32m<ipython-input-21-5e85151ab894>\u001b[0m in \u001b[0;36mDISPLAY\u001b[0;34m(**kwargs)\u001b[0m\n\u001b[1;32m      1\u001b[0m \u001b[0;32mdef\u001b[0m \u001b[0mDISPLAY\u001b[0m\u001b[0;34m(\u001b[0m\u001b[0;34m**\u001b[0m\u001b[0mkwargs\u001b[0m\u001b[0;34m)\u001b[0m\u001b[0;34m:\u001b[0m\u001b[0;34m\u001b[0m\u001b[0;34m\u001b[0m\u001b[0m\n\u001b[0;32m----> 2\u001b[0;31m     \u001b[0mprint\u001b[0m\u001b[0;34m(\u001b[0m\u001b[0;34m'first:{first[::-1]},,,second:{second}'\u001b[0m\u001b[0;34m.\u001b[0m\u001b[0mformat\u001b[0m\u001b[0;34m(\u001b[0m\u001b[0;34m**\u001b[0m\u001b[0mkwargs\u001b[0m\u001b[0;34m)\u001b[0m\u001b[0;34m)\u001b[0m\u001b[0;34m\u001b[0m\u001b[0;34m\u001b[0m\u001b[0m\n\u001b[0m",
      "\u001b[0;31mTypeError\u001b[0m: list indices must be integers or slices, not str"
     ]
    }
   ],
   "source": [
    "DISPLAY(**{'first': [0, 1, 2], 'second': 2})"
   ]
  },
  {
   "cell_type": "code",
   "execution_count": 23,
   "metadata": {
    "ExecuteTime": {
     "end_time": "2020-01-05T13:51:36.532317Z",
     "start_time": "2020-01-05T13:51:36.528037Z"
    }
   },
   "outputs": [
    {
     "data": {
      "text/plain": [
       "0.1"
      ]
     },
     "execution_count": 23,
     "metadata": {},
     "output_type": "execute_result"
    }
   ],
   "source": [
    "1 / 10"
   ]
  },
  {
   "cell_type": "code",
   "execution_count": null,
   "metadata": {},
   "outputs": [],
   "source": []
  }
 ],
 "metadata": {
  "kernelspec": {
   "display_name": "Python 3",
   "language": "python",
   "name": "python3"
  },
  "language_info": {
   "codemirror_mode": {
    "name": "ipython",
    "version": 3
   },
   "file_extension": ".py",
   "mimetype": "text/x-python",
   "name": "python",
   "nbconvert_exporter": "python",
   "pygments_lexer": "ipython3",
   "version": "3.7.2"
  }
 },
 "nbformat": 4,
 "nbformat_minor": 2
}
